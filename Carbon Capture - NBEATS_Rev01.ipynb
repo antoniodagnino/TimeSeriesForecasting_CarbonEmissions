{
 "cells": [
  {
   "cell_type": "markdown",
   "metadata": {},
   "source": [
    "# Carbon Capture - NBEATS\n",
    "\n",
    "- Exploratory Data Analysis\n",
    "    - Data Overview\n",
    "    - Feature Engineering\n",
    "    - Pre-Processing\n",
    "- Data Modeling\n",
    "    - Create NBEATS instance (a generic model for all time-series)\n",
    "    - Fit the model with all time-series in df\n",
    "    - Save / load model for future use\n",
    "    - Forecast on some locations and plot results\n",
    "    - Create Predictions dataframe\n",
    "    - Feature Engineering predictions dataframe\n",
    "- Forecasting with TEST dataset\n",
    "    - Import Test Dataset\n",
    "    - Feature Engineering on test dataset\n",
    "    - Match encoded location from df on test dataset\n",
    "    - Join predictions based on location and date\n",
    "    - Export Resuts"
   ]
  },
  {
   "cell_type": "markdown",
   "metadata": {},
   "source": [
    "### EDA: Data overview"
   ]
  },
  {
   "cell_type": "code",
   "execution_count": 1,
   "metadata": {},
   "outputs": [],
   "source": [
    "import numpy as np\n",
    "import pandas as pd\n",
    "import matplotlib.pyplot as plt\n",
    "import seaborn as sns\n",
    "import os\n",
    "# Load specific forecasting tools\n",
    "from darts import TimeSeries\n",
    "from darts.models import NBEATSModel\n",
    "from sklearn.preprocessing import LabelEncoder\n",
    "from darts.dataprocessing.transformers import Scaler\n",
    "import time\n",
    "from pylab import rcParams\n",
    "import datetime\n",
    "\n",
    "# Ignore harmless warnings\n",
    "import warnings\n",
    "warnings.filterwarnings(\"ignore\")\n",
    "# Size of all plots\n",
    "rcParams['figure.figsize'] = 12,6"
   ]
  },
  {
   "cell_type": "code",
   "execution_count": 2,
   "metadata": {},
   "outputs": [],
   "source": [
    "df_raw = pd.read_csv('train.csv',index_col=0)"
   ]
  },
  {
   "cell_type": "code",
   "execution_count": 3,
   "metadata": {},
   "outputs": [
    {
     "data": {
      "text/html": [
       "<div>\n",
       "<style scoped>\n",
       "    .dataframe tbody tr th:only-of-type {\n",
       "        vertical-align: middle;\n",
       "    }\n",
       "\n",
       "    .dataframe tbody tr th {\n",
       "        vertical-align: top;\n",
       "    }\n",
       "\n",
       "    .dataframe thead th {\n",
       "        text-align: right;\n",
       "    }\n",
       "</style>\n",
       "<table border=\"1\" class=\"dataframe\">\n",
       "  <thead>\n",
       "    <tr style=\"text-align: right;\">\n",
       "      <th></th>\n",
       "      <th>month</th>\n",
       "      <th>year</th>\n",
       "      <th>latitude</th>\n",
       "      <th>longitude</th>\n",
       "      <th>co2</th>\n",
       "    </tr>\n",
       "  </thead>\n",
       "  <tbody>\n",
       "    <tr>\n",
       "      <th>384</th>\n",
       "      <td>0</td>\n",
       "      <td>2000</td>\n",
       "      <td>35.1</td>\n",
       "      <td>-114.5</td>\n",
       "      <td>24.550266</td>\n",
       "    </tr>\n",
       "    <tr>\n",
       "      <th>421</th>\n",
       "      <td>0</td>\n",
       "      <td>2000</td>\n",
       "      <td>33.3</td>\n",
       "      <td>-112.8</td>\n",
       "      <td>4.388263</td>\n",
       "    </tr>\n",
       "    <tr>\n",
       "      <th>426</th>\n",
       "      <td>0</td>\n",
       "      <td>2000</td>\n",
       "      <td>39.5</td>\n",
       "      <td>-112.5</td>\n",
       "      <td>13.314685</td>\n",
       "    </tr>\n",
       "    <tr>\n",
       "      <th>466</th>\n",
       "      <td>0</td>\n",
       "      <td>2000</td>\n",
       "      <td>36.9</td>\n",
       "      <td>-111.3</td>\n",
       "      <td>16.433954</td>\n",
       "    </tr>\n",
       "    <tr>\n",
       "      <th>470</th>\n",
       "      <td>0</td>\n",
       "      <td>2000</td>\n",
       "      <td>39.1</td>\n",
       "      <td>-111.1</td>\n",
       "      <td>10.039619</td>\n",
       "    </tr>\n",
       "  </tbody>\n",
       "</table>\n",
       "</div>"
      ],
      "text/plain": [
       "     month  year  latitude  longitude        co2\n",
       "384      0  2000      35.1     -114.5  24.550266\n",
       "421      0  2000      33.3     -112.8   4.388263\n",
       "426      0  2000      39.5     -112.5  13.314685\n",
       "466      0  2000      36.9     -111.3  16.433954\n",
       "470      0  2000      39.1     -111.1  10.039619"
      ]
     },
     "execution_count": 3,
     "metadata": {},
     "output_type": "execute_result"
    }
   ],
   "source": [
    "df_raw.head()"
   ]
  },
  {
   "cell_type": "code",
   "execution_count": 4,
   "metadata": {},
   "outputs": [
    {
     "name": "stdout",
     "output_type": "stream",
     "text": [
      "<class 'pandas.core.frame.DataFrame'>\n",
      "Int64Index: 36276 entries, 384 to 3957963\n",
      "Data columns (total 5 columns):\n",
      " #   Column     Non-Null Count  Dtype  \n",
      "---  ------     --------------  -----  \n",
      " 0   month      36276 non-null  int64  \n",
      " 1   year       36276 non-null  int64  \n",
      " 2   latitude   36276 non-null  float64\n",
      " 3   longitude  36276 non-null  float64\n",
      " 4   co2        36276 non-null  float64\n",
      "dtypes: float64(3), int64(2)\n",
      "memory usage: 1.7 MB\n"
     ]
    }
   ],
   "source": [
    "df_raw.info()"
   ]
  },
  {
   "cell_type": "code",
   "execution_count": 5,
   "metadata": {},
   "outputs": [
    {
     "data": {
      "text/plain": [
       "array([2000, 2001, 2002, 2003, 2004, 2005, 2006, 2007, 2008, 2009, 2010,\n",
       "       2011, 2012, 2013, 2014, 2015, 2016, 2017, 2018, 2019], dtype=int64)"
      ]
     },
     "execution_count": 5,
     "metadata": {},
     "output_type": "execute_result"
    }
   ],
   "source": [
    "df_raw.year.unique()"
   ]
  },
  {
   "cell_type": "code",
   "execution_count": 6,
   "metadata": {},
   "outputs": [
    {
     "data": {
      "text/plain": [
       "array([ 0,  1,  2,  3,  4,  5,  6,  7,  8,  9, 10, 11], dtype=int64)"
      ]
     },
     "execution_count": 6,
     "metadata": {},
     "output_type": "execute_result"
    }
   ],
   "source": [
    "df_raw.month.unique()"
   ]
  },
  {
   "cell_type": "markdown",
   "metadata": {},
   "source": [
    "### EDA: Feature Engineering"
   ]
  },
  {
   "cell_type": "code",
   "execution_count": 7,
   "metadata": {},
   "outputs": [],
   "source": [
    "df = df_raw.copy()"
   ]
  },
  {
   "cell_type": "code",
   "execution_count": 8,
   "metadata": {},
   "outputs": [],
   "source": [
    "# Adding day column for date\n",
    "df['day'] = 1\n",
    "\n",
    "# Adding 1 to month to make sure it is ranging from 1-12\n",
    "df['month'] = df['month']+ 1"
   ]
  },
  {
   "cell_type": "code",
   "execution_count": 9,
   "metadata": {},
   "outputs": [],
   "source": [
    "# Create column in datetime data type\n",
    "df['date'] = pd.to_datetime(df[['year','month','day']])"
   ]
  },
  {
   "cell_type": "code",
   "execution_count": 10,
   "metadata": {},
   "outputs": [],
   "source": [
    "# Create a column with tuple containing latitude and longitude together\n",
    "df['lat_long'] = list(zip(df['latitude'], df['longitude']))"
   ]
  },
  {
   "cell_type": "code",
   "execution_count": 11,
   "metadata": {},
   "outputs": [
    {
     "data": {
      "text/plain": [
       "153"
      ]
     },
     "execution_count": 11,
     "metadata": {},
     "output_type": "execute_result"
    }
   ],
   "source": [
    "df['lat_long'].nunique()"
   ]
  },
  {
   "cell_type": "code",
   "execution_count": 12,
   "metadata": {},
   "outputs": [],
   "source": [
    "# drop unnecesary / redundant data \n",
    "df.drop(labels=['month','year','day','longitude','latitude'],axis=1,inplace=True)"
   ]
  },
  {
   "cell_type": "code",
   "execution_count": 13,
   "metadata": {},
   "outputs": [
    {
     "data": {
      "text/html": [
       "<div>\n",
       "<style scoped>\n",
       "    .dataframe tbody tr th:only-of-type {\n",
       "        vertical-align: middle;\n",
       "    }\n",
       "\n",
       "    .dataframe tbody tr th {\n",
       "        vertical-align: top;\n",
       "    }\n",
       "\n",
       "    .dataframe thead th {\n",
       "        text-align: right;\n",
       "    }\n",
       "</style>\n",
       "<table border=\"1\" class=\"dataframe\">\n",
       "  <thead>\n",
       "    <tr style=\"text-align: right;\">\n",
       "      <th></th>\n",
       "      <th>co2</th>\n",
       "      <th>date</th>\n",
       "      <th>lat_long</th>\n",
       "    </tr>\n",
       "  </thead>\n",
       "  <tbody>\n",
       "    <tr>\n",
       "      <th>384</th>\n",
       "      <td>24.550266</td>\n",
       "      <td>2000-01-01</td>\n",
       "      <td>(35.1, -114.5)</td>\n",
       "    </tr>\n",
       "    <tr>\n",
       "      <th>421</th>\n",
       "      <td>4.388263</td>\n",
       "      <td>2000-01-01</td>\n",
       "      <td>(33.3, -112.8)</td>\n",
       "    </tr>\n",
       "    <tr>\n",
       "      <th>426</th>\n",
       "      <td>13.314685</td>\n",
       "      <td>2000-01-01</td>\n",
       "      <td>(39.5, -112.5)</td>\n",
       "    </tr>\n",
       "    <tr>\n",
       "      <th>466</th>\n",
       "      <td>16.433954</td>\n",
       "      <td>2000-01-01</td>\n",
       "      <td>(36.9, -111.3)</td>\n",
       "    </tr>\n",
       "    <tr>\n",
       "      <th>470</th>\n",
       "      <td>10.039619</td>\n",
       "      <td>2000-01-01</td>\n",
       "      <td>(39.1, -111.1)</td>\n",
       "    </tr>\n",
       "  </tbody>\n",
       "</table>\n",
       "</div>"
      ],
      "text/plain": [
       "           co2       date        lat_long\n",
       "384  24.550266 2000-01-01  (35.1, -114.5)\n",
       "421   4.388263 2000-01-01  (33.3, -112.8)\n",
       "426  13.314685 2000-01-01  (39.5, -112.5)\n",
       "466  16.433954 2000-01-01  (36.9, -111.3)\n",
       "470  10.039619 2000-01-01  (39.1, -111.1)"
      ]
     },
     "execution_count": 13,
     "metadata": {},
     "output_type": "execute_result"
    }
   ],
   "source": [
    "df.head()"
   ]
  },
  {
   "cell_type": "code",
   "execution_count": 14,
   "metadata": {},
   "outputs": [],
   "source": [
    "# pivot dataset to have better appreciation of all time-series per location\n",
    "df_pivot = df.pivot(index='date', columns = 'lat_long', values='co2')\n",
    "df_pivot = df_pivot.sort_index()"
   ]
  },
  {
   "cell_type": "code",
   "execution_count": 15,
   "metadata": {},
   "outputs": [],
   "source": [
    "# Set Date frquency to Monthly Data\n",
    "freq_time = 'MS' \n",
    "df_pivot = df_pivot.resample(freq_time).mean()\n",
    "df_pivot.index.freq = freq_time"
   ]
  },
  {
   "cell_type": "code",
   "execution_count": 16,
   "metadata": {},
   "outputs": [
    {
     "data": {
      "text/html": [
       "<div>\n",
       "<style scoped>\n",
       "    .dataframe tbody tr th:only-of-type {\n",
       "        vertical-align: middle;\n",
       "    }\n",
       "\n",
       "    .dataframe tbody tr th {\n",
       "        vertical-align: top;\n",
       "    }\n",
       "\n",
       "    .dataframe thead th {\n",
       "        text-align: right;\n",
       "    }\n",
       "</style>\n",
       "<table border=\"1\" class=\"dataframe\">\n",
       "  <thead>\n",
       "    <tr style=\"text-align: right;\">\n",
       "      <th>lat_long</th>\n",
       "      <th>(25.8, -97.8)</th>\n",
       "      <th>(26.6, -81.7)</th>\n",
       "      <th>(27.0, -80.5)</th>\n",
       "      <th>(27.6, -82.3)</th>\n",
       "      <th>(27.7, -82.4)</th>\n",
       "      <th>(27.9, -82.4)</th>\n",
       "      <th>(28.3, -100.8)</th>\n",
       "      <th>(28.4, -81.1)</th>\n",
       "      <th>(28.8, -81.3)</th>\n",
       "      <th>(29.0, -110.9)</th>\n",
       "      <th>...</th>\n",
       "      <th>(45.8, -106.6)</th>\n",
       "      <th>(47.0, -101.2)</th>\n",
       "      <th>(47.2, -101.3)</th>\n",
       "      <th>(47.2, -93.6)</th>\n",
       "      <th>(47.3, -101.8)</th>\n",
       "      <th>(47.3, -101.1)</th>\n",
       "      <th>(47.9, -65.9)</th>\n",
       "      <th>(49.0, -105.4)</th>\n",
       "      <th>(49.0, -103.0)</th>\n",
       "      <th>(49.0, -102.8)</th>\n",
       "    </tr>\n",
       "    <tr>\n",
       "      <th>date</th>\n",
       "      <th></th>\n",
       "      <th></th>\n",
       "      <th></th>\n",
       "      <th></th>\n",
       "      <th></th>\n",
       "      <th></th>\n",
       "      <th></th>\n",
       "      <th></th>\n",
       "      <th></th>\n",
       "      <th></th>\n",
       "      <th></th>\n",
       "      <th></th>\n",
       "      <th></th>\n",
       "      <th></th>\n",
       "      <th></th>\n",
       "      <th></th>\n",
       "      <th></th>\n",
       "      <th></th>\n",
       "      <th></th>\n",
       "      <th></th>\n",
       "      <th></th>\n",
       "    </tr>\n",
       "  </thead>\n",
       "  <tbody>\n",
       "    <tr>\n",
       "      <th>2000-01-01</th>\n",
       "      <td>4.024838</td>\n",
       "      <td>4.076302</td>\n",
       "      <td>8.681103</td>\n",
       "      <td>4.254332</td>\n",
       "      <td>8.166128</td>\n",
       "      <td>2.724895</td>\n",
       "      <td>4.902469</td>\n",
       "      <td>5.893239</td>\n",
       "      <td>5.733449</td>\n",
       "      <td>2.431313</td>\n",
       "      <td>...</td>\n",
       "      <td>18.777016</td>\n",
       "      <td>6.443851</td>\n",
       "      <td>5.556982</td>\n",
       "      <td>7.820921</td>\n",
       "      <td>7.988350</td>\n",
       "      <td>11.437829</td>\n",
       "      <td>6.611117</td>\n",
       "      <td>11.044418</td>\n",
       "      <td>16.489307</td>\n",
       "      <td>5.585770</td>\n",
       "    </tr>\n",
       "    <tr>\n",
       "      <th>2000-02-01</th>\n",
       "      <td>3.857137</td>\n",
       "      <td>3.475400</td>\n",
       "      <td>7.401391</td>\n",
       "      <td>3.627186</td>\n",
       "      <td>6.962330</td>\n",
       "      <td>2.323208</td>\n",
       "      <td>4.698199</td>\n",
       "      <td>5.024495</td>\n",
       "      <td>4.888261</td>\n",
       "      <td>2.330008</td>\n",
       "      <td>...</td>\n",
       "      <td>16.009029</td>\n",
       "      <td>5.493940</td>\n",
       "      <td>4.737808</td>\n",
       "      <td>6.668012</td>\n",
       "      <td>6.810759</td>\n",
       "      <td>9.751738</td>\n",
       "      <td>6.611117</td>\n",
       "      <td>10.237016</td>\n",
       "      <td>15.283857</td>\n",
       "      <td>5.177423</td>\n",
       "    </tr>\n",
       "    <tr>\n",
       "      <th>2000-03-01</th>\n",
       "      <td>3.521733</td>\n",
       "      <td>3.406172</td>\n",
       "      <td>7.253960</td>\n",
       "      <td>3.554935</td>\n",
       "      <td>6.823645</td>\n",
       "      <td>2.276932</td>\n",
       "      <td>4.289660</td>\n",
       "      <td>4.924411</td>\n",
       "      <td>4.790890</td>\n",
       "      <td>2.127399</td>\n",
       "      <td>...</td>\n",
       "      <td>15.690140</td>\n",
       "      <td>5.384504</td>\n",
       "      <td>4.643434</td>\n",
       "      <td>6.535189</td>\n",
       "      <td>6.675093</td>\n",
       "      <td>9.557490</td>\n",
       "      <td>6.611117</td>\n",
       "      <td>10.233405</td>\n",
       "      <td>15.278464</td>\n",
       "      <td>5.175596</td>\n",
       "    </tr>\n",
       "    <tr>\n",
       "      <th>2000-04-01</th>\n",
       "      <td>3.354032</td>\n",
       "      <td>3.071030</td>\n",
       "      <td>6.540224</td>\n",
       "      <td>3.205155</td>\n",
       "      <td>6.152249</td>\n",
       "      <td>2.052898</td>\n",
       "      <td>4.085391</td>\n",
       "      <td>4.439885</td>\n",
       "      <td>4.319502</td>\n",
       "      <td>2.026094</td>\n",
       "      <td>...</td>\n",
       "      <td>14.146346</td>\n",
       "      <td>4.854709</td>\n",
       "      <td>4.186555</td>\n",
       "      <td>5.892175</td>\n",
       "      <td>6.018313</td>\n",
       "      <td>8.617104</td>\n",
       "      <td>6.611117</td>\n",
       "      <td>8.750677</td>\n",
       "      <td>13.064754</td>\n",
       "      <td>4.425699</td>\n",
       "    </tr>\n",
       "    <tr>\n",
       "      <th>2000-05-01</th>\n",
       "      <td>3.018629</td>\n",
       "      <td>3.443486</td>\n",
       "      <td>7.333427</td>\n",
       "      <td>3.593878</td>\n",
       "      <td>6.898398</td>\n",
       "      <td>2.301875</td>\n",
       "      <td>3.676852</td>\n",
       "      <td>4.978357</td>\n",
       "      <td>4.843374</td>\n",
       "      <td>1.823485</td>\n",
       "      <td>...</td>\n",
       "      <td>15.862024</td>\n",
       "      <td>5.443491</td>\n",
       "      <td>4.694303</td>\n",
       "      <td>6.606781</td>\n",
       "      <td>6.748218</td>\n",
       "      <td>9.662191</td>\n",
       "      <td>6.611117</td>\n",
       "      <td>8.377229</td>\n",
       "      <td>12.507195</td>\n",
       "      <td>4.236826</td>\n",
       "    </tr>\n",
       "  </tbody>\n",
       "</table>\n",
       "<p>5 rows × 153 columns</p>\n",
       "</div>"
      ],
      "text/plain": [
       "lat_long    (25.8, -97.8)  (26.6, -81.7)  (27.0, -80.5)  (27.6, -82.3)  \\\n",
       "date                                                                     \n",
       "2000-01-01       4.024838       4.076302       8.681103       4.254332   \n",
       "2000-02-01       3.857137       3.475400       7.401391       3.627186   \n",
       "2000-03-01       3.521733       3.406172       7.253960       3.554935   \n",
       "2000-04-01       3.354032       3.071030       6.540224       3.205155   \n",
       "2000-05-01       3.018629       3.443486       7.333427       3.593878   \n",
       "\n",
       "lat_long    (27.7, -82.4)  (27.9, -82.4)  (28.3, -100.8)  (28.4, -81.1)  \\\n",
       "date                                                                      \n",
       "2000-01-01       8.166128       2.724895        4.902469       5.893239   \n",
       "2000-02-01       6.962330       2.323208        4.698199       5.024495   \n",
       "2000-03-01       6.823645       2.276932        4.289660       4.924411   \n",
       "2000-04-01       6.152249       2.052898        4.085391       4.439885   \n",
       "2000-05-01       6.898398       2.301875        3.676852       4.978357   \n",
       "\n",
       "lat_long    (28.8, -81.3)  (29.0, -110.9)  ...  (45.8, -106.6)  \\\n",
       "date                                       ...                   \n",
       "2000-01-01       5.733449        2.431313  ...       18.777016   \n",
       "2000-02-01       4.888261        2.330008  ...       16.009029   \n",
       "2000-03-01       4.790890        2.127399  ...       15.690140   \n",
       "2000-04-01       4.319502        2.026094  ...       14.146346   \n",
       "2000-05-01       4.843374        1.823485  ...       15.862024   \n",
       "\n",
       "lat_long    (47.0, -101.2)  (47.2, -101.3)  (47.2, -93.6)  (47.3, -101.8)  \\\n",
       "date                                                                        \n",
       "2000-01-01        6.443851        5.556982       7.820921        7.988350   \n",
       "2000-02-01        5.493940        4.737808       6.668012        6.810759   \n",
       "2000-03-01        5.384504        4.643434       6.535189        6.675093   \n",
       "2000-04-01        4.854709        4.186555       5.892175        6.018313   \n",
       "2000-05-01        5.443491        4.694303       6.606781        6.748218   \n",
       "\n",
       "lat_long    (47.3, -101.1)  (47.9, -65.9)  (49.0, -105.4)  (49.0, -103.0)  \\\n",
       "date                                                                        \n",
       "2000-01-01       11.437829       6.611117       11.044418       16.489307   \n",
       "2000-02-01        9.751738       6.611117       10.237016       15.283857   \n",
       "2000-03-01        9.557490       6.611117       10.233405       15.278464   \n",
       "2000-04-01        8.617104       6.611117        8.750677       13.064754   \n",
       "2000-05-01        9.662191       6.611117        8.377229       12.507195   \n",
       "\n",
       "lat_long    (49.0, -102.8)  \n",
       "date                        \n",
       "2000-01-01        5.585770  \n",
       "2000-02-01        5.177423  \n",
       "2000-03-01        5.175596  \n",
       "2000-04-01        4.425699  \n",
       "2000-05-01        4.236826  \n",
       "\n",
       "[5 rows x 153 columns]"
      ]
     },
     "execution_count": 16,
     "metadata": {},
     "output_type": "execute_result"
    }
   ],
   "source": [
    "df_pivot.head()"
   ]
  },
  {
   "cell_type": "code",
   "execution_count": 17,
   "metadata": {},
   "outputs": [
    {
     "data": {
      "image/png": "[encoded data removed]",
      "text/plain": [
       "<Figure size 864x432 with 1 Axes>"
      ]
     },
     "metadata": {
      "needs_background": "light"
     },
     "output_type": "display_data"
    }
   ],
   "source": [
    "#Use heatmap to identify mising data\n",
    "ax = plt.axes()\n",
    "ax.set_title('Check for Missing Data')\n",
    "sns.heatmap(df_pivot.isnull(),yticklabels=False,cbar=False,cmap='viridis',ax=ax);"
   ]
  },
  {
   "cell_type": "code",
   "execution_count": 18,
   "metadata": {},
   "outputs": [
    {
     "data": {
      "text/plain": [
       "lat_long\n",
       "(35.1, -114.5)    156\n",
       "(31.4, -96.2)      96\n",
       "(37.1, -88.7)      96\n",
       "(27.7, -82.4)      96\n",
       "(36.2, -80.0)       0\n",
       "(36.6, -108.4)      0\n",
       "(36.5, -89.5)       0\n",
       "(36.4, -79.0)       0\n",
       "(36.4, -97.0)       0\n",
       "(36.3, -86.4)       0\n",
       "dtype: int64"
      ]
     },
     "execution_count": 18,
     "metadata": {},
     "output_type": "execute_result"
    }
   ],
   "source": [
    "df_pivot.isnull().sum().sort_values(ascending=False).head(10)"
   ]
  },
  {
   "cell_type": "code",
   "execution_count": 19,
   "metadata": {},
   "outputs": [
    {
     "data": {
      "image/png": "[encoded data removed]",
      "text/plain": [
       "<Figure size 864x432 with 1 Axes>"
      ]
     },
     "metadata": {
      "needs_background": "light"
     },
     "output_type": "display_data"
    }
   ],
   "source": [
    "df_pivot[(35.1, -114.5)].plot()\n",
    "df_pivot[(31.4, -96.2)].plot()\n",
    "df_pivot[(37.1, -88.7)].plot()\n",
    "df_pivot[(27.7, -82.4)].plot()\n",
    "plt.legend(title='Location')\n",
    "plt.title('Missing Data in some Locations');"
   ]
  },
  {
   "cell_type": "code",
   "execution_count": 20,
   "metadata": {},
   "outputs": [],
   "source": [
    "#Remove locations with missing data\n",
    "df_pivot.drop(labels=[(35.1, -114.5),\n",
    "                     (31.4, -96.2),\n",
    "                     (37.1, -88.7),\n",
    "                     (27.7, -82.4)],axis=1,inplace=True)"
   ]
  },
  {
   "cell_type": "code",
   "execution_count": 21,
   "metadata": {},
   "outputs": [
    {
     "data": {
      "text/plain": [
       "lat_long\n",
       "(49.0, -102.8)    0\n",
       "(36.9, -111.3)    0\n",
       "(36.8, -108.4)    0\n",
       "(36.6, -108.4)    0\n",
       "(36.5, -89.5)     0\n",
       "(36.4, -79.0)     0\n",
       "(36.4, -97.0)     0\n",
       "(36.3, -86.4)     0\n",
       "(36.3, -87.6)     0\n",
       "(36.2, -80.0)     0\n",
       "dtype: int64"
      ]
     },
     "execution_count": 21,
     "metadata": {},
     "output_type": "execute_result"
    }
   ],
   "source": [
    "df_pivot.isnull().sum().sort_values(ascending=False).head(10)"
   ]
  },
  {
   "cell_type": "code",
   "execution_count": 22,
   "metadata": {},
   "outputs": [],
   "source": [
    "# df without null values.\n",
    "df = df_pivot.melt(var_name='lat_long',value_name='co2',ignore_index=False)"
   ]
  },
  {
   "cell_type": "code",
   "execution_count": 23,
   "metadata": {},
   "outputs": [
    {
     "data": {
      "text/html": [
       "<div>\n",
       "<style scoped>\n",
       "    .dataframe tbody tr th:only-of-type {\n",
       "        vertical-align: middle;\n",
       "    }\n",
       "\n",
       "    .dataframe tbody tr th {\n",
       "        vertical-align: top;\n",
       "    }\n",
       "\n",
       "    .dataframe thead th {\n",
       "        text-align: right;\n",
       "    }\n",
       "</style>\n",
       "<table border=\"1\" class=\"dataframe\">\n",
       "  <thead>\n",
       "    <tr style=\"text-align: right;\">\n",
       "      <th></th>\n",
       "      <th>lat_long</th>\n",
       "      <th>co2</th>\n",
       "    </tr>\n",
       "    <tr>\n",
       "      <th>date</th>\n",
       "      <th></th>\n",
       "      <th></th>\n",
       "    </tr>\n",
       "  </thead>\n",
       "  <tbody>\n",
       "    <tr>\n",
       "      <th>2000-01-01</th>\n",
       "      <td>(25.8, -97.8)</td>\n",
       "      <td>4.024838</td>\n",
       "    </tr>\n",
       "    <tr>\n",
       "      <th>2000-02-01</th>\n",
       "      <td>(25.8, -97.8)</td>\n",
       "      <td>3.857137</td>\n",
       "    </tr>\n",
       "    <tr>\n",
       "      <th>2000-03-01</th>\n",
       "      <td>(25.8, -97.8)</td>\n",
       "      <td>3.521733</td>\n",
       "    </tr>\n",
       "    <tr>\n",
       "      <th>2000-04-01</th>\n",
       "      <td>(25.8, -97.8)</td>\n",
       "      <td>3.354032</td>\n",
       "    </tr>\n",
       "    <tr>\n",
       "      <th>2000-05-01</th>\n",
       "      <td>(25.8, -97.8)</td>\n",
       "      <td>3.018629</td>\n",
       "    </tr>\n",
       "    <tr>\n",
       "      <th>...</th>\n",
       "      <td>...</td>\n",
       "      <td>...</td>\n",
       "    </tr>\n",
       "    <tr>\n",
       "      <th>2019-08-01</th>\n",
       "      <td>(49.0, -102.8)</td>\n",
       "      <td>3.691653</td>\n",
       "    </tr>\n",
       "    <tr>\n",
       "      <th>2019-09-01</th>\n",
       "      <td>(49.0, -102.8)</td>\n",
       "      <td>3.358604</td>\n",
       "    </tr>\n",
       "    <tr>\n",
       "      <th>2019-10-01</th>\n",
       "      <td>(49.0, -102.8)</td>\n",
       "      <td>3.460907</td>\n",
       "    </tr>\n",
       "    <tr>\n",
       "      <th>2019-11-01</th>\n",
       "      <td>(49.0, -102.8)</td>\n",
       "      <td>3.682119</td>\n",
       "    </tr>\n",
       "    <tr>\n",
       "      <th>2019-12-01</th>\n",
       "      <td>(49.0, -102.8)</td>\n",
       "      <td>4.003061</td>\n",
       "    </tr>\n",
       "  </tbody>\n",
       "</table>\n",
       "<p>35760 rows × 2 columns</p>\n",
       "</div>"
      ],
      "text/plain": [
       "                  lat_long       co2\n",
       "date                                \n",
       "2000-01-01   (25.8, -97.8)  4.024838\n",
       "2000-02-01   (25.8, -97.8)  3.857137\n",
       "2000-03-01   (25.8, -97.8)  3.521733\n",
       "2000-04-01   (25.8, -97.8)  3.354032\n",
       "2000-05-01   (25.8, -97.8)  3.018629\n",
       "...                    ...       ...\n",
       "2019-08-01  (49.0, -102.8)  3.691653\n",
       "2019-09-01  (49.0, -102.8)  3.358604\n",
       "2019-10-01  (49.0, -102.8)  3.460907\n",
       "2019-11-01  (49.0, -102.8)  3.682119\n",
       "2019-12-01  (49.0, -102.8)  4.003061\n",
       "\n",
       "[35760 rows x 2 columns]"
      ]
     },
     "execution_count": 23,
     "metadata": {},
     "output_type": "execute_result"
    }
   ],
   "source": [
    "df"
   ]
  },
  {
   "cell_type": "code",
   "execution_count": 24,
   "metadata": {},
   "outputs": [],
   "source": [
    "#Create encoded column based on lat_long\n",
    "label_encoder = LabelEncoder()\n",
    "df['lat_long2'] = df['lat_long'].astype('string')\n",
    "df['location'] = label_encoder.fit_transform(df['lat_long2'])\n",
    "df = df.sort_index()"
   ]
  },
  {
   "cell_type": "code",
   "execution_count": 25,
   "metadata": {},
   "outputs": [
    {
     "data": {
      "text/html": [
       "<div>\n",
       "<style scoped>\n",
       "    .dataframe tbody tr th:only-of-type {\n",
       "        vertical-align: middle;\n",
       "    }\n",
       "\n",
       "    .dataframe tbody tr th {\n",
       "        vertical-align: top;\n",
       "    }\n",
       "\n",
       "    .dataframe thead th {\n",
       "        text-align: right;\n",
       "    }\n",
       "</style>\n",
       "<table border=\"1\" class=\"dataframe\">\n",
       "  <thead>\n",
       "    <tr style=\"text-align: right;\">\n",
       "      <th></th>\n",
       "      <th>lat_long</th>\n",
       "      <th>co2</th>\n",
       "      <th>lat_long2</th>\n",
       "      <th>location</th>\n",
       "    </tr>\n",
       "    <tr>\n",
       "      <th>date</th>\n",
       "      <th></th>\n",
       "      <th></th>\n",
       "      <th></th>\n",
       "      <th></th>\n",
       "    </tr>\n",
       "  </thead>\n",
       "  <tbody>\n",
       "    <tr>\n",
       "      <th>2000-01-01</th>\n",
       "      <td>(25.8, -97.8)</td>\n",
       "      <td>4.024838</td>\n",
       "      <td>(25.8, -97.8)</td>\n",
       "      <td>0</td>\n",
       "    </tr>\n",
       "    <tr>\n",
       "      <th>2000-01-01</th>\n",
       "      <td>(35.5, -80.9)</td>\n",
       "      <td>12.041616</td>\n",
       "      <td>(35.5, -80.9)</td>\n",
       "      <td>41</td>\n",
       "    </tr>\n",
       "    <tr>\n",
       "      <th>2000-01-01</th>\n",
       "      <td>(36.4, -97.0)</td>\n",
       "      <td>6.420758</td>\n",
       "      <td>(36.4, -97.0)</td>\n",
       "      <td>49</td>\n",
       "    </tr>\n",
       "    <tr>\n",
       "      <th>2000-01-01</th>\n",
       "      <td>(40.2, -80.6)</td>\n",
       "      <td>10.188225</td>\n",
       "      <td>(40.2, -80.6)</td>\n",
       "      <td>101</td>\n",
       "    </tr>\n",
       "    <tr>\n",
       "      <th>2000-01-01</th>\n",
       "      <td>(38.6, -83.6)</td>\n",
       "      <td>11.102073</td>\n",
       "      <td>(38.6, -83.6)</td>\n",
       "      <td>70</td>\n",
       "    </tr>\n",
       "  </tbody>\n",
       "</table>\n",
       "</div>"
      ],
      "text/plain": [
       "                 lat_long        co2      lat_long2  location\n",
       "date                                                         \n",
       "2000-01-01  (25.8, -97.8)   4.024838  (25.8, -97.8)         0\n",
       "2000-01-01  (35.5, -80.9)  12.041616  (35.5, -80.9)        41\n",
       "2000-01-01  (36.4, -97.0)   6.420758  (36.4, -97.0)        49\n",
       "2000-01-01  (40.2, -80.6)  10.188225  (40.2, -80.6)       101\n",
       "2000-01-01  (38.6, -83.6)  11.102073  (38.6, -83.6)        70"
      ]
     },
     "execution_count": 25,
     "metadata": {},
     "output_type": "execute_result"
    }
   ],
   "source": [
    "df.head()"
   ]
  },
  {
   "cell_type": "code",
   "execution_count": 26,
   "metadata": {},
   "outputs": [
    {
     "data": {
      "text/html": [
       "<div>\n",
       "<style scoped>\n",
       "    .dataframe tbody tr th:only-of-type {\n",
       "        vertical-align: middle;\n",
       "    }\n",
       "\n",
       "    .dataframe tbody tr th {\n",
       "        vertical-align: top;\n",
       "    }\n",
       "\n",
       "    .dataframe thead th {\n",
       "        text-align: right;\n",
       "    }\n",
       "</style>\n",
       "<table border=\"1\" class=\"dataframe\">\n",
       "  <thead>\n",
       "    <tr style=\"text-align: right;\">\n",
       "      <th></th>\n",
       "      <th>lat_long</th>\n",
       "      <th>location</th>\n",
       "    </tr>\n",
       "    <tr>\n",
       "      <th>date</th>\n",
       "      <th></th>\n",
       "      <th></th>\n",
       "    </tr>\n",
       "  </thead>\n",
       "  <tbody>\n",
       "    <tr>\n",
       "      <th>2000-01-01</th>\n",
       "      <td>(25.8, -97.8)</td>\n",
       "      <td>0</td>\n",
       "    </tr>\n",
       "    <tr>\n",
       "      <th>2004-05-01</th>\n",
       "      <td>(25.8, -97.8)</td>\n",
       "      <td>0</td>\n",
       "    </tr>\n",
       "    <tr>\n",
       "      <th>2014-11-01</th>\n",
       "      <td>(25.8, -97.8)</td>\n",
       "      <td>0</td>\n",
       "    </tr>\n",
       "    <tr>\n",
       "      <th>2010-11-01</th>\n",
       "      <td>(25.8, -97.8)</td>\n",
       "      <td>0</td>\n",
       "    </tr>\n",
       "    <tr>\n",
       "      <th>2004-04-01</th>\n",
       "      <td>(25.8, -97.8)</td>\n",
       "      <td>0</td>\n",
       "    </tr>\n",
       "    <tr>\n",
       "      <th>...</th>\n",
       "      <td>...</td>\n",
       "      <td>...</td>\n",
       "    </tr>\n",
       "    <tr>\n",
       "      <th>2005-04-01</th>\n",
       "      <td>(49.0, -105.4)</td>\n",
       "      <td>148</td>\n",
       "    </tr>\n",
       "    <tr>\n",
       "      <th>2017-08-01</th>\n",
       "      <td>(49.0, -105.4)</td>\n",
       "      <td>148</td>\n",
       "    </tr>\n",
       "    <tr>\n",
       "      <th>2013-10-01</th>\n",
       "      <td>(49.0, -105.4)</td>\n",
       "      <td>148</td>\n",
       "    </tr>\n",
       "    <tr>\n",
       "      <th>2017-07-01</th>\n",
       "      <td>(49.0, -105.4)</td>\n",
       "      <td>148</td>\n",
       "    </tr>\n",
       "    <tr>\n",
       "      <th>2017-10-01</th>\n",
       "      <td>(49.0, -105.4)</td>\n",
       "      <td>148</td>\n",
       "    </tr>\n",
       "  </tbody>\n",
       "</table>\n",
       "<p>35760 rows × 2 columns</p>\n",
       "</div>"
      ],
      "text/plain": [
       "                  lat_long  location\n",
       "date                                \n",
       "2000-01-01   (25.8, -97.8)         0\n",
       "2004-05-01   (25.8, -97.8)         0\n",
       "2014-11-01   (25.8, -97.8)         0\n",
       "2010-11-01   (25.8, -97.8)         0\n",
       "2004-04-01   (25.8, -97.8)         0\n",
       "...                    ...       ...\n",
       "2005-04-01  (49.0, -105.4)       148\n",
       "2017-08-01  (49.0, -105.4)       148\n",
       "2013-10-01  (49.0, -105.4)       148\n",
       "2017-07-01  (49.0, -105.4)       148\n",
       "2017-10-01  (49.0, -105.4)       148\n",
       "\n",
       "[35760 rows x 2 columns]"
      ]
     },
     "execution_count": 26,
     "metadata": {},
     "output_type": "execute_result"
    }
   ],
   "source": [
    "df[['lat_long','location']].sort_values(by='location')"
   ]
  },
  {
   "cell_type": "code",
   "execution_count": 27,
   "metadata": {},
   "outputs": [
    {
     "name": "stdout",
     "output_type": "stream",
     "text": [
      "<class 'pandas.core.frame.DataFrame'>\n",
      "DatetimeIndex: 35760 entries, 2000-01-01 to 2019-12-01\n",
      "Data columns (total 4 columns):\n",
      " #   Column     Non-Null Count  Dtype  \n",
      "---  ------     --------------  -----  \n",
      " 0   lat_long   35760 non-null  object \n",
      " 1   co2        35760 non-null  float64\n",
      " 2   lat_long2  35760 non-null  string \n",
      " 3   location   35760 non-null  int32  \n",
      "dtypes: float64(1), int32(1), object(1), string(1)\n",
      "memory usage: 1.2+ MB\n"
     ]
    }
   ],
   "source": [
    "df.info()"
   ]
  },
  {
   "cell_type": "code",
   "execution_count": 28,
   "metadata": {},
   "outputs": [
    {
     "data": {
      "text/html": [
       "<div>\n",
       "<style scoped>\n",
       "    .dataframe tbody tr th:only-of-type {\n",
       "        vertical-align: middle;\n",
       "    }\n",
       "\n",
       "    .dataframe tbody tr th {\n",
       "        vertical-align: top;\n",
       "    }\n",
       "\n",
       "    .dataframe thead th {\n",
       "        text-align: right;\n",
       "    }\n",
       "</style>\n",
       "<table border=\"1\" class=\"dataframe\">\n",
       "  <thead>\n",
       "    <tr style=\"text-align: right;\">\n",
       "      <th></th>\n",
       "      <th>count</th>\n",
       "      <th>mean</th>\n",
       "      <th>std</th>\n",
       "      <th>min</th>\n",
       "      <th>25%</th>\n",
       "      <th>50%</th>\n",
       "      <th>75%</th>\n",
       "      <th>max</th>\n",
       "    </tr>\n",
       "  </thead>\n",
       "  <tbody>\n",
       "    <tr>\n",
       "      <th>co2</th>\n",
       "      <td>35760.0</td>\n",
       "      <td>8.083218</td>\n",
       "      <td>3.926168</td>\n",
       "      <td>0.924653</td>\n",
       "      <td>5.199244</td>\n",
       "      <td>7.036835</td>\n",
       "      <td>10.071969</td>\n",
       "      <td>31.149539</td>\n",
       "    </tr>\n",
       "    <tr>\n",
       "      <th>location</th>\n",
       "      <td>35760.0</td>\n",
       "      <td>74.000000</td>\n",
       "      <td>43.012228</td>\n",
       "      <td>0.000000</td>\n",
       "      <td>37.000000</td>\n",
       "      <td>74.000000</td>\n",
       "      <td>111.000000</td>\n",
       "      <td>148.000000</td>\n",
       "    </tr>\n",
       "  </tbody>\n",
       "</table>\n",
       "</div>"
      ],
      "text/plain": [
       "            count       mean        std       min        25%        50%  \\\n",
       "co2       35760.0   8.083218   3.926168  0.924653   5.199244   7.036835   \n",
       "location  35760.0  74.000000  43.012228  0.000000  37.000000  74.000000   \n",
       "\n",
       "                 75%         max  \n",
       "co2        10.071969   31.149539  \n",
       "location  111.000000  148.000000  "
      ]
     },
     "execution_count": 28,
     "metadata": {},
     "output_type": "execute_result"
    }
   ],
   "source": [
    "df.describe().transpose()"
   ]
  },
  {
   "cell_type": "markdown",
   "metadata": {},
   "source": [
    " ### EDA: *Pre-Processing*"
   ]
  },
  {
   "cell_type": "code",
   "execution_count": 29,
   "metadata": {},
   "outputs": [],
   "source": [
    "df1 = df[['co2','location']]"
   ]
  },
  {
   "cell_type": "code",
   "execution_count": 30,
   "metadata": {},
   "outputs": [
    {
     "data": {
      "text/plain": [
       "(35760, 2)"
      ]
     },
     "execution_count": 30,
     "metadata": {},
     "output_type": "execute_result"
    }
   ],
   "source": [
    "df1.shape"
   ]
  },
  {
   "cell_type": "code",
   "execution_count": 31,
   "metadata": {},
   "outputs": [
    {
     "data": {
      "text/html": [
       "<div>\n",
       "<style scoped>\n",
       "    .dataframe tbody tr th:only-of-type {\n",
       "        vertical-align: middle;\n",
       "    }\n",
       "\n",
       "    .dataframe tbody tr th {\n",
       "        vertical-align: top;\n",
       "    }\n",
       "\n",
       "    .dataframe thead th {\n",
       "        text-align: right;\n",
       "    }\n",
       "</style>\n",
       "<table border=\"1\" class=\"dataframe\">\n",
       "  <thead>\n",
       "    <tr style=\"text-align: right;\">\n",
       "      <th></th>\n",
       "      <th>co2</th>\n",
       "      <th>location</th>\n",
       "    </tr>\n",
       "    <tr>\n",
       "      <th>date</th>\n",
       "      <th></th>\n",
       "      <th></th>\n",
       "    </tr>\n",
       "  </thead>\n",
       "  <tbody>\n",
       "    <tr>\n",
       "      <th>2000-01-01</th>\n",
       "      <td>4.024838</td>\n",
       "      <td>0</td>\n",
       "    </tr>\n",
       "    <tr>\n",
       "      <th>2000-01-01</th>\n",
       "      <td>12.041616</td>\n",
       "      <td>41</td>\n",
       "    </tr>\n",
       "    <tr>\n",
       "      <th>2000-01-01</th>\n",
       "      <td>6.420758</td>\n",
       "      <td>49</td>\n",
       "    </tr>\n",
       "    <tr>\n",
       "      <th>2000-01-01</th>\n",
       "      <td>10.188225</td>\n",
       "      <td>101</td>\n",
       "    </tr>\n",
       "    <tr>\n",
       "      <th>2000-01-01</th>\n",
       "      <td>11.102073</td>\n",
       "      <td>70</td>\n",
       "    </tr>\n",
       "  </tbody>\n",
       "</table>\n",
       "</div>"
      ],
      "text/plain": [
       "                  co2  location\n",
       "date                           \n",
       "2000-01-01   4.024838         0\n",
       "2000-01-01  12.041616        41\n",
       "2000-01-01   6.420758        49\n",
       "2000-01-01  10.188225       101\n",
       "2000-01-01  11.102073        70"
      ]
     },
     "execution_count": 31,
     "metadata": {},
     "output_type": "execute_result"
    }
   ],
   "source": [
    "df1.head()"
   ]
  },
  {
   "cell_type": "code",
   "execution_count": 32,
   "metadata": {},
   "outputs": [
    {
     "data": {
      "text/plain": [
       "240"
      ]
     },
     "execution_count": 32,
     "metadata": {},
     "output_type": "execute_result"
    }
   ],
   "source": [
    "#how many data points we have per time-series?\n",
    "len(df1.pivot(columns = 'location', values='co2')[0])"
   ]
  },
  {
   "cell_type": "code",
   "execution_count": 33,
   "metadata": {},
   "outputs": [
    {
     "data": {
      "image/png": "[encoded data removed]",
      "text/plain": [
       "<Figure size 864x432 with 1 Axes>"
      ]
     },
     "metadata": {
      "needs_background": "light"
     },
     "output_type": "display_data"
    }
   ],
   "source": [
    "df1.pivot(columns = 'location', values='co2')[0].plot()\n",
    "df1.pivot(columns = 'location', values='co2')[1].plot()\n",
    "df1.pivot(columns = 'location', values='co2')[2].plot()\n",
    "df1.pivot(columns = 'location', values='co2')[3].plot()\n",
    "plt.legend(title='Location')\n",
    "plt.title('Time-Series Overview');"
   ]
  },
  {
   "cell_type": "code",
   "execution_count": 34,
   "metadata": {},
   "outputs": [
    {
     "data": {
      "text/plain": [
       "array([  0,   1,   2,   3,   4,   5,   6,   7,   8,   9,  10,  11,  12,\n",
       "        13,  14,  15,  16,  17,  18,  19,  20,  21,  22,  23,  24,  25,\n",
       "        26,  27,  28,  29,  30,  31,  32,  33,  34,  35,  36,  37,  38,\n",
       "        39,  40,  41,  42,  43,  44,  45,  46,  47,  48,  49,  50,  51,\n",
       "        52,  53,  54,  55,  56,  57,  58,  59,  60,  61,  62,  63,  64,\n",
       "        65,  66,  67,  68,  69,  70,  71,  72,  73,  74,  75,  76,  77,\n",
       "        78,  79,  80,  81,  82,  83,  84,  85,  86,  87,  88,  89,  90,\n",
       "        91,  92,  93,  94,  95,  96,  97,  98,  99, 100, 101, 102, 103,\n",
       "       104, 105, 106, 107, 108, 109, 110, 111, 112, 113, 114, 115, 116,\n",
       "       117, 118, 119, 120, 121, 122, 123, 124, 125, 126, 127, 128, 129,\n",
       "       130, 131, 132, 133, 134, 135, 136, 137, 138, 139, 140, 141, 142,\n",
       "       143, 144, 145, 146, 147, 148])"
      ]
     },
     "execution_count": 34,
     "metadata": {},
     "output_type": "execute_result"
    }
   ],
   "source": [
    "# Encoded locations available\n",
    "np.sort(df1['location'].unique())"
   ]
  },
  {
   "cell_type": "code",
   "execution_count": 35,
   "metadata": {},
   "outputs": [],
   "source": [
    "#Function to list all Time-Series per location (Also using timeseries data type from darts)\n",
    "#This is done so we can feed the model with this data.\n",
    "location_list = []\n",
    "for location in np.sort(df1['location'].unique()).tolist():\n",
    "    location_list.append(TimeSeries.from_dataframe(df1.pivot(columns='location',values='co2')[[location]].reset_index().rename_axis(None, axis=1),time_col='date'))\n"
   ]
  },
  {
   "cell_type": "markdown",
   "metadata": {},
   "source": [
    "### Data Modeling\n",
    "- Create NBEATS instance (a generic model for all time-series)\n",
    "- Fit the model with all time-series in df\n",
    "- Save / load model for future use\n",
    "- Evaluate model's performance\n",
    "- Forecast on some locations and plot results\n",
    "- Create Predictions dataframe\n",
    "- Feature Engineering predictions dataframe"
   ]
  },
  {
   "cell_type": "code",
   "execution_count": 36,
   "metadata": {},
   "outputs": [
    {
     "name": "stdout",
     "output_type": "stream",
     "text": [
      "C:\\Users\\anton\\Google Drive\\Master in Data Science\\Independent Projects\\9. Carbon Capture Challenge\\Code\n"
     ]
    }
   ],
   "source": [
    "# The model will be saved so it can be used in the future. Therefore, we set the following variables:\n",
    "\n",
    "load = True\n",
    "SAVE = \"\\_NBEATS_model_Rev01.pth.tar\" #filename\n",
    "mpath = os.path.abspath(os.getcwd()) + SAVE # path and file name to save the model\n",
    "print(os.getcwd())"
   ]
  },
  {
   "cell_type": "code",
   "execution_count": 37,
   "metadata": {},
   "outputs": [
    {
     "name": "stderr",
     "output_type": "stream",
     "text": [
      "[2022-05-22 17:46:54,968] INFO | darts.models.forecasting.torch_forecasting_model | Train dataset contains 30545 samples.\n",
      "[2022-05-22 17:46:54,968] INFO | darts.models.forecasting.torch_forecasting_model | Train dataset contains 30545 samples.\n",
      "2022-05-22 17:46:54 darts.models.forecasting.torch_forecasting_model INFO: Train dataset contains 30545 samples.\n",
      "[2022-05-22 17:46:55,043] INFO | darts.models.forecasting.torch_forecasting_model | Time series values are 64-bits; casting model to float64.\n",
      "[2022-05-22 17:46:55,043] INFO | darts.models.forecasting.torch_forecasting_model | Time series values are 64-bits; casting model to float64.\n",
      "2022-05-22 17:46:55 darts.models.forecasting.torch_forecasting_model INFO: Time series values are 64-bits; casting model to float64.\n",
      "2022-05-22 17:46:55 pytorch_lightning.utilities.rank_zero INFO: GPU available: False, used: False\n",
      "2022-05-22 17:46:55 pytorch_lightning.utilities.rank_zero INFO: TPU available: False, using: 0 TPU cores\n",
      "2022-05-22 17:46:55 pytorch_lightning.utilities.rank_zero INFO: IPU available: False, using: 0 IPUs\n",
      "2022-05-22 17:46:55 pytorch_lightning.utilities.rank_zero INFO: HPU available: False, using: 0 HPUs\n",
      "2022-05-22 17:46:55 pytorch_lightning.callbacks.model_summary INFO: \n",
      "  | Name      | Type       | Params\n",
      "-----------------------------------------\n",
      "0 | criterion | MSELoss    | 0     \n",
      "1 | stacks    | ModuleList | 6.2 M \n",
      "-----------------------------------------\n",
      "6.2 M     Trainable params\n",
      "1.4 K     Non-trainable params\n",
      "6.2 M     Total params\n",
      "49.575    Total estimated model params size (MB)\n"
     ]
    },
    {
     "data": {
      "application/vnd.jupyter.widget-view+json": {
       "model_id": "37e4ad96588c4cbb82a24004204ab77d",
       "version_major": 2,
       "version_minor": 0
      },
      "text/plain": [
       "Training: 0it [00:00, ?it/s]"
      ]
     },
     "metadata": {},
     "output_type": "display_data"
    },
    {
     "name": "stdout",
     "output_type": "stream",
     "text": [
      "have saved the model after training: C:\\Users\\anton\\Google Drive\\Master in Data Science\\Independent Projects\\9. Carbon Capture Challenge\\Code\\_NBEATS_model_Rev01.pth.tar\n"
     ]
    }
   ],
   "source": [
    "# training: load a saved model or (re)train\n",
    "if load:\n",
    "    print(\"have loaded a previously saved model from disk:\" + mpath)\n",
    "    model = NBEATSModel.load_model(mpath)                            # load previously model from disk\n",
    "else:\n",
    "    model = NBEATSModel(input_chunk_length=24,\n",
    "                        output_chunk_length=12, \n",
    "                        n_epochs=100,\n",
    "                        random_state=0)\n",
    "    model.fit(location_list)\n",
    "    print(\"have saved the model after training:\", mpath)\n",
    "    model.save_model(mpath)"
   ]
  },
  {
   "cell_type": "code",
   "execution_count": 38,
   "metadata": {},
   "outputs": [
    {
     "data": {
      "application/vnd.jupyter.widget-view+json": {
       "model_id": "65a0eafdeeda412c9a135e0819f6c7a8",
       "version_major": 2,
       "version_minor": 0
      },
      "text/plain": [
       "Predicting: 955it [00:00, ?it/s]"
      ]
     },
     "metadata": {},
     "output_type": "display_data"
    },
    {
     "data": {
      "image/png": "[encoded data removed]",
      "text/plain": [
       "<Figure size 864x432 with 1 Axes>"
      ]
     },
     "metadata": {
      "needs_background": "light"
     },
     "output_type": "display_data"
    }
   ],
   "source": [
    "model.predict(n=36,series=location_list[0]).plot(label='Predictions location 0')\n",
    "location_list[0].plot(label='Location 0')\n",
    "plt.title('Predictions in Location 0');"
   ]
  },
  {
   "cell_type": "code",
   "execution_count": 39,
   "metadata": {},
   "outputs": [
    {
     "data": {
      "application/vnd.jupyter.widget-view+json": {
       "model_id": "b2bb3633820444df89c45165118566fe",
       "version_major": 2,
       "version_minor": 0
      },
      "text/plain": [
       "Predicting: 955it [00:00, ?it/s]"
      ]
     },
     "metadata": {},
     "output_type": "display_data"
    },
    {
     "data": {
      "image/png": "[encoded data removed]",
      "text/plain": [
       "<Figure size 864x432 with 1 Axes>"
      ]
     },
     "metadata": {
      "needs_background": "light"
     },
     "output_type": "display_data"
    }
   ],
   "source": [
    "model.predict(n=36,series=location_list[1]).plot(label='Predictions location 1')\n",
    "location_list[1].plot(label='Location 1')\n",
    "plt.title('Predictions in Location 1');"
   ]
  },
  {
   "cell_type": "code",
   "execution_count": 40,
   "metadata": {},
   "outputs": [
    {
     "data": {
      "application/vnd.jupyter.widget-view+json": {
       "model_id": "7f62a6317989437cb49379c3fd2ac59f",
       "version_major": 2,
       "version_minor": 0
      },
      "text/plain": [
       "Predicting: 955it [00:00, ?it/s]"
      ]
     },
     "metadata": {},
     "output_type": "display_data"
    },
    {
     "data": {
      "image/png": "[encoded data removed]",
      "text/plain": [
       "<Figure size 864x432 with 1 Axes>"
      ]
     },
     "metadata": {
      "needs_background": "light"
     },
     "output_type": "display_data"
    }
   ],
   "source": [
    "model.predict(n=36,series=location_list[100]).plot(label='Predictions location 100')\n",
    "location_list[100].plot(label='Location 100')\n",
    "plt.title('Predictions in Location 100');"
   ]
  },
  {
   "cell_type": "code",
   "execution_count": 41,
   "metadata": {},
   "outputs": [
    {
     "data": {
      "application/vnd.jupyter.widget-view+json": {
       "model_id": "23ff0580449c45b79a1414471587dae0",
       "version_major": 2,
       "version_minor": 0
      },
      "text/plain": [
       "Predicting: 955it [00:00, ?it/s]"
      ]
     },
     "metadata": {},
     "output_type": "display_data"
    },
    {
     "data": {
      "application/vnd.jupyter.widget-view+json": {
       "model_id": "27e91387194e417d868af21ea4208979",
       "version_major": 2,
       "version_minor": 0
      },
      "text/plain": [
       "Predicting: 955it [00:00, ?it/s]"
      ]
     },
     "metadata": {},
     "output_type": "display_data"
    },
    {
     "data": {
      "application/vnd.jupyter.widget-view+json": {
       "model_id": "f3aa7807ec854179be4cb301f85b5218",
       "version_major": 2,
       "version_minor": 0
      },
      "text/plain": [
       "Predicting: 955it [00:00, ?it/s]"
      ]
     },
     "metadata": {},
     "output_type": "display_data"
    },
    {
     "data": {
      "application/vnd.jupyter.widget-view+json": {
       "model_id": "cb6a1c1fbb224621a7c898b7ca06cb38",
       "version_major": 2,
       "version_minor": 0
      },
      "text/plain": [
       "Predicting: 955it [00:00, ?it/s]"
      ]
     },
     "metadata": {},
     "output_type": "display_data"
    },
    {
     "data": {
      "application/vnd.jupyter.widget-view+json": {
       "model_id": "b63c2e7df9904270ad0ad4123d93cf56",
       "version_major": 2,
       "version_minor": 0
      },
      "text/plain": [
       "Predicting: 955it [00:00, ?it/s]"
      ]
     },
     "metadata": {},
     "output_type": "display_data"
    },
    {
     "data": {
      "application/vnd.jupyter.widget-view+json": {
       "model_id": "4c07bb446b6c4c2ca8bb9f3725ab8f66",
       "version_major": 2,
       "version_minor": 0
      },
      "text/plain": [
       "Predicting: 955it [00:00, ?it/s]"
      ]
     },
     "metadata": {},
     "output_type": "display_data"
    },
    {
     "data": {
      "application/vnd.jupyter.widget-view+json": {
       "model_id": "b4460376defa4ac7a7aba9c72cd058ca",
       "version_major": 2,
       "version_minor": 0
      },
      "text/plain": [
       "Predicting: 955it [00:00, ?it/s]"
      ]
     },
     "metadata": {},
     "output_type": "display_data"
    },
    {
     "data": {
      "application/vnd.jupyter.widget-view+json": {
       "model_id": "f8123f18249a48168d20ea622681c0b9",
       "version_major": 2,
       "version_minor": 0
      },
      "text/plain": [
       "Predicting: 955it [00:00, ?it/s]"
      ]
     },
     "metadata": {},
     "output_type": "display_data"
    },
    {
     "data": {
      "application/vnd.jupyter.widget-view+json": {
       "model_id": "9c56c3e553b548d3a279e9d447bd3920",
       "version_major": 2,
       "version_minor": 0
      },
      "text/plain": [
       "Predicting: 955it [00:00, ?it/s]"
      ]
     },
     "metadata": {},
     "output_type": "display_data"
    },
    {
     "data": {
      "application/vnd.jupyter.widget-view+json": {
       "model_id": "8345db5f47b3421fb5272a8e949757ed",
       "version_major": 2,
       "version_minor": 0
      },
      "text/plain": [
       "Predicting: 955it [00:00, ?it/s]"
      ]
     },
     "metadata": {},
     "output_type": "display_data"
    },
    {
     "data": {
      "application/vnd.jupyter.widget-view+json": {
       "model_id": "0ff082446d1d47e4a236638bf6da06e0",
       "version_major": 2,
       "version_minor": 0
      },
      "text/plain": [
       "Predicting: 955it [00:00, ?it/s]"
      ]
     },
     "metadata": {},
     "output_type": "display_data"
    },
    {
     "data": {
      "application/vnd.jupyter.widget-view+json": {
       "model_id": "25270a40ee444a008cbf46de4ff079ef",
       "version_major": 2,
       "version_minor": 0
      },
      "text/plain": [
       "Predicting: 955it [00:00, ?it/s]"
      ]
     },
     "metadata": {},
     "output_type": "display_data"
    },
    {
     "data": {
      "application/vnd.jupyter.widget-view+json": {
       "model_id": "a69623f2a8654bf6ac6f43c275317aed",
       "version_major": 2,
       "version_minor": 0
      },
      "text/plain": [
       "Predicting: 955it [00:00, ?it/s]"
      ]
     },
     "metadata": {},
     "output_type": "display_data"
    },
    {
     "data": {
      "application/vnd.jupyter.widget-view+json": {
       "model_id": "b7d6c4fe4d674da28a8219980f5c1a10",
       "version_major": 2,
       "version_minor": 0
      },
      "text/plain": [
       "Predicting: 955it [00:00, ?it/s]"
      ]
     },
     "metadata": {},
     "output_type": "display_data"
    },
    {
     "data": {
      "application/vnd.jupyter.widget-view+json": {
       "model_id": "fa356d34ed804873b7658f88a98d0b30",
       "version_major": 2,
       "version_minor": 0
      },
      "text/plain": [
       "Predicting: 955it [00:00, ?it/s]"
      ]
     },
     "metadata": {},
     "output_type": "display_data"
    },
    {
     "data": {
      "application/vnd.jupyter.widget-view+json": {
       "model_id": "2e076c6923df490a89e4e085ddf0e114",
       "version_major": 2,
       "version_minor": 0
      },
      "text/plain": [
       "Predicting: 955it [00:00, ?it/s]"
      ]
     },
     "metadata": {},
     "output_type": "display_data"
    },
    {
     "data": {
      "application/vnd.jupyter.widget-view+json": {
       "model_id": "740f580dbab04583adb02a037ccd26eb",
       "version_major": 2,
       "version_minor": 0
      },
      "text/plain": [
       "Predicting: 955it [00:00, ?it/s]"
      ]
     },
     "metadata": {},
     "output_type": "display_data"
    },
    {
     "data": {
      "application/vnd.jupyter.widget-view+json": {
       "model_id": "aca69004454a4948980a9e4cb23cc5db",
       "version_major": 2,
       "version_minor": 0
      },
      "text/plain": [
       "Predicting: 955it [00:00, ?it/s]"
      ]
     },
     "metadata": {},
     "output_type": "display_data"
    },
    {
     "data": {
      "application/vnd.jupyter.widget-view+json": {
       "model_id": "bab10dbb5fb4421e9f41956310b745b5",
       "version_major": 2,
       "version_minor": 0
      },
      "text/plain": [
       "Predicting: 955it [00:00, ?it/s]"
      ]
     },
     "metadata": {},
     "output_type": "display_data"
    },
    {
     "data": {
      "application/vnd.jupyter.widget-view+json": {
       "model_id": "a4e86363c7e0480f81f166dc9868963f",
       "version_major": 2,
       "version_minor": 0
      },
      "text/plain": [
       "Predicting: 955it [00:00, ?it/s]"
      ]
     },
     "metadata": {},
     "output_type": "display_data"
    },
    {
     "data": {
      "application/vnd.jupyter.widget-view+json": {
       "model_id": "3eed72a8cb8b412a8f5a3ff2d4a6a106",
       "version_major": 2,
       "version_minor": 0
      },
      "text/plain": [
       "Predicting: 955it [00:00, ?it/s]"
      ]
     },
     "metadata": {},
     "output_type": "display_data"
    },
    {
     "data": {
      "application/vnd.jupyter.widget-view+json": {
       "model_id": "1ceb8eaf5a2849e2986e9f89aadd0f73",
       "version_major": 2,
       "version_minor": 0
      },
      "text/plain": [
       "Predicting: 955it [00:00, ?it/s]"
      ]
     },
     "metadata": {},
     "output_type": "display_data"
    },
    {
     "data": {
      "application/vnd.jupyter.widget-view+json": {
       "model_id": "99f60d95fcce41739fa62ae47ab96971",
       "version_major": 2,
       "version_minor": 0
      },
      "text/plain": [
       "Predicting: 955it [00:00, ?it/s]"
      ]
     },
     "metadata": {},
     "output_type": "display_data"
    },
    {
     "data": {
      "application/vnd.jupyter.widget-view+json": {
       "model_id": "ea595bc3113041cb87a5ce0e29b0e336",
       "version_major": 2,
       "version_minor": 0
      },
      "text/plain": [
       "Predicting: 955it [00:00, ?it/s]"
      ]
     },
     "metadata": {},
     "output_type": "display_data"
    },
    {
     "data": {
      "application/vnd.jupyter.widget-view+json": {
       "model_id": "853b2e0740d14401a477354456ffd954",
       "version_major": 2,
       "version_minor": 0
      },
      "text/plain": [
       "Predicting: 955it [00:00, ?it/s]"
      ]
     },
     "metadata": {},
     "output_type": "display_data"
    },
    {
     "data": {
      "application/vnd.jupyter.widget-view+json": {
       "model_id": "08e03cd9bb92433f9a98faccc56c7ae6",
       "version_major": 2,
       "version_minor": 0
      },
      "text/plain": [
       "Predicting: 955it [00:00, ?it/s]"
      ]
     },
     "metadata": {},
     "output_type": "display_data"
    },
    {
     "data": {
      "application/vnd.jupyter.widget-view+json": {
       "model_id": "e6dff838bfaf4f01a23fb1614eb3c97d",
       "version_major": 2,
       "version_minor": 0
      },
      "text/plain": [
       "Predicting: 955it [00:00, ?it/s]"
      ]
     },
     "metadata": {},
     "output_type": "display_data"
    },
    {
     "data": {
      "application/vnd.jupyter.widget-view+json": {
       "model_id": "d46976332d184a3b94be7e0bacb98309",
       "version_major": 2,
       "version_minor": 0
      },
      "text/plain": [
       "Predicting: 955it [00:00, ?it/s]"
      ]
     },
     "metadata": {},
     "output_type": "display_data"
    },
    {
     "data": {
      "application/vnd.jupyter.widget-view+json": {
       "model_id": "e05073d27d80473396920bfbd32c3b47",
       "version_major": 2,
       "version_minor": 0
      },
      "text/plain": [
       "Predicting: 955it [00:00, ?it/s]"
      ]
     },
     "metadata": {},
     "output_type": "display_data"
    },
    {
     "data": {
      "application/vnd.jupyter.widget-view+json": {
       "model_id": "487bbdd088e6482d9128af7f658855c0",
       "version_major": 2,
       "version_minor": 0
      },
      "text/plain": [
       "Predicting: 955it [00:00, ?it/s]"
      ]
     },
     "metadata": {},
     "output_type": "display_data"
    },
    {
     "data": {
      "application/vnd.jupyter.widget-view+json": {
       "model_id": "c6f676bbbbf14a009dfe013b74dd8b34",
       "version_major": 2,
       "version_minor": 0
      },
      "text/plain": [
       "Predicting: 955it [00:00, ?it/s]"
      ]
     },
     "metadata": {},
     "output_type": "display_data"
    },
    {
     "data": {
      "application/vnd.jupyter.widget-view+json": {
       "model_id": "452c2d312acd4cd2a6845b09178e466f",
       "version_major": 2,
       "version_minor": 0
      },
      "text/plain": [
       "Predicting: 955it [00:00, ?it/s]"
      ]
     },
     "metadata": {},
     "output_type": "display_data"
    },
    {
     "data": {
      "application/vnd.jupyter.widget-view+json": {
       "model_id": "535680ca3f014ef89496aff8a780552a",
       "version_major": 2,
       "version_minor": 0
      },
      "text/plain": [
       "Predicting: 955it [00:00, ?it/s]"
      ]
     },
     "metadata": {},
     "output_type": "display_data"
    },
    {
     "data": {
      "application/vnd.jupyter.widget-view+json": {
       "model_id": "163b9918a6e14e9a9a9e9a8f870cfc1d",
       "version_major": 2,
       "version_minor": 0
      },
      "text/plain": [
       "Predicting: 955it [00:00, ?it/s]"
      ]
     },
     "metadata": {},
     "output_type": "display_data"
    },
    {
     "data": {
      "application/vnd.jupyter.widget-view+json": {
       "model_id": "dbc8b69f9f554223b14af7308cba2def",
       "version_major": 2,
       "version_minor": 0
      },
      "text/plain": [
       "Predicting: 955it [00:00, ?it/s]"
      ]
     },
     "metadata": {},
     "output_type": "display_data"
    },
    {
     "data": {
      "application/vnd.jupyter.widget-view+json": {
       "model_id": "2778e87b1d604acaac956d854576ff81",
       "version_major": 2,
       "version_minor": 0
      },
      "text/plain": [
       "Predicting: 955it [00:00, ?it/s]"
      ]
     },
     "metadata": {},
     "output_type": "display_data"
    },
    {
     "data": {
      "application/vnd.jupyter.widget-view+json": {
       "model_id": "65855b34774242eab77c3a7de1d94463",
       "version_major": 2,
       "version_minor": 0
      },
      "text/plain": [
       "Predicting: 955it [00:00, ?it/s]"
      ]
     },
     "metadata": {},
     "output_type": "display_data"
    },
    {
     "data": {
      "application/vnd.jupyter.widget-view+json": {
       "model_id": "460c0ac3dc064996ad8d41055530288e",
       "version_major": 2,
       "version_minor": 0
      },
      "text/plain": [
       "Predicting: 955it [00:00, ?it/s]"
      ]
     },
     "metadata": {},
     "output_type": "display_data"
    },
    {
     "data": {
      "application/vnd.jupyter.widget-view+json": {
       "model_id": "60f70e2c7ba942c4984abcc46bc839dd",
       "version_major": 2,
       "version_minor": 0
      },
      "text/plain": [
       "Predicting: 955it [00:00, ?it/s]"
      ]
     },
     "metadata": {},
     "output_type": "display_data"
    },
    {
     "data": {
      "application/vnd.jupyter.widget-view+json": {
       "model_id": "93ada8f3d0de4065b239be9a326666d0",
       "version_major": 2,
       "version_minor": 0
      },
      "text/plain": [
       "Predicting: 955it [00:00, ?it/s]"
      ]
     },
     "metadata": {},
     "output_type": "display_data"
    },
    {
     "data": {
      "application/vnd.jupyter.widget-view+json": {
       "model_id": "ccecfaa8815e4d208fdc44b11d37e51a",
       "version_major": 2,
       "version_minor": 0
      },
      "text/plain": [
       "Predicting: 955it [00:00, ?it/s]"
      ]
     },
     "metadata": {},
     "output_type": "display_data"
    },
    {
     "data": {
      "application/vnd.jupyter.widget-view+json": {
       "model_id": "f060294553694ecc999b0755c37446f6",
       "version_major": 2,
       "version_minor": 0
      },
      "text/plain": [
       "Predicting: 955it [00:00, ?it/s]"
      ]
     },
     "metadata": {},
     "output_type": "display_data"
    },
    {
     "data": {
      "application/vnd.jupyter.widget-view+json": {
       "model_id": "347af45e2dd048adbaddb33f85d04e06",
       "version_major": 2,
       "version_minor": 0
      },
      "text/plain": [
       "Predicting: 955it [00:00, ?it/s]"
      ]
     },
     "metadata": {},
     "output_type": "display_data"
    },
    {
     "data": {
      "application/vnd.jupyter.widget-view+json": {
       "model_id": "b4e3892465254a51b45d52c85fd24b5c",
       "version_major": 2,
       "version_minor": 0
      },
      "text/plain": [
       "Predicting: 955it [00:00, ?it/s]"
      ]
     },
     "metadata": {},
     "output_type": "display_data"
    },
    {
     "data": {
      "application/vnd.jupyter.widget-view+json": {
       "model_id": "62f14f3445cd42c597debef626a12062",
       "version_major": 2,
       "version_minor": 0
      },
      "text/plain": [
       "Predicting: 955it [00:00, ?it/s]"
      ]
     },
     "metadata": {},
     "output_type": "display_data"
    },
    {
     "data": {
      "application/vnd.jupyter.widget-view+json": {
       "model_id": "7d93499873d54910ab887d2f6289ac2f",
       "version_major": 2,
       "version_minor": 0
      },
      "text/plain": [
       "Predicting: 955it [00:00, ?it/s]"
      ]
     },
     "metadata": {},
     "output_type": "display_data"
    },
    {
     "data": {
      "application/vnd.jupyter.widget-view+json": {
       "model_id": "5e921e562de54ccfbe3b0413ba055a66",
       "version_major": 2,
       "version_minor": 0
      },
      "text/plain": [
       "Predicting: 955it [00:00, ?it/s]"
      ]
     },
     "metadata": {},
     "output_type": "display_data"
    },
    {
     "data": {
      "application/vnd.jupyter.widget-view+json": {
       "model_id": "985925650b96461487545ec50d718241",
       "version_major": 2,
       "version_minor": 0
      },
      "text/plain": [
       "Predicting: 955it [00:00, ?it/s]"
      ]
     },
     "metadata": {},
     "output_type": "display_data"
    },
    {
     "data": {
      "application/vnd.jupyter.widget-view+json": {
       "model_id": "170aa7991acf4af8bb9b2e9d70d91c94",
       "version_major": 2,
       "version_minor": 0
      },
      "text/plain": [
       "Predicting: 955it [00:00, ?it/s]"
      ]
     },
     "metadata": {},
     "output_type": "display_data"
    },
    {
     "data": {
      "application/vnd.jupyter.widget-view+json": {
       "model_id": "0f5d5341c961437fb4b97affa834d876",
       "version_major": 2,
       "version_minor": 0
      },
      "text/plain": [
       "Predicting: 955it [00:00, ?it/s]"
      ]
     },
     "metadata": {},
     "output_type": "display_data"
    },
    {
     "data": {
      "application/vnd.jupyter.widget-view+json": {
       "model_id": "04d02ccc314c4c5b9184cb9e5ad41310",
       "version_major": 2,
       "version_minor": 0
      },
      "text/plain": [
       "Predicting: 955it [00:00, ?it/s]"
      ]
     },
     "metadata": {},
     "output_type": "display_data"
    },
    {
     "data": {
      "application/vnd.jupyter.widget-view+json": {
       "model_id": "cfd26c65664e48c4a963d65bbb90aef9",
       "version_major": 2,
       "version_minor": 0
      },
      "text/plain": [
       "Predicting: 955it [00:00, ?it/s]"
      ]
     },
     "metadata": {},
     "output_type": "display_data"
    },
    {
     "data": {
      "application/vnd.jupyter.widget-view+json": {
       "model_id": "604cf36a1f5846acafb8c26f96c998ad",
       "version_major": 2,
       "version_minor": 0
      },
      "text/plain": [
       "Predicting: 955it [00:00, ?it/s]"
      ]
     },
     "metadata": {},
     "output_type": "display_data"
    },
    {
     "data": {
      "application/vnd.jupyter.widget-view+json": {
       "model_id": "94fee9fa00f948c9924c76c855546fa9",
       "version_major": 2,
       "version_minor": 0
      },
      "text/plain": [
       "Predicting: 955it [00:00, ?it/s]"
      ]
     },
     "metadata": {},
     "output_type": "display_data"
    },
    {
     "data": {
      "application/vnd.jupyter.widget-view+json": {
       "model_id": "177aa78091354ab4880bceb701efe165",
       "version_major": 2,
       "version_minor": 0
      },
      "text/plain": [
       "Predicting: 955it [00:00, ?it/s]"
      ]
     },
     "metadata": {},
     "output_type": "display_data"
    },
    {
     "data": {
      "application/vnd.jupyter.widget-view+json": {
       "model_id": "8e893ee3db7c483ca04a757e2b201a8d",
       "version_major": 2,
       "version_minor": 0
      },
      "text/plain": [
       "Predicting: 955it [00:00, ?it/s]"
      ]
     },
     "metadata": {},
     "output_type": "display_data"
    },
    {
     "data": {
      "application/vnd.jupyter.widget-view+json": {
       "model_id": "28f43ca31ce445b7bddefacd206bfc19",
       "version_major": 2,
       "version_minor": 0
      },
      "text/plain": [
       "Predicting: 955it [00:00, ?it/s]"
      ]
     },
     "metadata": {},
     "output_type": "display_data"
    },
    {
     "data": {
      "application/vnd.jupyter.widget-view+json": {
       "model_id": "f760feba2d154ce89b0956c1048a1130",
       "version_major": 2,
       "version_minor": 0
      },
      "text/plain": [
       "Predicting: 955it [00:00, ?it/s]"
      ]
     },
     "metadata": {},
     "output_type": "display_data"
    },
    {
     "data": {
      "application/vnd.jupyter.widget-view+json": {
       "model_id": "8e882a88571b49a384488ed1c7fe7a62",
       "version_major": 2,
       "version_minor": 0
      },
      "text/plain": [
       "Predicting: 955it [00:00, ?it/s]"
      ]
     },
     "metadata": {},
     "output_type": "display_data"
    },
    {
     "data": {
      "application/vnd.jupyter.widget-view+json": {
       "model_id": "3b4e9cafdcef4569b2ef9a1d4091f003",
       "version_major": 2,
       "version_minor": 0
      },
      "text/plain": [
       "Predicting: 955it [00:00, ?it/s]"
      ]
     },
     "metadata": {},
     "output_type": "display_data"
    },
    {
     "data": {
      "application/vnd.jupyter.widget-view+json": {
       "model_id": "738fedadab1d4ace87373f284c31e667",
       "version_major": 2,
       "version_minor": 0
      },
      "text/plain": [
       "Predicting: 955it [00:00, ?it/s]"
      ]
     },
     "metadata": {},
     "output_type": "display_data"
    },
    {
     "data": {
      "application/vnd.jupyter.widget-view+json": {
       "model_id": "a2d5324acdc74454a3629181763a7c99",
       "version_major": 2,
       "version_minor": 0
      },
      "text/plain": [
       "Predicting: 955it [00:00, ?it/s]"
      ]
     },
     "metadata": {},
     "output_type": "display_data"
    },
    {
     "data": {
      "application/vnd.jupyter.widget-view+json": {
       "model_id": "2498569a78424261a7932eaddf89d30f",
       "version_major": 2,
       "version_minor": 0
      },
      "text/plain": [
       "Predicting: 955it [00:00, ?it/s]"
      ]
     },
     "metadata": {},
     "output_type": "display_data"
    },
    {
     "data": {
      "application/vnd.jupyter.widget-view+json": {
       "model_id": "105ada2bf38b483d9541081381832a1f",
       "version_major": 2,
       "version_minor": 0
      },
      "text/plain": [
       "Predicting: 955it [00:00, ?it/s]"
      ]
     },
     "metadata": {},
     "output_type": "display_data"
    },
    {
     "data": {
      "application/vnd.jupyter.widget-view+json": {
       "model_id": "79c4970840f646bfa8fdf6d43231dba9",
       "version_major": 2,
       "version_minor": 0
      },
      "text/plain": [
       "Predicting: 955it [00:00, ?it/s]"
      ]
     },
     "metadata": {},
     "output_type": "display_data"
    },
    {
     "data": {
      "application/vnd.jupyter.widget-view+json": {
       "model_id": "19b180e5049844b3a5833c285ba698c4",
       "version_major": 2,
       "version_minor": 0
      },
      "text/plain": [
       "Predicting: 955it [00:00, ?it/s]"
      ]
     },
     "metadata": {},
     "output_type": "display_data"
    },
    {
     "data": {
      "application/vnd.jupyter.widget-view+json": {
       "model_id": "a4abb157e65a4396a9cd92ced39dc5dd",
       "version_major": 2,
       "version_minor": 0
      },
      "text/plain": [
       "Predicting: 955it [00:00, ?it/s]"
      ]
     },
     "metadata": {},
     "output_type": "display_data"
    },
    {
     "data": {
      "application/vnd.jupyter.widget-view+json": {
       "model_id": "e42c66fd3b534a78948a410cbc89c774",
       "version_major": 2,
       "version_minor": 0
      },
      "text/plain": [
       "Predicting: 955it [00:00, ?it/s]"
      ]
     },
     "metadata": {},
     "output_type": "display_data"
    },
    {
     "data": {
      "application/vnd.jupyter.widget-view+json": {
       "model_id": "8395177352f041b59a06bb3882dbbce3",
       "version_major": 2,
       "version_minor": 0
      },
      "text/plain": [
       "Predicting: 955it [00:00, ?it/s]"
      ]
     },
     "metadata": {},
     "output_type": "display_data"
    },
    {
     "data": {
      "application/vnd.jupyter.widget-view+json": {
       "model_id": "3df9246c99b54f45aa07ec7479eaf51b",
       "version_major": 2,
       "version_minor": 0
      },
      "text/plain": [
       "Predicting: 955it [00:00, ?it/s]"
      ]
     },
     "metadata": {},
     "output_type": "display_data"
    },
    {
     "data": {
      "application/vnd.jupyter.widget-view+json": {
       "model_id": "4b6ad0bba13b4b6f92ad2f3196679bdd",
       "version_major": 2,
       "version_minor": 0
      },
      "text/plain": [
       "Predicting: 955it [00:00, ?it/s]"
      ]
     },
     "metadata": {},
     "output_type": "display_data"
    },
    {
     "data": {
      "application/vnd.jupyter.widget-view+json": {
       "model_id": "45cbecfac955446b89fe9b3ceba7868a",
       "version_major": 2,
       "version_minor": 0
      },
      "text/plain": [
       "Predicting: 955it [00:00, ?it/s]"
      ]
     },
     "metadata": {},
     "output_type": "display_data"
    },
    {
     "data": {
      "application/vnd.jupyter.widget-view+json": {
       "model_id": "ca77883aad2540ab8334805f40228cc8",
       "version_major": 2,
       "version_minor": 0
      },
      "text/plain": [
       "Predicting: 955it [00:00, ?it/s]"
      ]
     },
     "metadata": {},
     "output_type": "display_data"
    },
    {
     "data": {
      "application/vnd.jupyter.widget-view+json": {
       "model_id": "86a6a99ee12a432d8c5532187c1778ba",
       "version_major": 2,
       "version_minor": 0
      },
      "text/plain": [
       "Predicting: 955it [00:00, ?it/s]"
      ]
     },
     "metadata": {},
     "output_type": "display_data"
    },
    {
     "data": {
      "application/vnd.jupyter.widget-view+json": {
       "model_id": "929e491517b64092aa4d2041143c1d6c",
       "version_major": 2,
       "version_minor": 0
      },
      "text/plain": [
       "Predicting: 955it [00:00, ?it/s]"
      ]
     },
     "metadata": {},
     "output_type": "display_data"
    },
    {
     "data": {
      "application/vnd.jupyter.widget-view+json": {
       "model_id": "2e8882a133d64c088fbef5ea94d4e80c",
       "version_major": 2,
       "version_minor": 0
      },
      "text/plain": [
       "Predicting: 955it [00:00, ?it/s]"
      ]
     },
     "metadata": {},
     "output_type": "display_data"
    },
    {
     "data": {
      "application/vnd.jupyter.widget-view+json": {
       "model_id": "9a45696aec674c239c0c8982f2b81448",
       "version_major": 2,
       "version_minor": 0
      },
      "text/plain": [
       "Predicting: 955it [00:00, ?it/s]"
      ]
     },
     "metadata": {},
     "output_type": "display_data"
    },
    {
     "data": {
      "application/vnd.jupyter.widget-view+json": {
       "model_id": "d2bd6ac57e824e6687ec368b217882ea",
       "version_major": 2,
       "version_minor": 0
      },
      "text/plain": [
       "Predicting: 955it [00:00, ?it/s]"
      ]
     },
     "metadata": {},
     "output_type": "display_data"
    },
    {
     "data": {
      "application/vnd.jupyter.widget-view+json": {
       "model_id": "14f0a61149754e71a4a5d9704215d341",
       "version_major": 2,
       "version_minor": 0
      },
      "text/plain": [
       "Predicting: 955it [00:00, ?it/s]"
      ]
     },
     "metadata": {},
     "output_type": "display_data"
    },
    {
     "data": {
      "application/vnd.jupyter.widget-view+json": {
       "model_id": "882850ddd8c241539b1ed61bca89e753",
       "version_major": 2,
       "version_minor": 0
      },
      "text/plain": [
       "Predicting: 955it [00:00, ?it/s]"
      ]
     },
     "metadata": {},
     "output_type": "display_data"
    },
    {
     "data": {
      "application/vnd.jupyter.widget-view+json": {
       "model_id": "b19ea5686fd84d12874282ec3e513354",
       "version_major": 2,
       "version_minor": 0
      },
      "text/plain": [
       "Predicting: 955it [00:00, ?it/s]"
      ]
     },
     "metadata": {},
     "output_type": "display_data"
    },
    {
     "data": {
      "application/vnd.jupyter.widget-view+json": {
       "model_id": "0ae30874d64540578d879abb597fcbeb",
       "version_major": 2,
       "version_minor": 0
      },
      "text/plain": [
       "Predicting: 955it [00:00, ?it/s]"
      ]
     },
     "metadata": {},
     "output_type": "display_data"
    },
    {
     "data": {
      "application/vnd.jupyter.widget-view+json": {
       "model_id": "6062ed9194d94bc6a1fb8e002909d5c0",
       "version_major": 2,
       "version_minor": 0
      },
      "text/plain": [
       "Predicting: 955it [00:00, ?it/s]"
      ]
     },
     "metadata": {},
     "output_type": "display_data"
    },
    {
     "data": {
      "application/vnd.jupyter.widget-view+json": {
       "model_id": "5ed966f220a64a2e897e6f0eeeddaa5d",
       "version_major": 2,
       "version_minor": 0
      },
      "text/plain": [
       "Predicting: 955it [00:00, ?it/s]"
      ]
     },
     "metadata": {},
     "output_type": "display_data"
    },
    {
     "data": {
      "application/vnd.jupyter.widget-view+json": {
       "model_id": "3067ad4983c54fd8a577fd5c0bd92304",
       "version_major": 2,
       "version_minor": 0
      },
      "text/plain": [
       "Predicting: 955it [00:00, ?it/s]"
      ]
     },
     "metadata": {},
     "output_type": "display_data"
    },
    {
     "data": {
      "application/vnd.jupyter.widget-view+json": {
       "model_id": "42f7269071f34e36bf96a73738af84cb",
       "version_major": 2,
       "version_minor": 0
      },
      "text/plain": [
       "Predicting: 955it [00:00, ?it/s]"
      ]
     },
     "metadata": {},
     "output_type": "display_data"
    },
    {
     "data": {
      "application/vnd.jupyter.widget-view+json": {
       "model_id": "8cec0b218fba468ea58c623d5ea80523",
       "version_major": 2,
       "version_minor": 0
      },
      "text/plain": [
       "Predicting: 955it [00:00, ?it/s]"
      ]
     },
     "metadata": {},
     "output_type": "display_data"
    },
    {
     "data": {
      "application/vnd.jupyter.widget-view+json": {
       "model_id": "5ed3b61918fd426e98f6814d35ab3209",
       "version_major": 2,
       "version_minor": 0
      },
      "text/plain": [
       "Predicting: 955it [00:00, ?it/s]"
      ]
     },
     "metadata": {},
     "output_type": "display_data"
    },
    {
     "data": {
      "application/vnd.jupyter.widget-view+json": {
       "model_id": "25572ea5cf524a57b7d64e7ee1f485d1",
       "version_major": 2,
       "version_minor": 0
      },
      "text/plain": [
       "Predicting: 955it [00:00, ?it/s]"
      ]
     },
     "metadata": {},
     "output_type": "display_data"
    },
    {
     "data": {
      "application/vnd.jupyter.widget-view+json": {
       "model_id": "2c27912359b5472fb120105ae760b60e",
       "version_major": 2,
       "version_minor": 0
      },
      "text/plain": [
       "Predicting: 955it [00:00, ?it/s]"
      ]
     },
     "metadata": {},
     "output_type": "display_data"
    },
    {
     "data": {
      "application/vnd.jupyter.widget-view+json": {
       "model_id": "76f0bde77fef4ab3bc59a55f10aab69f",
       "version_major": 2,
       "version_minor": 0
      },
      "text/plain": [
       "Predicting: 955it [00:00, ?it/s]"
      ]
     },
     "metadata": {},
     "output_type": "display_data"
    },
    {
     "data": {
      "application/vnd.jupyter.widget-view+json": {
       "model_id": "46d5325ae5964d238da07c42893b1e47",
       "version_major": 2,
       "version_minor": 0
      },
      "text/plain": [
       "Predicting: 955it [00:00, ?it/s]"
      ]
     },
     "metadata": {},
     "output_type": "display_data"
    },
    {
     "data": {
      "application/vnd.jupyter.widget-view+json": {
       "model_id": "998662631e5d4c1a89ef687862898f92",
       "version_major": 2,
       "version_minor": 0
      },
      "text/plain": [
       "Predicting: 955it [00:00, ?it/s]"
      ]
     },
     "metadata": {},
     "output_type": "display_data"
    },
    {
     "data": {
      "application/vnd.jupyter.widget-view+json": {
       "model_id": "01199e3d713f427ea80fd4594e43e48c",
       "version_major": 2,
       "version_minor": 0
      },
      "text/plain": [
       "Predicting: 955it [00:00, ?it/s]"
      ]
     },
     "metadata": {},
     "output_type": "display_data"
    },
    {
     "data": {
      "application/vnd.jupyter.widget-view+json": {
       "model_id": "eed62985791e421ea52f2f4a0e47ea8f",
       "version_major": 2,
       "version_minor": 0
      },
      "text/plain": [
       "Predicting: 955it [00:00, ?it/s]"
      ]
     },
     "metadata": {},
     "output_type": "display_data"
    },
    {
     "data": {
      "application/vnd.jupyter.widget-view+json": {
       "model_id": "27c3133f1d47461fa83d3b1699050a5d",
       "version_major": 2,
       "version_minor": 0
      },
      "text/plain": [
       "Predicting: 955it [00:00, ?it/s]"
      ]
     },
     "metadata": {},
     "output_type": "display_data"
    },
    {
     "data": {
      "application/vnd.jupyter.widget-view+json": {
       "model_id": "68b16c4c4aed46a6b1d054f3b8b8f8e4",
       "version_major": 2,
       "version_minor": 0
      },
      "text/plain": [
       "Predicting: 955it [00:00, ?it/s]"
      ]
     },
     "metadata": {},
     "output_type": "display_data"
    },
    {
     "data": {
      "application/vnd.jupyter.widget-view+json": {
       "model_id": "c5e11c65989243cab1c03e6a53edf2d1",
       "version_major": 2,
       "version_minor": 0
      },
      "text/plain": [
       "Predicting: 955it [00:00, ?it/s]"
      ]
     },
     "metadata": {},
     "output_type": "display_data"
    },
    {
     "data": {
      "application/vnd.jupyter.widget-view+json": {
       "model_id": "a960d5b096244d77a61108418606f3d8",
       "version_major": 2,
       "version_minor": 0
      },
      "text/plain": [
       "Predicting: 955it [00:00, ?it/s]"
      ]
     },
     "metadata": {},
     "output_type": "display_data"
    },
    {
     "data": {
      "application/vnd.jupyter.widget-view+json": {
       "model_id": "81666ae58e8d44a9adde9e263daf1990",
       "version_major": 2,
       "version_minor": 0
      },
      "text/plain": [
       "Predicting: 955it [00:00, ?it/s]"
      ]
     },
     "metadata": {},
     "output_type": "display_data"
    },
    {
     "data": {
      "application/vnd.jupyter.widget-view+json": {
       "model_id": "84830e4a84d7481ebb08331677883e52",
       "version_major": 2,
       "version_minor": 0
      },
      "text/plain": [
       "Predicting: 955it [00:00, ?it/s]"
      ]
     },
     "metadata": {},
     "output_type": "display_data"
    },
    {
     "data": {
      "application/vnd.jupyter.widget-view+json": {
       "model_id": "b7abaa6c16be45df9ce105eead3de1bf",
       "version_major": 2,
       "version_minor": 0
      },
      "text/plain": [
       "Predicting: 955it [00:00, ?it/s]"
      ]
     },
     "metadata": {},
     "output_type": "display_data"
    },
    {
     "data": {
      "application/vnd.jupyter.widget-view+json": {
       "model_id": "fe3f02f31e4a452d9c215e6f8981f6dd",
       "version_major": 2,
       "version_minor": 0
      },
      "text/plain": [
       "Predicting: 955it [00:00, ?it/s]"
      ]
     },
     "metadata": {},
     "output_type": "display_data"
    },
    {
     "data": {
      "application/vnd.jupyter.widget-view+json": {
       "model_id": "6ce7240f1ad341618fa14ebd63198bf6",
       "version_major": 2,
       "version_minor": 0
      },
      "text/plain": [
       "Predicting: 955it [00:00, ?it/s]"
      ]
     },
     "metadata": {},
     "output_type": "display_data"
    },
    {
     "data": {
      "application/vnd.jupyter.widget-view+json": {
       "model_id": "634fa8042873488994cc7f100452cbf5",
       "version_major": 2,
       "version_minor": 0
      },
      "text/plain": [
       "Predicting: 955it [00:00, ?it/s]"
      ]
     },
     "metadata": {},
     "output_type": "display_data"
    },
    {
     "data": {
      "application/vnd.jupyter.widget-view+json": {
       "model_id": "7850a4c6391341ed89258a8ce869cda0",
       "version_major": 2,
       "version_minor": 0
      },
      "text/plain": [
       "Predicting: 955it [00:00, ?it/s]"
      ]
     },
     "metadata": {},
     "output_type": "display_data"
    },
    {
     "data": {
      "application/vnd.jupyter.widget-view+json": {
       "model_id": "5fb64cf8a01d4229a430761b49c0b937",
       "version_major": 2,
       "version_minor": 0
      },
      "text/plain": [
       "Predicting: 955it [00:00, ?it/s]"
      ]
     },
     "metadata": {},
     "output_type": "display_data"
    },
    {
     "data": {
      "application/vnd.jupyter.widget-view+json": {
       "model_id": "e06cbdd96e944c53b5e9aacebcbc2831",
       "version_major": 2,
       "version_minor": 0
      },
      "text/plain": [
       "Predicting: 955it [00:00, ?it/s]"
      ]
     },
     "metadata": {},
     "output_type": "display_data"
    },
    {
     "data": {
      "application/vnd.jupyter.widget-view+json": {
       "model_id": "1fcf2c64c141435a90f76c439bd12e7b",
       "version_major": 2,
       "version_minor": 0
      },
      "text/plain": [
       "Predicting: 955it [00:00, ?it/s]"
      ]
     },
     "metadata": {},
     "output_type": "display_data"
    },
    {
     "data": {
      "application/vnd.jupyter.widget-view+json": {
       "model_id": "376450f955eb4231ab0577204bcdde5f",
       "version_major": 2,
       "version_minor": 0
      },
      "text/plain": [
       "Predicting: 955it [00:00, ?it/s]"
      ]
     },
     "metadata": {},
     "output_type": "display_data"
    },
    {
     "data": {
      "application/vnd.jupyter.widget-view+json": {
       "model_id": "581f1b9a1eb3470eba7c8d74ca55bd4b",
       "version_major": 2,
       "version_minor": 0
      },
      "text/plain": [
       "Predicting: 955it [00:00, ?it/s]"
      ]
     },
     "metadata": {},
     "output_type": "display_data"
    },
    {
     "data": {
      "application/vnd.jupyter.widget-view+json": {
       "model_id": "463059f05bfd4c818075b5003f1afffc",
       "version_major": 2,
       "version_minor": 0
      },
      "text/plain": [
       "Predicting: 955it [00:00, ?it/s]"
      ]
     },
     "metadata": {},
     "output_type": "display_data"
    },
    {
     "data": {
      "application/vnd.jupyter.widget-view+json": {
       "model_id": "b8756cb18ad847858f4966b251665441",
       "version_major": 2,
       "version_minor": 0
      },
      "text/plain": [
       "Predicting: 955it [00:00, ?it/s]"
      ]
     },
     "metadata": {},
     "output_type": "display_data"
    },
    {
     "data": {
      "application/vnd.jupyter.widget-view+json": {
       "model_id": "adfd4da3c8eb4b25a899b8d382e78452",
       "version_major": 2,
       "version_minor": 0
      },
      "text/plain": [
       "Predicting: 955it [00:00, ?it/s]"
      ]
     },
     "metadata": {},
     "output_type": "display_data"
    },
    {
     "data": {
      "application/vnd.jupyter.widget-view+json": {
       "model_id": "5f8319a4676045a9ad85c19be04cd58e",
       "version_major": 2,
       "version_minor": 0
      },
      "text/plain": [
       "Predicting: 955it [00:00, ?it/s]"
      ]
     },
     "metadata": {},
     "output_type": "display_data"
    },
    {
     "data": {
      "application/vnd.jupyter.widget-view+json": {
       "model_id": "6b5cf4187162486fbc2d6f5d987d41f4",
       "version_major": 2,
       "version_minor": 0
      },
      "text/plain": [
       "Predicting: 955it [00:00, ?it/s]"
      ]
     },
     "metadata": {},
     "output_type": "display_data"
    },
    {
     "data": {
      "application/vnd.jupyter.widget-view+json": {
       "model_id": "3accad7997404593a68521aacf33f54d",
       "version_major": 2,
       "version_minor": 0
      },
      "text/plain": [
       "Predicting: 955it [00:00, ?it/s]"
      ]
     },
     "metadata": {},
     "output_type": "display_data"
    },
    {
     "data": {
      "application/vnd.jupyter.widget-view+json": {
       "model_id": "bd1cf15dc29e449c9d5221e0ccb49b9c",
       "version_major": 2,
       "version_minor": 0
      },
      "text/plain": [
       "Predicting: 955it [00:00, ?it/s]"
      ]
     },
     "metadata": {},
     "output_type": "display_data"
    },
    {
     "data": {
      "application/vnd.jupyter.widget-view+json": {
       "model_id": "1caa3923cad04361bcd4ebafc299949c",
       "version_major": 2,
       "version_minor": 0
      },
      "text/plain": [
       "Predicting: 955it [00:00, ?it/s]"
      ]
     },
     "metadata": {},
     "output_type": "display_data"
    },
    {
     "data": {
      "application/vnd.jupyter.widget-view+json": {
       "model_id": "b3ee2ccd82f14f398ec52de7f55d1534",
       "version_major": 2,
       "version_minor": 0
      },
      "text/plain": [
       "Predicting: 955it [00:00, ?it/s]"
      ]
     },
     "metadata": {},
     "output_type": "display_data"
    },
    {
     "data": {
      "application/vnd.jupyter.widget-view+json": {
       "model_id": "91a83324d9054ae9b288015c3976e37b",
       "version_major": 2,
       "version_minor": 0
      },
      "text/plain": [
       "Predicting: 955it [00:00, ?it/s]"
      ]
     },
     "metadata": {},
     "output_type": "display_data"
    },
    {
     "data": {
      "application/vnd.jupyter.widget-view+json": {
       "model_id": "fae0a9cb2ec54f8fbfef3b9f01cc90f1",
       "version_major": 2,
       "version_minor": 0
      },
      "text/plain": [
       "Predicting: 955it [00:00, ?it/s]"
      ]
     },
     "metadata": {},
     "output_type": "display_data"
    },
    {
     "data": {
      "application/vnd.jupyter.widget-view+json": {
       "model_id": "05424c69c4114894a3b5534376bec8cd",
       "version_major": 2,
       "version_minor": 0
      },
      "text/plain": [
       "Predicting: 955it [00:00, ?it/s]"
      ]
     },
     "metadata": {},
     "output_type": "display_data"
    },
    {
     "data": {
      "application/vnd.jupyter.widget-view+json": {
       "model_id": "b7138d5becac4bb7947063960a1c4aa8",
       "version_major": 2,
       "version_minor": 0
      },
      "text/plain": [
       "Predicting: 955it [00:00, ?it/s]"
      ]
     },
     "metadata": {},
     "output_type": "display_data"
    },
    {
     "data": {
      "application/vnd.jupyter.widget-view+json": {
       "model_id": "e4f1e87d00fc48e7af34b86b3f838b63",
       "version_major": 2,
       "version_minor": 0
      },
      "text/plain": [
       "Predicting: 955it [00:00, ?it/s]"
      ]
     },
     "metadata": {},
     "output_type": "display_data"
    },
    {
     "data": {
      "application/vnd.jupyter.widget-view+json": {
       "model_id": "eb5695920722492c8c9236edf3f94c7d",
       "version_major": 2,
       "version_minor": 0
      },
      "text/plain": [
       "Predicting: 955it [00:00, ?it/s]"
      ]
     },
     "metadata": {},
     "output_type": "display_data"
    },
    {
     "data": {
      "application/vnd.jupyter.widget-view+json": {
       "model_id": "b7932b873ff146b19b6d5ab49e966b63",
       "version_major": 2,
       "version_minor": 0
      },
      "text/plain": [
       "Predicting: 955it [00:00, ?it/s]"
      ]
     },
     "metadata": {},
     "output_type": "display_data"
    },
    {
     "data": {
      "application/vnd.jupyter.widget-view+json": {
       "model_id": "152df57b7a11468f8f073bcafa319cbd",
       "version_major": 2,
       "version_minor": 0
      },
      "text/plain": [
       "Predicting: 955it [00:00, ?it/s]"
      ]
     },
     "metadata": {},
     "output_type": "display_data"
    },
    {
     "data": {
      "application/vnd.jupyter.widget-view+json": {
       "model_id": "b2f7cc9b79234d678293a9a003ff1e23",
       "version_major": 2,
       "version_minor": 0
      },
      "text/plain": [
       "Predicting: 955it [00:00, ?it/s]"
      ]
     },
     "metadata": {},
     "output_type": "display_data"
    },
    {
     "data": {
      "application/vnd.jupyter.widget-view+json": {
       "model_id": "26af704673e04d2c8e49349ef522c570",
       "version_major": 2,
       "version_minor": 0
      },
      "text/plain": [
       "Predicting: 955it [00:00, ?it/s]"
      ]
     },
     "metadata": {},
     "output_type": "display_data"
    },
    {
     "data": {
      "application/vnd.jupyter.widget-view+json": {
       "model_id": "495b117d561c4439b2ca05db20014a3c",
       "version_major": 2,
       "version_minor": 0
      },
      "text/plain": [
       "Predicting: 955it [00:00, ?it/s]"
      ]
     },
     "metadata": {},
     "output_type": "display_data"
    },
    {
     "data": {
      "application/vnd.jupyter.widget-view+json": {
       "model_id": "5adbfc43706840dbb7542d232b5f51dc",
       "version_major": 2,
       "version_minor": 0
      },
      "text/plain": [
       "Predicting: 955it [00:00, ?it/s]"
      ]
     },
     "metadata": {},
     "output_type": "display_data"
    },
    {
     "data": {
      "application/vnd.jupyter.widget-view+json": {
       "model_id": "3ba961f21c9a480e90931c94a84df3ea",
       "version_major": 2,
       "version_minor": 0
      },
      "text/plain": [
       "Predicting: 955it [00:00, ?it/s]"
      ]
     },
     "metadata": {},
     "output_type": "display_data"
    },
    {
     "data": {
      "application/vnd.jupyter.widget-view+json": {
       "model_id": "39a0d8b8425747b282e4c4998aecc344",
       "version_major": 2,
       "version_minor": 0
      },
      "text/plain": [
       "Predicting: 955it [00:00, ?it/s]"
      ]
     },
     "metadata": {},
     "output_type": "display_data"
    },
    {
     "data": {
      "application/vnd.jupyter.widget-view+json": {
       "model_id": "1ac11c6b23f2477aaf8a726536311dbf",
       "version_major": 2,
       "version_minor": 0
      },
      "text/plain": [
       "Predicting: 955it [00:00, ?it/s]"
      ]
     },
     "metadata": {},
     "output_type": "display_data"
    },
    {
     "data": {
      "application/vnd.jupyter.widget-view+json": {
       "model_id": "c39c8ec056e34afeab2a1e8d2c2ff531",
       "version_major": 2,
       "version_minor": 0
      },
      "text/plain": [
       "Predicting: 955it [00:00, ?it/s]"
      ]
     },
     "metadata": {},
     "output_type": "display_data"
    },
    {
     "data": {
      "application/vnd.jupyter.widget-view+json": {
       "model_id": "36d0eb2abdfb4da69b34fedee13bddc8",
       "version_major": 2,
       "version_minor": 0
      },
      "text/plain": [
       "Predicting: 955it [00:00, ?it/s]"
      ]
     },
     "metadata": {},
     "output_type": "display_data"
    },
    {
     "data": {
      "application/vnd.jupyter.widget-view+json": {
       "model_id": "1f50899bd616411dbcbc9f5dd9f0b9a6",
       "version_major": 2,
       "version_minor": 0
      },
      "text/plain": [
       "Predicting: 955it [00:00, ?it/s]"
      ]
     },
     "metadata": {},
     "output_type": "display_data"
    },
    {
     "data": {
      "application/vnd.jupyter.widget-view+json": {
       "model_id": "039c62e3787043caaa395a09d2db7e05",
       "version_major": 2,
       "version_minor": 0
      },
      "text/plain": [
       "Predicting: 955it [00:00, ?it/s]"
      ]
     },
     "metadata": {},
     "output_type": "display_data"
    },
    {
     "data": {
      "application/vnd.jupyter.widget-view+json": {
       "model_id": "b016a4ce54d84c3f8dbf21ab9924e171",
       "version_major": 2,
       "version_minor": 0
      },
      "text/plain": [
       "Predicting: 955it [00:00, ?it/s]"
      ]
     },
     "metadata": {},
     "output_type": "display_data"
    },
    {
     "data": {
      "application/vnd.jupyter.widget-view+json": {
       "model_id": "04b61b7da9464952b329102cebe1c521",
       "version_major": 2,
       "version_minor": 0
      },
      "text/plain": [
       "Predicting: 955it [00:00, ?it/s]"
      ]
     },
     "metadata": {},
     "output_type": "display_data"
    },
    {
     "data": {
      "application/vnd.jupyter.widget-view+json": {
       "model_id": "c8157e9d306a43c6908e85a081c32d56",
       "version_major": 2,
       "version_minor": 0
      },
      "text/plain": [
       "Predicting: 955it [00:00, ?it/s]"
      ]
     },
     "metadata": {},
     "output_type": "display_data"
    },
    {
     "data": {
      "application/vnd.jupyter.widget-view+json": {
       "model_id": "5811a429ade34b698c4833d11dc9b5ed",
       "version_major": 2,
       "version_minor": 0
      },
      "text/plain": [
       "Predicting: 955it [00:00, ?it/s]"
      ]
     },
     "metadata": {},
     "output_type": "display_data"
    },
    {
     "data": {
      "application/vnd.jupyter.widget-view+json": {
       "model_id": "3db8a5fbfc8b4df9befdb776b7c280b3",
       "version_major": 2,
       "version_minor": 0
      },
      "text/plain": [
       "Predicting: 955it [00:00, ?it/s]"
      ]
     },
     "metadata": {},
     "output_type": "display_data"
    },
    {
     "data": {
      "application/vnd.jupyter.widget-view+json": {
       "model_id": "0dd8d17e594146b6b53587f6e09b4959",
       "version_major": 2,
       "version_minor": 0
      },
      "text/plain": [
       "Predicting: 955it [00:00, ?it/s]"
      ]
     },
     "metadata": {},
     "output_type": "display_data"
    },
    {
     "data": {
      "application/vnd.jupyter.widget-view+json": {
       "model_id": "ca92f9fa67724814a2ee94070ee4f4a2",
       "version_major": 2,
       "version_minor": 0
      },
      "text/plain": [
       "Predicting: 955it [00:00, ?it/s]"
      ]
     },
     "metadata": {},
     "output_type": "display_data"
    },
    {
     "data": {
      "application/vnd.jupyter.widget-view+json": {
       "model_id": "fdfb6299110648d79f31ac08a1e2f60d",
       "version_major": 2,
       "version_minor": 0
      },
      "text/plain": [
       "Predicting: 955it [00:00, ?it/s]"
      ]
     },
     "metadata": {},
     "output_type": "display_data"
    },
    {
     "data": {
      "application/vnd.jupyter.widget-view+json": {
       "model_id": "01bc7ef86a5a4717ad5517ed850dd2c8",
       "version_major": 2,
       "version_minor": 0
      },
      "text/plain": [
       "Predicting: 955it [00:00, ?it/s]"
      ]
     },
     "metadata": {},
     "output_type": "display_data"
    },
    {
     "data": {
      "application/vnd.jupyter.widget-view+json": {
       "model_id": "762da905013e44d696fbb0f55823f500",
       "version_major": 2,
       "version_minor": 0
      },
      "text/plain": [
       "Predicting: 955it [00:00, ?it/s]"
      ]
     },
     "metadata": {},
     "output_type": "display_data"
    }
   ],
   "source": [
    "for pred in range(df['location'].max()+1):\n",
    "    if pred == 0:\n",
    "        predictions = model.predict(n=12,series=location_list[0]).pd_dataframe()\n",
    "    else:\n",
    "        predictions[str(pred)] = model.predict(n=12,series=location_list[pred]).pd_dataframe()"
   ]
  },
  {
   "cell_type": "code",
   "execution_count": 42,
   "metadata": {},
   "outputs": [
    {
     "data": {
      "text/html": [
       "<div>\n",
       "<style scoped>\n",
       "    .dataframe tbody tr th:only-of-type {\n",
       "        vertical-align: middle;\n",
       "    }\n",
       "\n",
       "    .dataframe tbody tr th {\n",
       "        vertical-align: top;\n",
       "    }\n",
       "\n",
       "    .dataframe thead th {\n",
       "        text-align: right;\n",
       "    }\n",
       "</style>\n",
       "<table border=\"1\" class=\"dataframe\">\n",
       "  <thead>\n",
       "    <tr style=\"text-align: right;\">\n",
       "      <th>component</th>\n",
       "      <th>0</th>\n",
       "      <th>1</th>\n",
       "      <th>2</th>\n",
       "      <th>3</th>\n",
       "      <th>4</th>\n",
       "      <th>5</th>\n",
       "      <th>6</th>\n",
       "      <th>7</th>\n",
       "      <th>8</th>\n",
       "      <th>9</th>\n",
       "      <th>...</th>\n",
       "      <th>139</th>\n",
       "      <th>140</th>\n",
       "      <th>141</th>\n",
       "      <th>142</th>\n",
       "      <th>143</th>\n",
       "      <th>144</th>\n",
       "      <th>145</th>\n",
       "      <th>146</th>\n",
       "      <th>147</th>\n",
       "      <th>148</th>\n",
       "    </tr>\n",
       "    <tr>\n",
       "      <th>date</th>\n",
       "      <th></th>\n",
       "      <th></th>\n",
       "      <th></th>\n",
       "      <th></th>\n",
       "      <th></th>\n",
       "      <th></th>\n",
       "      <th></th>\n",
       "      <th></th>\n",
       "      <th></th>\n",
       "      <th></th>\n",
       "      <th></th>\n",
       "      <th></th>\n",
       "      <th></th>\n",
       "      <th></th>\n",
       "      <th></th>\n",
       "      <th></th>\n",
       "      <th></th>\n",
       "      <th></th>\n",
       "      <th></th>\n",
       "      <th></th>\n",
       "      <th></th>\n",
       "    </tr>\n",
       "  </thead>\n",
       "  <tbody>\n",
       "    <tr>\n",
       "      <th>2020-01-01</th>\n",
       "      <td>5.593482</td>\n",
       "      <td>5.145178</td>\n",
       "      <td>12.120938</td>\n",
       "      <td>6.267934</td>\n",
       "      <td>5.894679</td>\n",
       "      <td>10.502774</td>\n",
       "      <td>5.362218</td>\n",
       "      <td>6.130201</td>\n",
       "      <td>2.399895</td>\n",
       "      <td>15.564518</td>\n",
       "      <td>...</td>\n",
       "      <td>12.821369</td>\n",
       "      <td>5.389926</td>\n",
       "      <td>5.543154</td>\n",
       "      <td>6.095106</td>\n",
       "      <td>9.812751</td>\n",
       "      <td>7.600881</td>\n",
       "      <td>5.895656</td>\n",
       "      <td>4.259109</td>\n",
       "      <td>8.128101</td>\n",
       "      <td>9.411636</td>\n",
       "    </tr>\n",
       "    <tr>\n",
       "      <th>2020-02-01</th>\n",
       "      <td>5.340801</td>\n",
       "      <td>4.468115</td>\n",
       "      <td>10.415735</td>\n",
       "      <td>5.410144</td>\n",
       "      <td>5.090310</td>\n",
       "      <td>10.146420</td>\n",
       "      <td>4.637782</td>\n",
       "      <td>5.292621</td>\n",
       "      <td>2.468360</td>\n",
       "      <td>13.374831</td>\n",
       "      <td>...</td>\n",
       "      <td>11.032078</td>\n",
       "      <td>4.661174</td>\n",
       "      <td>4.786681</td>\n",
       "      <td>5.263364</td>\n",
       "      <td>8.465839</td>\n",
       "      <td>6.553534</td>\n",
       "      <td>5.952656</td>\n",
       "      <td>3.841788</td>\n",
       "      <td>7.500984</td>\n",
       "      <td>8.723116</td>\n",
       "    </tr>\n",
       "    <tr>\n",
       "      <th>2020-03-01</th>\n",
       "      <td>4.944789</td>\n",
       "      <td>4.323258</td>\n",
       "      <td>10.159934</td>\n",
       "      <td>5.263462</td>\n",
       "      <td>4.945358</td>\n",
       "      <td>9.450757</td>\n",
       "      <td>4.492110</td>\n",
       "      <td>5.147662</td>\n",
       "      <td>2.361025</td>\n",
       "      <td>13.009865</td>\n",
       "      <td>...</td>\n",
       "      <td>10.714698</td>\n",
       "      <td>4.515558</td>\n",
       "      <td>4.642545</td>\n",
       "      <td>5.118001</td>\n",
       "      <td>8.267575</td>\n",
       "      <td>6.391966</td>\n",
       "      <td>5.935181</td>\n",
       "      <td>3.849783</td>\n",
       "      <td>7.515462</td>\n",
       "      <td>8.667863</td>\n",
       "    </tr>\n",
       "    <tr>\n",
       "      <th>2020-04-01</th>\n",
       "      <td>4.517986</td>\n",
       "      <td>3.892381</td>\n",
       "      <td>9.116321</td>\n",
       "      <td>4.733145</td>\n",
       "      <td>4.445818</td>\n",
       "      <td>8.643352</td>\n",
       "      <td>4.039334</td>\n",
       "      <td>4.628006</td>\n",
       "      <td>2.300295</td>\n",
       "      <td>11.710625</td>\n",
       "      <td>...</td>\n",
       "      <td>9.629584</td>\n",
       "      <td>4.060062</td>\n",
       "      <td>4.172779</td>\n",
       "      <td>4.601231</td>\n",
       "      <td>7.426806</td>\n",
       "      <td>5.740623</td>\n",
       "      <td>5.911848</td>\n",
       "      <td>3.383503</td>\n",
       "      <td>6.514612</td>\n",
       "      <td>7.533070</td>\n",
       "    </tr>\n",
       "    <tr>\n",
       "      <th>2020-05-01</th>\n",
       "      <td>4.256021</td>\n",
       "      <td>4.363504</td>\n",
       "      <td>10.188133</td>\n",
       "      <td>5.301566</td>\n",
       "      <td>4.984846</td>\n",
       "      <td>8.078962</td>\n",
       "      <td>4.537460</td>\n",
       "      <td>5.185862</td>\n",
       "      <td>2.231837</td>\n",
       "      <td>13.040614</td>\n",
       "      <td>...</td>\n",
       "      <td>10.706261</td>\n",
       "      <td>4.560004</td>\n",
       "      <td>4.686229</td>\n",
       "      <td>5.155032</td>\n",
       "      <td>8.266882</td>\n",
       "      <td>6.411959</td>\n",
       "      <td>5.950560</td>\n",
       "      <td>3.324636</td>\n",
       "      <td>6.422199</td>\n",
       "      <td>7.389604</td>\n",
       "    </tr>\n",
       "  </tbody>\n",
       "</table>\n",
       "<p>5 rows × 149 columns</p>\n",
       "</div>"
      ],
      "text/plain": [
       "component          0         1          2         3         4          5  \\\n",
       "date                                                                       \n",
       "2020-01-01  5.593482  5.145178  12.120938  6.267934  5.894679  10.502774   \n",
       "2020-02-01  5.340801  4.468115  10.415735  5.410144  5.090310  10.146420   \n",
       "2020-03-01  4.944789  4.323258  10.159934  5.263462  4.945358   9.450757   \n",
       "2020-04-01  4.517986  3.892381   9.116321  4.733145  4.445818   8.643352   \n",
       "2020-05-01  4.256021  4.363504  10.188133  5.301566  4.984846   8.078962   \n",
       "\n",
       "component          6         7         8          9  ...        139       140  \\\n",
       "date                                                 ...                        \n",
       "2020-01-01  5.362218  6.130201  2.399895  15.564518  ...  12.821369  5.389926   \n",
       "2020-02-01  4.637782  5.292621  2.468360  13.374831  ...  11.032078  4.661174   \n",
       "2020-03-01  4.492110  5.147662  2.361025  13.009865  ...  10.714698  4.515558   \n",
       "2020-04-01  4.039334  4.628006  2.300295  11.710625  ...   9.629584  4.060062   \n",
       "2020-05-01  4.537460  5.185862  2.231837  13.040614  ...  10.706261  4.560004   \n",
       "\n",
       "component        141       142       143       144       145       146  \\\n",
       "date                                                                     \n",
       "2020-01-01  5.543154  6.095106  9.812751  7.600881  5.895656  4.259109   \n",
       "2020-02-01  4.786681  5.263364  8.465839  6.553534  5.952656  3.841788   \n",
       "2020-03-01  4.642545  5.118001  8.267575  6.391966  5.935181  3.849783   \n",
       "2020-04-01  4.172779  4.601231  7.426806  5.740623  5.911848  3.383503   \n",
       "2020-05-01  4.686229  5.155032  8.266882  6.411959  5.950560  3.324636   \n",
       "\n",
       "component        147       148  \n",
       "date                            \n",
       "2020-01-01  8.128101  9.411636  \n",
       "2020-02-01  7.500984  8.723116  \n",
       "2020-03-01  7.515462  8.667863  \n",
       "2020-04-01  6.514612  7.533070  \n",
       "2020-05-01  6.422199  7.389604  \n",
       "\n",
       "[5 rows x 149 columns]"
      ]
     },
     "execution_count": 42,
     "metadata": {},
     "output_type": "execute_result"
    }
   ],
   "source": [
    "predictions.head()"
   ]
  },
  {
   "cell_type": "code",
   "execution_count": 43,
   "metadata": {},
   "outputs": [],
   "source": [
    "predictions = predictions.melt(value_vars=predictions.iloc[:,:].columns,var_name='location',value_name='co2',ignore_index=False)"
   ]
  },
  {
   "cell_type": "code",
   "execution_count": 44,
   "metadata": {},
   "outputs": [],
   "source": [
    "predictions['location'] = predictions['location'].astype(int)"
   ]
  },
  {
   "cell_type": "code",
   "execution_count": 45,
   "metadata": {},
   "outputs": [
    {
     "data": {
      "text/html": [
       "<div>\n",
       "<style scoped>\n",
       "    .dataframe tbody tr th:only-of-type {\n",
       "        vertical-align: middle;\n",
       "    }\n",
       "\n",
       "    .dataframe tbody tr th {\n",
       "        vertical-align: top;\n",
       "    }\n",
       "\n",
       "    .dataframe thead th {\n",
       "        text-align: right;\n",
       "    }\n",
       "</style>\n",
       "<table border=\"1\" class=\"dataframe\">\n",
       "  <thead>\n",
       "    <tr style=\"text-align: right;\">\n",
       "      <th></th>\n",
       "      <th>location</th>\n",
       "      <th>co2</th>\n",
       "    </tr>\n",
       "    <tr>\n",
       "      <th>date</th>\n",
       "      <th></th>\n",
       "      <th></th>\n",
       "    </tr>\n",
       "  </thead>\n",
       "  <tbody>\n",
       "    <tr>\n",
       "      <th>2020-01-01</th>\n",
       "      <td>0</td>\n",
       "      <td>5.593482</td>\n",
       "    </tr>\n",
       "    <tr>\n",
       "      <th>2020-02-01</th>\n",
       "      <td>0</td>\n",
       "      <td>5.340801</td>\n",
       "    </tr>\n",
       "    <tr>\n",
       "      <th>2020-03-01</th>\n",
       "      <td>0</td>\n",
       "      <td>4.944789</td>\n",
       "    </tr>\n",
       "    <tr>\n",
       "      <th>2020-04-01</th>\n",
       "      <td>0</td>\n",
       "      <td>4.517986</td>\n",
       "    </tr>\n",
       "    <tr>\n",
       "      <th>2020-05-01</th>\n",
       "      <td>0</td>\n",
       "      <td>4.256021</td>\n",
       "    </tr>\n",
       "  </tbody>\n",
       "</table>\n",
       "</div>"
      ],
      "text/plain": [
       "            location       co2\n",
       "date                          \n",
       "2020-01-01         0  5.593482\n",
       "2020-02-01         0  5.340801\n",
       "2020-03-01         0  4.944789\n",
       "2020-04-01         0  4.517986\n",
       "2020-05-01         0  4.256021"
      ]
     },
     "execution_count": 45,
     "metadata": {},
     "output_type": "execute_result"
    }
   ],
   "source": [
    "predictions.head()"
   ]
  },
  {
   "cell_type": "markdown",
   "metadata": {},
   "source": [
    "### Forecasting with TEST dataset\n",
    "\n",
    "- Import Test Dataset\n",
    "- Feature Engineering on test dataset\n",
    "- Match encoded location from df on test dataset\n",
    "- Join predictions based on location and date\n",
    "- Export Resuts"
   ]
  },
  {
   "cell_type": "code",
   "execution_count": 46,
   "metadata": {},
   "outputs": [],
   "source": [
    "test_raw = pd.read_csv('test.csv',index_col=False)"
   ]
  },
  {
   "cell_type": "code",
   "execution_count": 47,
   "metadata": {},
   "outputs": [],
   "source": [
    "test = test_raw.copy()"
   ]
  },
  {
   "cell_type": "code",
   "execution_count": 48,
   "metadata": {},
   "outputs": [],
   "source": [
    "# Test dataset Feature Engineering\n",
    "test['day'] = 1\n",
    "test['month'] = test['month']+ 1\n",
    "test['date'] = pd.to_datetime(test[['year','month','day']])\n",
    "test['lat_long'] = list(zip(test['latitude'], test['longitude']))"
   ]
  },
  {
   "cell_type": "code",
   "execution_count": 49,
   "metadata": {},
   "outputs": [
    {
     "data": {
      "text/html": [
       "<div>\n",
       "<style scoped>\n",
       "    .dataframe tbody tr th:only-of-type {\n",
       "        vertical-align: middle;\n",
       "    }\n",
       "\n",
       "    .dataframe tbody tr th {\n",
       "        vertical-align: top;\n",
       "    }\n",
       "\n",
       "    .dataframe thead th {\n",
       "        text-align: right;\n",
       "    }\n",
       "</style>\n",
       "<table border=\"1\" class=\"dataframe\">\n",
       "  <thead>\n",
       "    <tr style=\"text-align: right;\">\n",
       "      <th></th>\n",
       "      <th>Unnamed: 0</th>\n",
       "      <th>month</th>\n",
       "      <th>year</th>\n",
       "      <th>latitude</th>\n",
       "      <th>longitude</th>\n",
       "      <th>day</th>\n",
       "      <th>date</th>\n",
       "      <th>lat_long</th>\n",
       "    </tr>\n",
       "  </thead>\n",
       "  <tbody>\n",
       "    <tr>\n",
       "      <th>0</th>\n",
       "      <td>3970411</td>\n",
       "      <td>1</td>\n",
       "      <td>2020</td>\n",
       "      <td>33.3</td>\n",
       "      <td>-112.8</td>\n",
       "      <td>1</td>\n",
       "      <td>2020-01-01</td>\n",
       "      <td>(33.3, -112.8)</td>\n",
       "    </tr>\n",
       "    <tr>\n",
       "      <th>1</th>\n",
       "      <td>3970420</td>\n",
       "      <td>1</td>\n",
       "      <td>2020</td>\n",
       "      <td>39.5</td>\n",
       "      <td>-112.5</td>\n",
       "      <td>1</td>\n",
       "      <td>2020-01-01</td>\n",
       "      <td>(39.5, -112.5)</td>\n",
       "    </tr>\n",
       "  </tbody>\n",
       "</table>\n",
       "</div>"
      ],
      "text/plain": [
       "   Unnamed: 0  month  year  latitude  longitude  day       date  \\\n",
       "0     3970411      1  2020      33.3     -112.8    1 2020-01-01   \n",
       "1     3970420      1  2020      39.5     -112.5    1 2020-01-01   \n",
       "\n",
       "         lat_long  \n",
       "0  (33.3, -112.8)  \n",
       "1  (39.5, -112.5)  "
      ]
     },
     "execution_count": 49,
     "metadata": {},
     "output_type": "execute_result"
    }
   ],
   "source": [
    "test.head(2)"
   ]
  },
  {
   "cell_type": "code",
   "execution_count": 50,
   "metadata": {},
   "outputs": [],
   "source": [
    "test.drop(labels=['Unnamed: 0','month','year','day','longitude','latitude'],axis=1,inplace=True)"
   ]
  },
  {
   "cell_type": "code",
   "execution_count": 51,
   "metadata": {},
   "outputs": [],
   "source": [
    "query = []\n",
    "for coor in range(len(test)):\n",
    "    query.append(df[df['lat_long'] == test['lat_long'][coor]]['location'].unique()[0])\n",
    "test['location'] = query"
   ]
  },
  {
   "cell_type": "code",
   "execution_count": 52,
   "metadata": {},
   "outputs": [],
   "source": [
    "results = pd.merge(left=test, right=predictions, how='left', on=['date','location'])"
   ]
  },
  {
   "cell_type": "code",
   "execution_count": 54,
   "metadata": {},
   "outputs": [],
   "source": [
    "# Export Results (uncomment this cell to export results)\n",
    "results = round(results['co2'],2)\n",
    "results.to_csv('Submission_Antonio-Aamer.csv',index=False)"
   ]
  },
  {
   "cell_type": "markdown",
   "metadata": {},
   "source": [
    "### END\n",
    "- Authors: Antonio Dagnino Mendez, Aamer Kazi\n",
    "- Date: May-2022"
   ]
  }
 ],
 "metadata": {
  "kernelspec": {
   "display_name": "Python 3",
   "language": "python",
   "name": "python3"
  },
  "language_info": {
   "codemirror_mode": {
    "name": "ipython",
    "version": 3
   },
   "file_extension": ".py",
   "mimetype": "text/x-python",
   "name": "python",
   "nbconvert_exporter": "python",
   "pygments_lexer": "ipython3",
   "version": "3.8.5"
  }
 },
 "nbformat": 4,
 "nbformat_minor": 4
}
