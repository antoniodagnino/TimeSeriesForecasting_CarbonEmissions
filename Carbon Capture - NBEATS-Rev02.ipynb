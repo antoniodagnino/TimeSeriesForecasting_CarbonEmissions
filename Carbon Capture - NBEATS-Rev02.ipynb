{
 "cells": [
  {
   "cell_type": "markdown",
   "metadata": {},
   "source": [
    "# Carbon Capture - NBEATS\n",
    "\n",
    "- Exploratory Data Analysis\n",
    "    - Data Overview\n",
    "    - Feature Engineering\n",
    "    - Pre-Processing\n",
    "- Data Modeling\n",
    "    - Create NBEATS instance (a generic model for all time-series)\n",
    "    - Fit the model with all time-series in df\n",
    "    - Save / load model for future use\n",
    "    - Forecast on some locations and plot results\n",
    "    - Create Predictions dataframe\n",
    "    - Feature Engineering predictions dataframe\n",
    "- Forecasting with TEST dataset\n",
    "    - Import Test Dataset\n",
    "    - Feature Engineering on test dataset\n",
    "    - Match encoded location from df on test dataset\n",
    "    - Join predictions based on location and date\n",
    "    - Export Resuts"
   ]
  },
  {
   "cell_type": "markdown",
   "metadata": {},
   "source": [
    "### EDA: Data overview"
   ]
  },
  {
   "cell_type": "code",
   "execution_count": 1,
   "metadata": {},
   "outputs": [],
   "source": [
    "import numpy as np\n",
    "import pandas as pd\n",
    "import matplotlib.pyplot as plt\n",
    "import seaborn as sns\n",
    "import os\n",
    "# Load specific forecasting tools\n",
    "from darts import TimeSeries\n",
    "from darts.models import NBEATSModel\n",
    "from sklearn.preprocessing import LabelEncoder\n",
    "from darts.dataprocessing.transformers import Scaler\n",
    "import time\n",
    "from pylab import rcParams\n",
    "import datetime\n",
    "\n",
    "# Ignore harmless warnings\n",
    "import warnings\n",
    "warnings.filterwarnings(\"ignore\")\n",
    "# Size of all plots\n",
    "rcParams['figure.figsize'] = 12,6"
   ]
  },
  {
   "cell_type": "code",
   "execution_count": 2,
   "metadata": {},
   "outputs": [],
   "source": [
    "df_raw = pd.read_csv('train.csv',index_col=0)"
   ]
  },
  {
   "cell_type": "code",
   "execution_count": 3,
   "metadata": {},
   "outputs": [
    {
     "data": {
      "text/html": [
       "<div>\n",
       "<style scoped>\n",
       "    .dataframe tbody tr th:only-of-type {\n",
       "        vertical-align: middle;\n",
       "    }\n",
       "\n",
       "    .dataframe tbody tr th {\n",
       "        vertical-align: top;\n",
       "    }\n",
       "\n",
       "    .dataframe thead th {\n",
       "        text-align: right;\n",
       "    }\n",
       "</style>\n",
       "<table border=\"1\" class=\"dataframe\">\n",
       "  <thead>\n",
       "    <tr style=\"text-align: right;\">\n",
       "      <th></th>\n",
       "      <th>month</th>\n",
       "      <th>year</th>\n",
       "      <th>latitude</th>\n",
       "      <th>longitude</th>\n",
       "      <th>co2</th>\n",
       "    </tr>\n",
       "  </thead>\n",
       "  <tbody>\n",
       "    <tr>\n",
       "      <th>384</th>\n",
       "      <td>0</td>\n",
       "      <td>2000</td>\n",
       "      <td>35.1</td>\n",
       "      <td>-114.5</td>\n",
       "      <td>24.550266</td>\n",
       "    </tr>\n",
       "    <tr>\n",
       "      <th>421</th>\n",
       "      <td>0</td>\n",
       "      <td>2000</td>\n",
       "      <td>33.3</td>\n",
       "      <td>-112.8</td>\n",
       "      <td>4.388263</td>\n",
       "    </tr>\n",
       "    <tr>\n",
       "      <th>426</th>\n",
       "      <td>0</td>\n",
       "      <td>2000</td>\n",
       "      <td>39.5</td>\n",
       "      <td>-112.5</td>\n",
       "      <td>13.314685</td>\n",
       "    </tr>\n",
       "    <tr>\n",
       "      <th>466</th>\n",
       "      <td>0</td>\n",
       "      <td>2000</td>\n",
       "      <td>36.9</td>\n",
       "      <td>-111.3</td>\n",
       "      <td>16.433954</td>\n",
       "    </tr>\n",
       "    <tr>\n",
       "      <th>470</th>\n",
       "      <td>0</td>\n",
       "      <td>2000</td>\n",
       "      <td>39.1</td>\n",
       "      <td>-111.1</td>\n",
       "      <td>10.039619</td>\n",
       "    </tr>\n",
       "  </tbody>\n",
       "</table>\n",
       "</div>"
      ],
      "text/plain": [
       "     month  year  latitude  longitude        co2\n",
       "384      0  2000      35.1     -114.5  24.550266\n",
       "421      0  2000      33.3     -112.8   4.388263\n",
       "426      0  2000      39.5     -112.5  13.314685\n",
       "466      0  2000      36.9     -111.3  16.433954\n",
       "470      0  2000      39.1     -111.1  10.039619"
      ]
     },
     "execution_count": 3,
     "metadata": {},
     "output_type": "execute_result"
    }
   ],
   "source": [
    "df_raw.head()"
   ]
  },
  {
   "cell_type": "code",
   "execution_count": 4,
   "metadata": {},
   "outputs": [
    {
     "name": "stdout",
     "output_type": "stream",
     "text": [
      "<class 'pandas.core.frame.DataFrame'>\n",
      "Int64Index: 36276 entries, 384 to 3957963\n",
      "Data columns (total 5 columns):\n",
      " #   Column     Non-Null Count  Dtype  \n",
      "---  ------     --------------  -----  \n",
      " 0   month      36276 non-null  int64  \n",
      " 1   year       36276 non-null  int64  \n",
      " 2   latitude   36276 non-null  float64\n",
      " 3   longitude  36276 non-null  float64\n",
      " 4   co2        36276 non-null  float64\n",
      "dtypes: float64(3), int64(2)\n",
      "memory usage: 1.7 MB\n"
     ]
    }
   ],
   "source": [
    "df_raw.info()"
   ]
  },
  {
   "cell_type": "code",
   "execution_count": 5,
   "metadata": {},
   "outputs": [
    {
     "data": {
      "text/plain": [
       "array([2000, 2001, 2002, 2003, 2004, 2005, 2006, 2007, 2008, 2009, 2010,\n",
       "       2011, 2012, 2013, 2014, 2015, 2016, 2017, 2018, 2019], dtype=int64)"
      ]
     },
     "execution_count": 5,
     "metadata": {},
     "output_type": "execute_result"
    }
   ],
   "source": [
    "df_raw.year.unique()"
   ]
  },
  {
   "cell_type": "code",
   "execution_count": 6,
   "metadata": {},
   "outputs": [
    {
     "data": {
      "text/plain": [
       "array([ 0,  1,  2,  3,  4,  5,  6,  7,  8,  9, 10, 11], dtype=int64)"
      ]
     },
     "execution_count": 6,
     "metadata": {},
     "output_type": "execute_result"
    }
   ],
   "source": [
    "df_raw.month.unique()"
   ]
  },
  {
   "cell_type": "markdown",
   "metadata": {},
   "source": [
    "### EDA: Feature Engineering"
   ]
  },
  {
   "cell_type": "code",
   "execution_count": 7,
   "metadata": {},
   "outputs": [],
   "source": [
    "df = df_raw.copy()"
   ]
  },
  {
   "cell_type": "code",
   "execution_count": 8,
   "metadata": {},
   "outputs": [],
   "source": [
    "# Adding day column for date\n",
    "df['day'] = 1\n",
    "\n",
    "# Adding 1 to month to make sure it is ranging from 1-12\n",
    "df['month'] = df['month']+ 1"
   ]
  },
  {
   "cell_type": "code",
   "execution_count": 9,
   "metadata": {},
   "outputs": [],
   "source": [
    "# Create column in datetime data type\n",
    "df['date'] = pd.to_datetime(df[['year','month','day']])"
   ]
  },
  {
   "cell_type": "code",
   "execution_count": 10,
   "metadata": {},
   "outputs": [],
   "source": [
    "# Create a column with tuple containing latitude and longitude together\n",
    "df['lat_long'] = list(zip(df['latitude'], df['longitude']))"
   ]
  },
  {
   "cell_type": "code",
   "execution_count": 11,
   "metadata": {},
   "outputs": [
    {
     "data": {
      "text/plain": [
       "153"
      ]
     },
     "execution_count": 11,
     "metadata": {},
     "output_type": "execute_result"
    }
   ],
   "source": [
    "df['lat_long'].nunique()"
   ]
  },
  {
   "cell_type": "code",
   "execution_count": 12,
   "metadata": {},
   "outputs": [],
   "source": [
    "# drop unnecesary / redundant data \n",
    "df.drop(labels=['month','year','day','longitude','latitude'],axis=1,inplace=True)"
   ]
  },
  {
   "cell_type": "code",
   "execution_count": 13,
   "metadata": {},
   "outputs": [
    {
     "data": {
      "text/html": [
       "<div>\n",
       "<style scoped>\n",
       "    .dataframe tbody tr th:only-of-type {\n",
       "        vertical-align: middle;\n",
       "    }\n",
       "\n",
       "    .dataframe tbody tr th {\n",
       "        vertical-align: top;\n",
       "    }\n",
       "\n",
       "    .dataframe thead th {\n",
       "        text-align: right;\n",
       "    }\n",
       "</style>\n",
       "<table border=\"1\" class=\"dataframe\">\n",
       "  <thead>\n",
       "    <tr style=\"text-align: right;\">\n",
       "      <th></th>\n",
       "      <th>co2</th>\n",
       "      <th>date</th>\n",
       "      <th>lat_long</th>\n",
       "    </tr>\n",
       "  </thead>\n",
       "  <tbody>\n",
       "    <tr>\n",
       "      <th>384</th>\n",
       "      <td>24.550266</td>\n",
       "      <td>2000-01-01</td>\n",
       "      <td>(35.1, -114.5)</td>\n",
       "    </tr>\n",
       "    <tr>\n",
       "      <th>421</th>\n",
       "      <td>4.388263</td>\n",
       "      <td>2000-01-01</td>\n",
       "      <td>(33.3, -112.8)</td>\n",
       "    </tr>\n",
       "    <tr>\n",
       "      <th>426</th>\n",
       "      <td>13.314685</td>\n",
       "      <td>2000-01-01</td>\n",
       "      <td>(39.5, -112.5)</td>\n",
       "    </tr>\n",
       "    <tr>\n",
       "      <th>466</th>\n",
       "      <td>16.433954</td>\n",
       "      <td>2000-01-01</td>\n",
       "      <td>(36.9, -111.3)</td>\n",
       "    </tr>\n",
       "    <tr>\n",
       "      <th>470</th>\n",
       "      <td>10.039619</td>\n",
       "      <td>2000-01-01</td>\n",
       "      <td>(39.1, -111.1)</td>\n",
       "    </tr>\n",
       "  </tbody>\n",
       "</table>\n",
       "</div>"
      ],
      "text/plain": [
       "           co2       date        lat_long\n",
       "384  24.550266 2000-01-01  (35.1, -114.5)\n",
       "421   4.388263 2000-01-01  (33.3, -112.8)\n",
       "426  13.314685 2000-01-01  (39.5, -112.5)\n",
       "466  16.433954 2000-01-01  (36.9, -111.3)\n",
       "470  10.039619 2000-01-01  (39.1, -111.1)"
      ]
     },
     "execution_count": 13,
     "metadata": {},
     "output_type": "execute_result"
    }
   ],
   "source": [
    "df.head()"
   ]
  },
  {
   "cell_type": "code",
   "execution_count": 14,
   "metadata": {},
   "outputs": [],
   "source": [
    "# pivot dataset to have better appreciation of all time-series per location\n",
    "df_pivot = df.pivot(index='date', columns = 'lat_long', values='co2')\n",
    "df_pivot = df_pivot.sort_index()"
   ]
  },
  {
   "cell_type": "code",
   "execution_count": 15,
   "metadata": {},
   "outputs": [],
   "source": [
    "# Set Date frquency to Monthly Data\n",
    "freq_time = 'MS' \n",
    "df_pivot = df_pivot.resample(freq_time).mean()\n",
    "df_pivot.index.freq = freq_time"
   ]
  },
  {
   "cell_type": "code",
   "execution_count": 16,
   "metadata": {},
   "outputs": [
    {
     "data": {
      "text/html": [
       "<div>\n",
       "<style scoped>\n",
       "    .dataframe tbody tr th:only-of-type {\n",
       "        vertical-align: middle;\n",
       "    }\n",
       "\n",
       "    .dataframe tbody tr th {\n",
       "        vertical-align: top;\n",
       "    }\n",
       "\n",
       "    .dataframe thead th {\n",
       "        text-align: right;\n",
       "    }\n",
       "</style>\n",
       "<table border=\"1\" class=\"dataframe\">\n",
       "  <thead>\n",
       "    <tr style=\"text-align: right;\">\n",
       "      <th>lat_long</th>\n",
       "      <th>(25.8, -97.8)</th>\n",
       "      <th>(26.6, -81.7)</th>\n",
       "      <th>(27.0, -80.5)</th>\n",
       "      <th>(27.6, -82.3)</th>\n",
       "      <th>(27.7, -82.4)</th>\n",
       "      <th>(27.9, -82.4)</th>\n",
       "      <th>(28.3, -100.8)</th>\n",
       "      <th>(28.4, -81.1)</th>\n",
       "      <th>(28.8, -81.3)</th>\n",
       "      <th>(29.0, -110.9)</th>\n",
       "      <th>...</th>\n",
       "      <th>(45.8, -106.6)</th>\n",
       "      <th>(47.0, -101.2)</th>\n",
       "      <th>(47.2, -101.3)</th>\n",
       "      <th>(47.2, -93.6)</th>\n",
       "      <th>(47.3, -101.8)</th>\n",
       "      <th>(47.3, -101.1)</th>\n",
       "      <th>(47.9, -65.9)</th>\n",
       "      <th>(49.0, -105.4)</th>\n",
       "      <th>(49.0, -103.0)</th>\n",
       "      <th>(49.0, -102.8)</th>\n",
       "    </tr>\n",
       "    <tr>\n",
       "      <th>date</th>\n",
       "      <th></th>\n",
       "      <th></th>\n",
       "      <th></th>\n",
       "      <th></th>\n",
       "      <th></th>\n",
       "      <th></th>\n",
       "      <th></th>\n",
       "      <th></th>\n",
       "      <th></th>\n",
       "      <th></th>\n",
       "      <th></th>\n",
       "      <th></th>\n",
       "      <th></th>\n",
       "      <th></th>\n",
       "      <th></th>\n",
       "      <th></th>\n",
       "      <th></th>\n",
       "      <th></th>\n",
       "      <th></th>\n",
       "      <th></th>\n",
       "      <th></th>\n",
       "    </tr>\n",
       "  </thead>\n",
       "  <tbody>\n",
       "    <tr>\n",
       "      <th>2000-01-01</th>\n",
       "      <td>4.024838</td>\n",
       "      <td>4.076302</td>\n",
       "      <td>8.681103</td>\n",
       "      <td>4.254332</td>\n",
       "      <td>8.166128</td>\n",
       "      <td>2.724895</td>\n",
       "      <td>4.902469</td>\n",
       "      <td>5.893239</td>\n",
       "      <td>5.733449</td>\n",
       "      <td>2.431313</td>\n",
       "      <td>...</td>\n",
       "      <td>18.777016</td>\n",
       "      <td>6.443851</td>\n",
       "      <td>5.556982</td>\n",
       "      <td>7.820921</td>\n",
       "      <td>7.988350</td>\n",
       "      <td>11.437829</td>\n",
       "      <td>6.611117</td>\n",
       "      <td>11.044418</td>\n",
       "      <td>16.489307</td>\n",
       "      <td>5.585770</td>\n",
       "    </tr>\n",
       "    <tr>\n",
       "      <th>2000-02-01</th>\n",
       "      <td>3.857137</td>\n",
       "      <td>3.475400</td>\n",
       "      <td>7.401391</td>\n",
       "      <td>3.627186</td>\n",
       "      <td>6.962330</td>\n",
       "      <td>2.323208</td>\n",
       "      <td>4.698199</td>\n",
       "      <td>5.024495</td>\n",
       "      <td>4.888261</td>\n",
       "      <td>2.330008</td>\n",
       "      <td>...</td>\n",
       "      <td>16.009029</td>\n",
       "      <td>5.493940</td>\n",
       "      <td>4.737808</td>\n",
       "      <td>6.668012</td>\n",
       "      <td>6.810759</td>\n",
       "      <td>9.751738</td>\n",
       "      <td>6.611117</td>\n",
       "      <td>10.237016</td>\n",
       "      <td>15.283857</td>\n",
       "      <td>5.177423</td>\n",
       "    </tr>\n",
       "    <tr>\n",
       "      <th>2000-03-01</th>\n",
       "      <td>3.521733</td>\n",
       "      <td>3.406172</td>\n",
       "      <td>7.253960</td>\n",
       "      <td>3.554935</td>\n",
       "      <td>6.823645</td>\n",
       "      <td>2.276932</td>\n",
       "      <td>4.289660</td>\n",
       "      <td>4.924411</td>\n",
       "      <td>4.790890</td>\n",
       "      <td>2.127399</td>\n",
       "      <td>...</td>\n",
       "      <td>15.690140</td>\n",
       "      <td>5.384504</td>\n",
       "      <td>4.643434</td>\n",
       "      <td>6.535189</td>\n",
       "      <td>6.675093</td>\n",
       "      <td>9.557490</td>\n",
       "      <td>6.611117</td>\n",
       "      <td>10.233405</td>\n",
       "      <td>15.278464</td>\n",
       "      <td>5.175596</td>\n",
       "    </tr>\n",
       "    <tr>\n",
       "      <th>2000-04-01</th>\n",
       "      <td>3.354032</td>\n",
       "      <td>3.071030</td>\n",
       "      <td>6.540224</td>\n",
       "      <td>3.205155</td>\n",
       "      <td>6.152249</td>\n",
       "      <td>2.052898</td>\n",
       "      <td>4.085391</td>\n",
       "      <td>4.439885</td>\n",
       "      <td>4.319502</td>\n",
       "      <td>2.026094</td>\n",
       "      <td>...</td>\n",
       "      <td>14.146346</td>\n",
       "      <td>4.854709</td>\n",
       "      <td>4.186555</td>\n",
       "      <td>5.892175</td>\n",
       "      <td>6.018313</td>\n",
       "      <td>8.617104</td>\n",
       "      <td>6.611117</td>\n",
       "      <td>8.750677</td>\n",
       "      <td>13.064754</td>\n",
       "      <td>4.425699</td>\n",
       "    </tr>\n",
       "    <tr>\n",
       "      <th>2000-05-01</th>\n",
       "      <td>3.018629</td>\n",
       "      <td>3.443486</td>\n",
       "      <td>7.333427</td>\n",
       "      <td>3.593878</td>\n",
       "      <td>6.898398</td>\n",
       "      <td>2.301875</td>\n",
       "      <td>3.676852</td>\n",
       "      <td>4.978357</td>\n",
       "      <td>4.843374</td>\n",
       "      <td>1.823485</td>\n",
       "      <td>...</td>\n",
       "      <td>15.862024</td>\n",
       "      <td>5.443491</td>\n",
       "      <td>4.694303</td>\n",
       "      <td>6.606781</td>\n",
       "      <td>6.748218</td>\n",
       "      <td>9.662191</td>\n",
       "      <td>6.611117</td>\n",
       "      <td>8.377229</td>\n",
       "      <td>12.507195</td>\n",
       "      <td>4.236826</td>\n",
       "    </tr>\n",
       "  </tbody>\n",
       "</table>\n",
       "<p>5 rows × 153 columns</p>\n",
       "</div>"
      ],
      "text/plain": [
       "lat_long    (25.8, -97.8)  (26.6, -81.7)  (27.0, -80.5)  (27.6, -82.3)  \\\n",
       "date                                                                     \n",
       "2000-01-01       4.024838       4.076302       8.681103       4.254332   \n",
       "2000-02-01       3.857137       3.475400       7.401391       3.627186   \n",
       "2000-03-01       3.521733       3.406172       7.253960       3.554935   \n",
       "2000-04-01       3.354032       3.071030       6.540224       3.205155   \n",
       "2000-05-01       3.018629       3.443486       7.333427       3.593878   \n",
       "\n",
       "lat_long    (27.7, -82.4)  (27.9, -82.4)  (28.3, -100.8)  (28.4, -81.1)  \\\n",
       "date                                                                      \n",
       "2000-01-01       8.166128       2.724895        4.902469       5.893239   \n",
       "2000-02-01       6.962330       2.323208        4.698199       5.024495   \n",
       "2000-03-01       6.823645       2.276932        4.289660       4.924411   \n",
       "2000-04-01       6.152249       2.052898        4.085391       4.439885   \n",
       "2000-05-01       6.898398       2.301875        3.676852       4.978357   \n",
       "\n",
       "lat_long    (28.8, -81.3)  (29.0, -110.9)  ...  (45.8, -106.6)  \\\n",
       "date                                       ...                   \n",
       "2000-01-01       5.733449        2.431313  ...       18.777016   \n",
       "2000-02-01       4.888261        2.330008  ...       16.009029   \n",
       "2000-03-01       4.790890        2.127399  ...       15.690140   \n",
       "2000-04-01       4.319502        2.026094  ...       14.146346   \n",
       "2000-05-01       4.843374        1.823485  ...       15.862024   \n",
       "\n",
       "lat_long    (47.0, -101.2)  (47.2, -101.3)  (47.2, -93.6)  (47.3, -101.8)  \\\n",
       "date                                                                        \n",
       "2000-01-01        6.443851        5.556982       7.820921        7.988350   \n",
       "2000-02-01        5.493940        4.737808       6.668012        6.810759   \n",
       "2000-03-01        5.384504        4.643434       6.535189        6.675093   \n",
       "2000-04-01        4.854709        4.186555       5.892175        6.018313   \n",
       "2000-05-01        5.443491        4.694303       6.606781        6.748218   \n",
       "\n",
       "lat_long    (47.3, -101.1)  (47.9, -65.9)  (49.0, -105.4)  (49.0, -103.0)  \\\n",
       "date                                                                        \n",
       "2000-01-01       11.437829       6.611117       11.044418       16.489307   \n",
       "2000-02-01        9.751738       6.611117       10.237016       15.283857   \n",
       "2000-03-01        9.557490       6.611117       10.233405       15.278464   \n",
       "2000-04-01        8.617104       6.611117        8.750677       13.064754   \n",
       "2000-05-01        9.662191       6.611117        8.377229       12.507195   \n",
       "\n",
       "lat_long    (49.0, -102.8)  \n",
       "date                        \n",
       "2000-01-01        5.585770  \n",
       "2000-02-01        5.177423  \n",
       "2000-03-01        5.175596  \n",
       "2000-04-01        4.425699  \n",
       "2000-05-01        4.236826  \n",
       "\n",
       "[5 rows x 153 columns]"
      ]
     },
     "execution_count": 16,
     "metadata": {},
     "output_type": "execute_result"
    }
   ],
   "source": [
    "df_pivot.head()"
   ]
  },
  {
   "cell_type": "code",
   "execution_count": 17,
   "metadata": {},
   "outputs": [
    {
     "data": {
      "image/png": "[encoded data removed]",
      "text/plain": [
       "<Figure size 864x432 with 1 Axes>"
      ]
     },
     "metadata": {
      "needs_background": "light"
     },
     "output_type": "display_data"
    }
   ],
   "source": [
    "#Use heatmap to identify mising data\n",
    "ax = plt.axes()\n",
    "ax.set_title('Check for Missing Data')\n",
    "sns.heatmap(df_pivot.isnull(),yticklabels=False,cbar=False,cmap='viridis',ax=ax);"
   ]
  },
  {
   "cell_type": "code",
   "execution_count": 18,
   "metadata": {},
   "outputs": [
    {
     "data": {
      "text/plain": [
       "lat_long\n",
       "(35.1, -114.5)    156\n",
       "(31.4, -96.2)      96\n",
       "(37.1, -88.7)      96\n",
       "(27.7, -82.4)      96\n",
       "(36.2, -80.0)       0\n",
       "(36.6, -108.4)      0\n",
       "(36.5, -89.5)       0\n",
       "(36.4, -79.0)       0\n",
       "(36.4, -97.0)       0\n",
       "(36.3, -86.4)       0\n",
       "dtype: int64"
      ]
     },
     "execution_count": 18,
     "metadata": {},
     "output_type": "execute_result"
    }
   ],
   "source": [
    "df_pivot.isnull().sum().sort_values(ascending=False).head(10)"
   ]
  },
  {
   "cell_type": "code",
   "execution_count": 19,
   "metadata": {},
   "outputs": [
    {
     "data": {
      "image/png": "[encoded data removed]",
      "text/plain": [
       "<Figure size 864x432 with 1 Axes>"
      ]
     },
     "metadata": {
      "needs_background": "light"
     },
     "output_type": "display_data"
    }
   ],
   "source": [
    "df_pivot[(35.1, -114.5)].plot()\n",
    "df_pivot[(31.4, -96.2)].plot()\n",
    "df_pivot[(37.1, -88.7)].plot()\n",
    "df_pivot[(27.7, -82.4)].plot()\n",
    "plt.legend(title='Location')\n",
    "plt.title('Missing Data in some Locations');"
   ]
  },
  {
   "cell_type": "code",
   "execution_count": 20,
   "metadata": {},
   "outputs": [],
   "source": [
    "#Remove locations with missing data\n",
    "df_pivot.drop(labels=[(35.1, -114.5),\n",
    "                     (31.4, -96.2),\n",
    "                     (37.1, -88.7),\n",
    "                     (27.7, -82.4)],axis=1,inplace=True)"
   ]
  },
  {
   "cell_type": "code",
   "execution_count": 21,
   "metadata": {},
   "outputs": [
    {
     "data": {
      "text/plain": [
       "lat_long\n",
       "(49.0, -102.8)    0\n",
       "(36.9, -111.3)    0\n",
       "(36.8, -108.4)    0\n",
       "(36.6, -108.4)    0\n",
       "(36.5, -89.5)     0\n",
       "(36.4, -79.0)     0\n",
       "(36.4, -97.0)     0\n",
       "(36.3, -86.4)     0\n",
       "(36.3, -87.6)     0\n",
       "(36.2, -80.0)     0\n",
       "dtype: int64"
      ]
     },
     "execution_count": 21,
     "metadata": {},
     "output_type": "execute_result"
    }
   ],
   "source": [
    "df_pivot.isnull().sum().sort_values(ascending=False).head(10)"
   ]
  },
  {
   "cell_type": "code",
   "execution_count": 22,
   "metadata": {},
   "outputs": [],
   "source": [
    "# df without null values.\n",
    "df = df_pivot.melt(var_name='lat_long',value_name='co2',ignore_index=False)"
   ]
  },
  {
   "cell_type": "code",
   "execution_count": 23,
   "metadata": {},
   "outputs": [
    {
     "data": {
      "text/html": [
       "<div>\n",
       "<style scoped>\n",
       "    .dataframe tbody tr th:only-of-type {\n",
       "        vertical-align: middle;\n",
       "    }\n",
       "\n",
       "    .dataframe tbody tr th {\n",
       "        vertical-align: top;\n",
       "    }\n",
       "\n",
       "    .dataframe thead th {\n",
       "        text-align: right;\n",
       "    }\n",
       "</style>\n",
       "<table border=\"1\" class=\"dataframe\">\n",
       "  <thead>\n",
       "    <tr style=\"text-align: right;\">\n",
       "      <th></th>\n",
       "      <th>lat_long</th>\n",
       "      <th>co2</th>\n",
       "    </tr>\n",
       "    <tr>\n",
       "      <th>date</th>\n",
       "      <th></th>\n",
       "      <th></th>\n",
       "    </tr>\n",
       "  </thead>\n",
       "  <tbody>\n",
       "    <tr>\n",
       "      <th>2000-01-01</th>\n",
       "      <td>(25.8, -97.8)</td>\n",
       "      <td>4.024838</td>\n",
       "    </tr>\n",
       "    <tr>\n",
       "      <th>2000-02-01</th>\n",
       "      <td>(25.8, -97.8)</td>\n",
       "      <td>3.857137</td>\n",
       "    </tr>\n",
       "    <tr>\n",
       "      <th>2000-03-01</th>\n",
       "      <td>(25.8, -97.8)</td>\n",
       "      <td>3.521733</td>\n",
       "    </tr>\n",
       "    <tr>\n",
       "      <th>2000-04-01</th>\n",
       "      <td>(25.8, -97.8)</td>\n",
       "      <td>3.354032</td>\n",
       "    </tr>\n",
       "    <tr>\n",
       "      <th>2000-05-01</th>\n",
       "      <td>(25.8, -97.8)</td>\n",
       "      <td>3.018629</td>\n",
       "    </tr>\n",
       "    <tr>\n",
       "      <th>...</th>\n",
       "      <td>...</td>\n",
       "      <td>...</td>\n",
       "    </tr>\n",
       "    <tr>\n",
       "      <th>2019-08-01</th>\n",
       "      <td>(49.0, -102.8)</td>\n",
       "      <td>3.691653</td>\n",
       "    </tr>\n",
       "    <tr>\n",
       "      <th>2019-09-01</th>\n",
       "      <td>(49.0, -102.8)</td>\n",
       "      <td>3.358604</td>\n",
       "    </tr>\n",
       "    <tr>\n",
       "      <th>2019-10-01</th>\n",
       "      <td>(49.0, -102.8)</td>\n",
       "      <td>3.460907</td>\n",
       "    </tr>\n",
       "    <tr>\n",
       "      <th>2019-11-01</th>\n",
       "      <td>(49.0, -102.8)</td>\n",
       "      <td>3.682119</td>\n",
       "    </tr>\n",
       "    <tr>\n",
       "      <th>2019-12-01</th>\n",
       "      <td>(49.0, -102.8)</td>\n",
       "      <td>4.003061</td>\n",
       "    </tr>\n",
       "  </tbody>\n",
       "</table>\n",
       "<p>35760 rows × 2 columns</p>\n",
       "</div>"
      ],
      "text/plain": [
       "                  lat_long       co2\n",
       "date                                \n",
       "2000-01-01   (25.8, -97.8)  4.024838\n",
       "2000-02-01   (25.8, -97.8)  3.857137\n",
       "2000-03-01   (25.8, -97.8)  3.521733\n",
       "2000-04-01   (25.8, -97.8)  3.354032\n",
       "2000-05-01   (25.8, -97.8)  3.018629\n",
       "...                    ...       ...\n",
       "2019-08-01  (49.0, -102.8)  3.691653\n",
       "2019-09-01  (49.0, -102.8)  3.358604\n",
       "2019-10-01  (49.0, -102.8)  3.460907\n",
       "2019-11-01  (49.0, -102.8)  3.682119\n",
       "2019-12-01  (49.0, -102.8)  4.003061\n",
       "\n",
       "[35760 rows x 2 columns]"
      ]
     },
     "execution_count": 23,
     "metadata": {},
     "output_type": "execute_result"
    }
   ],
   "source": [
    "df"
   ]
  },
  {
   "cell_type": "code",
   "execution_count": 24,
   "metadata": {},
   "outputs": [],
   "source": [
    "#Create encoded column based on lat_long\n",
    "label_encoder = LabelEncoder()\n",
    "df['lat_long2'] = df['lat_long'].astype('string')\n",
    "df['location'] = label_encoder.fit_transform(df['lat_long2'])\n",
    "df = df.sort_index()"
   ]
  },
  {
   "cell_type": "code",
   "execution_count": 25,
   "metadata": {},
   "outputs": [
    {
     "data": {
      "text/html": [
       "<div>\n",
       "<style scoped>\n",
       "    .dataframe tbody tr th:only-of-type {\n",
       "        vertical-align: middle;\n",
       "    }\n",
       "\n",
       "    .dataframe tbody tr th {\n",
       "        vertical-align: top;\n",
       "    }\n",
       "\n",
       "    .dataframe thead th {\n",
       "        text-align: right;\n",
       "    }\n",
       "</style>\n",
       "<table border=\"1\" class=\"dataframe\">\n",
       "  <thead>\n",
       "    <tr style=\"text-align: right;\">\n",
       "      <th></th>\n",
       "      <th>lat_long</th>\n",
       "      <th>co2</th>\n",
       "      <th>lat_long2</th>\n",
       "      <th>location</th>\n",
       "    </tr>\n",
       "    <tr>\n",
       "      <th>date</th>\n",
       "      <th></th>\n",
       "      <th></th>\n",
       "      <th></th>\n",
       "      <th></th>\n",
       "    </tr>\n",
       "  </thead>\n",
       "  <tbody>\n",
       "    <tr>\n",
       "      <th>2000-01-01</th>\n",
       "      <td>(25.8, -97.8)</td>\n",
       "      <td>4.024838</td>\n",
       "      <td>(25.8, -97.8)</td>\n",
       "      <td>0</td>\n",
       "    </tr>\n",
       "    <tr>\n",
       "      <th>2000-01-01</th>\n",
       "      <td>(35.5, -80.9)</td>\n",
       "      <td>12.041616</td>\n",
       "      <td>(35.5, -80.9)</td>\n",
       "      <td>41</td>\n",
       "    </tr>\n",
       "    <tr>\n",
       "      <th>2000-01-01</th>\n",
       "      <td>(36.4, -97.0)</td>\n",
       "      <td>6.420758</td>\n",
       "      <td>(36.4, -97.0)</td>\n",
       "      <td>49</td>\n",
       "    </tr>\n",
       "    <tr>\n",
       "      <th>2000-01-01</th>\n",
       "      <td>(40.2, -80.6)</td>\n",
       "      <td>10.188225</td>\n",
       "      <td>(40.2, -80.6)</td>\n",
       "      <td>101</td>\n",
       "    </tr>\n",
       "    <tr>\n",
       "      <th>2000-01-01</th>\n",
       "      <td>(38.6, -83.6)</td>\n",
       "      <td>11.102073</td>\n",
       "      <td>(38.6, -83.6)</td>\n",
       "      <td>70</td>\n",
       "    </tr>\n",
       "  </tbody>\n",
       "</table>\n",
       "</div>"
      ],
      "text/plain": [
       "                 lat_long        co2      lat_long2  location\n",
       "date                                                         \n",
       "2000-01-01  (25.8, -97.8)   4.024838  (25.8, -97.8)         0\n",
       "2000-01-01  (35.5, -80.9)  12.041616  (35.5, -80.9)        41\n",
       "2000-01-01  (36.4, -97.0)   6.420758  (36.4, -97.0)        49\n",
       "2000-01-01  (40.2, -80.6)  10.188225  (40.2, -80.6)       101\n",
       "2000-01-01  (38.6, -83.6)  11.102073  (38.6, -83.6)        70"
      ]
     },
     "execution_count": 25,
     "metadata": {},
     "output_type": "execute_result"
    }
   ],
   "source": [
    "df.head()"
   ]
  },
  {
   "cell_type": "code",
   "execution_count": 26,
   "metadata": {},
   "outputs": [
    {
     "data": {
      "text/html": [
       "<div>\n",
       "<style scoped>\n",
       "    .dataframe tbody tr th:only-of-type {\n",
       "        vertical-align: middle;\n",
       "    }\n",
       "\n",
       "    .dataframe tbody tr th {\n",
       "        vertical-align: top;\n",
       "    }\n",
       "\n",
       "    .dataframe thead th {\n",
       "        text-align: right;\n",
       "    }\n",
       "</style>\n",
       "<table border=\"1\" class=\"dataframe\">\n",
       "  <thead>\n",
       "    <tr style=\"text-align: right;\">\n",
       "      <th></th>\n",
       "      <th>lat_long</th>\n",
       "      <th>location</th>\n",
       "    </tr>\n",
       "    <tr>\n",
       "      <th>date</th>\n",
       "      <th></th>\n",
       "      <th></th>\n",
       "    </tr>\n",
       "  </thead>\n",
       "  <tbody>\n",
       "    <tr>\n",
       "      <th>2000-01-01</th>\n",
       "      <td>(25.8, -97.8)</td>\n",
       "      <td>0</td>\n",
       "    </tr>\n",
       "    <tr>\n",
       "      <th>2004-05-01</th>\n",
       "      <td>(25.8, -97.8)</td>\n",
       "      <td>0</td>\n",
       "    </tr>\n",
       "    <tr>\n",
       "      <th>2014-11-01</th>\n",
       "      <td>(25.8, -97.8)</td>\n",
       "      <td>0</td>\n",
       "    </tr>\n",
       "    <tr>\n",
       "      <th>2010-11-01</th>\n",
       "      <td>(25.8, -97.8)</td>\n",
       "      <td>0</td>\n",
       "    </tr>\n",
       "    <tr>\n",
       "      <th>2004-04-01</th>\n",
       "      <td>(25.8, -97.8)</td>\n",
       "      <td>0</td>\n",
       "    </tr>\n",
       "    <tr>\n",
       "      <th>...</th>\n",
       "      <td>...</td>\n",
       "      <td>...</td>\n",
       "    </tr>\n",
       "    <tr>\n",
       "      <th>2005-04-01</th>\n",
       "      <td>(49.0, -105.4)</td>\n",
       "      <td>148</td>\n",
       "    </tr>\n",
       "    <tr>\n",
       "      <th>2017-08-01</th>\n",
       "      <td>(49.0, -105.4)</td>\n",
       "      <td>148</td>\n",
       "    </tr>\n",
       "    <tr>\n",
       "      <th>2013-10-01</th>\n",
       "      <td>(49.0, -105.4)</td>\n",
       "      <td>148</td>\n",
       "    </tr>\n",
       "    <tr>\n",
       "      <th>2017-07-01</th>\n",
       "      <td>(49.0, -105.4)</td>\n",
       "      <td>148</td>\n",
       "    </tr>\n",
       "    <tr>\n",
       "      <th>2017-10-01</th>\n",
       "      <td>(49.0, -105.4)</td>\n",
       "      <td>148</td>\n",
       "    </tr>\n",
       "  </tbody>\n",
       "</table>\n",
       "<p>35760 rows × 2 columns</p>\n",
       "</div>"
      ],
      "text/plain": [
       "                  lat_long  location\n",
       "date                                \n",
       "2000-01-01   (25.8, -97.8)         0\n",
       "2004-05-01   (25.8, -97.8)         0\n",
       "2014-11-01   (25.8, -97.8)         0\n",
       "2010-11-01   (25.8, -97.8)         0\n",
       "2004-04-01   (25.8, -97.8)         0\n",
       "...                    ...       ...\n",
       "2005-04-01  (49.0, -105.4)       148\n",
       "2017-08-01  (49.0, -105.4)       148\n",
       "2013-10-01  (49.0, -105.4)       148\n",
       "2017-07-01  (49.0, -105.4)       148\n",
       "2017-10-01  (49.0, -105.4)       148\n",
       "\n",
       "[35760 rows x 2 columns]"
      ]
     },
     "execution_count": 26,
     "metadata": {},
     "output_type": "execute_result"
    }
   ],
   "source": [
    "df[['lat_long','location']].sort_values(by='location')"
   ]
  },
  {
   "cell_type": "code",
   "execution_count": 27,
   "metadata": {},
   "outputs": [
    {
     "name": "stdout",
     "output_type": "stream",
     "text": [
      "<class 'pandas.core.frame.DataFrame'>\n",
      "DatetimeIndex: 35760 entries, 2000-01-01 to 2019-12-01\n",
      "Data columns (total 4 columns):\n",
      " #   Column     Non-Null Count  Dtype  \n",
      "---  ------     --------------  -----  \n",
      " 0   lat_long   35760 non-null  object \n",
      " 1   co2        35760 non-null  float64\n",
      " 2   lat_long2  35760 non-null  string \n",
      " 3   location   35760 non-null  int32  \n",
      "dtypes: float64(1), int32(1), object(1), string(1)\n",
      "memory usage: 1.2+ MB\n"
     ]
    }
   ],
   "source": [
    "df.info()"
   ]
  },
  {
   "cell_type": "code",
   "execution_count": 28,
   "metadata": {},
   "outputs": [
    {
     "data": {
      "text/html": [
       "<div>\n",
       "<style scoped>\n",
       "    .dataframe tbody tr th:only-of-type {\n",
       "        vertical-align: middle;\n",
       "    }\n",
       "\n",
       "    .dataframe tbody tr th {\n",
       "        vertical-align: top;\n",
       "    }\n",
       "\n",
       "    .dataframe thead th {\n",
       "        text-align: right;\n",
       "    }\n",
       "</style>\n",
       "<table border=\"1\" class=\"dataframe\">\n",
       "  <thead>\n",
       "    <tr style=\"text-align: right;\">\n",
       "      <th></th>\n",
       "      <th>count</th>\n",
       "      <th>mean</th>\n",
       "      <th>std</th>\n",
       "      <th>min</th>\n",
       "      <th>25%</th>\n",
       "      <th>50%</th>\n",
       "      <th>75%</th>\n",
       "      <th>max</th>\n",
       "    </tr>\n",
       "  </thead>\n",
       "  <tbody>\n",
       "    <tr>\n",
       "      <th>co2</th>\n",
       "      <td>35760.0</td>\n",
       "      <td>8.083218</td>\n",
       "      <td>3.926168</td>\n",
       "      <td>0.924653</td>\n",
       "      <td>5.199244</td>\n",
       "      <td>7.036835</td>\n",
       "      <td>10.071969</td>\n",
       "      <td>31.149539</td>\n",
       "    </tr>\n",
       "    <tr>\n",
       "      <th>location</th>\n",
       "      <td>35760.0</td>\n",
       "      <td>74.000000</td>\n",
       "      <td>43.012228</td>\n",
       "      <td>0.000000</td>\n",
       "      <td>37.000000</td>\n",
       "      <td>74.000000</td>\n",
       "      <td>111.000000</td>\n",
       "      <td>148.000000</td>\n",
       "    </tr>\n",
       "  </tbody>\n",
       "</table>\n",
       "</div>"
      ],
      "text/plain": [
       "            count       mean        std       min        25%        50%  \\\n",
       "co2       35760.0   8.083218   3.926168  0.924653   5.199244   7.036835   \n",
       "location  35760.0  74.000000  43.012228  0.000000  37.000000  74.000000   \n",
       "\n",
       "                 75%         max  \n",
       "co2        10.071969   31.149539  \n",
       "location  111.000000  148.000000  "
      ]
     },
     "execution_count": 28,
     "metadata": {},
     "output_type": "execute_result"
    }
   ],
   "source": [
    "df.describe().transpose()"
   ]
  },
  {
   "cell_type": "markdown",
   "metadata": {},
   "source": [
    " ### EDA: *Pre-Processing*"
   ]
  },
  {
   "cell_type": "code",
   "execution_count": 29,
   "metadata": {},
   "outputs": [],
   "source": [
    "df1 = df[['co2','location']]"
   ]
  },
  {
   "cell_type": "code",
   "execution_count": 30,
   "metadata": {},
   "outputs": [
    {
     "data": {
      "text/plain": [
       "(35760, 2)"
      ]
     },
     "execution_count": 30,
     "metadata": {},
     "output_type": "execute_result"
    }
   ],
   "source": [
    "df1.shape"
   ]
  },
  {
   "cell_type": "code",
   "execution_count": 31,
   "metadata": {},
   "outputs": [
    {
     "data": {
      "text/html": [
       "<div>\n",
       "<style scoped>\n",
       "    .dataframe tbody tr th:only-of-type {\n",
       "        vertical-align: middle;\n",
       "    }\n",
       "\n",
       "    .dataframe tbody tr th {\n",
       "        vertical-align: top;\n",
       "    }\n",
       "\n",
       "    .dataframe thead th {\n",
       "        text-align: right;\n",
       "    }\n",
       "</style>\n",
       "<table border=\"1\" class=\"dataframe\">\n",
       "  <thead>\n",
       "    <tr style=\"text-align: right;\">\n",
       "      <th></th>\n",
       "      <th>co2</th>\n",
       "      <th>location</th>\n",
       "    </tr>\n",
       "    <tr>\n",
       "      <th>date</th>\n",
       "      <th></th>\n",
       "      <th></th>\n",
       "    </tr>\n",
       "  </thead>\n",
       "  <tbody>\n",
       "    <tr>\n",
       "      <th>2000-01-01</th>\n",
       "      <td>4.024838</td>\n",
       "      <td>0</td>\n",
       "    </tr>\n",
       "    <tr>\n",
       "      <th>2000-01-01</th>\n",
       "      <td>12.041616</td>\n",
       "      <td>41</td>\n",
       "    </tr>\n",
       "    <tr>\n",
       "      <th>2000-01-01</th>\n",
       "      <td>6.420758</td>\n",
       "      <td>49</td>\n",
       "    </tr>\n",
       "    <tr>\n",
       "      <th>2000-01-01</th>\n",
       "      <td>10.188225</td>\n",
       "      <td>101</td>\n",
       "    </tr>\n",
       "    <tr>\n",
       "      <th>2000-01-01</th>\n",
       "      <td>11.102073</td>\n",
       "      <td>70</td>\n",
       "    </tr>\n",
       "  </tbody>\n",
       "</table>\n",
       "</div>"
      ],
      "text/plain": [
       "                  co2  location\n",
       "date                           \n",
       "2000-01-01   4.024838         0\n",
       "2000-01-01  12.041616        41\n",
       "2000-01-01   6.420758        49\n",
       "2000-01-01  10.188225       101\n",
       "2000-01-01  11.102073        70"
      ]
     },
     "execution_count": 31,
     "metadata": {},
     "output_type": "execute_result"
    }
   ],
   "source": [
    "df1.head()"
   ]
  },
  {
   "cell_type": "code",
   "execution_count": 32,
   "metadata": {},
   "outputs": [
    {
     "data": {
      "text/plain": [
       "240"
      ]
     },
     "execution_count": 32,
     "metadata": {},
     "output_type": "execute_result"
    }
   ],
   "source": [
    "#how many data points we have per time-series?\n",
    "len(df1.pivot(columns = 'location', values='co2')[0])"
   ]
  },
  {
   "cell_type": "code",
   "execution_count": 33,
   "metadata": {},
   "outputs": [
    {
     "data": {
      "text/plain": [
       "array([  0,   1,   2,   3,   4,   5,   6,   7,   8,   9,  10,  11,  12,\n",
       "        13,  14,  15,  16,  17,  18,  19,  20,  21,  22,  23,  24,  25,\n",
       "        26,  27,  28,  29,  30,  31,  32,  33,  34,  35,  36,  37,  38,\n",
       "        39,  40,  41,  42,  43,  44,  45,  46,  47,  48,  49,  50,  51,\n",
       "        52,  53,  54,  55,  56,  57,  58,  59,  60,  61,  62,  63,  64,\n",
       "        65,  66,  67,  68,  69,  70,  71,  72,  73,  74,  75,  76,  77,\n",
       "        78,  79,  80,  81,  82,  83,  84,  85,  86,  87,  88,  89,  90,\n",
       "        91,  92,  93,  94,  95,  96,  97,  98,  99, 100, 101, 102, 103,\n",
       "       104, 105, 106, 107, 108, 109, 110, 111, 112, 113, 114, 115, 116,\n",
       "       117, 118, 119, 120, 121, 122, 123, 124, 125, 126, 127, 128, 129,\n",
       "       130, 131, 132, 133, 134, 135, 136, 137, 138, 139, 140, 141, 142,\n",
       "       143, 144, 145, 146, 147, 148])"
      ]
     },
     "execution_count": 33,
     "metadata": {},
     "output_type": "execute_result"
    }
   ],
   "source": [
    "# Encoded locations available\n",
    "np.sort(df1['location'].unique())"
   ]
  },
  {
   "cell_type": "code",
   "execution_count": 34,
   "metadata": {},
   "outputs": [
    {
     "name": "stdout",
     "output_type": "stream",
     "text": [
      "********** Visualize darts Time-series data *************\n"
     ]
    },
    {
     "data": {
      "text/html": [
       "<div><svg style=\"position: absolute; width: 0; height: 0; overflow: hidden\">\n",
       "<defs>\n",
       "<symbol id=\"icon-database\" viewBox=\"0 0 32 32\">\n",
       "<path d=\"M16 0c-8.837 0-16 2.239-16 5v4c0 2.761 7.163 5 16 5s16-2.239 16-5v-4c0-2.761-7.163-5-16-5z\"></path>\n",
       "<path d=\"M16 17c-8.837 0-16-2.239-16-5v6c0 2.761 7.163 5 16 5s16-2.239 16-5v-6c0 2.761-7.163 5-16 5z\"></path>\n",
       "<path d=\"M16 26c-8.837 0-16-2.239-16-5v6c0 2.761 7.163 5 16 5s16-2.239 16-5v-6c0 2.761-7.163 5-16 5z\"></path>\n",
       "</symbol>\n",
       "<symbol id=\"icon-file-text2\" viewBox=\"0 0 32 32\">\n",
       "<path d=\"M28.681 7.159c-0.694-0.947-1.662-2.053-2.724-3.116s-2.169-2.030-3.116-2.724c-1.612-1.182-2.393-1.319-2.841-1.319h-15.5c-1.378 0-2.5 1.121-2.5 2.5v27c0 1.378 1.122 2.5 2.5 2.5h23c1.378 0 2.5-1.122 2.5-2.5v-19.5c0-0.448-0.137-1.23-1.319-2.841zM24.543 5.457c0.959 0.959 1.712 1.825 2.268 2.543h-4.811v-4.811c0.718 0.556 1.584 1.309 2.543 2.268zM28 29.5c0 0.271-0.229 0.5-0.5 0.5h-23c-0.271 0-0.5-0.229-0.5-0.5v-27c0-0.271 0.229-0.5 0.5-0.5 0 0 15.499-0 15.5 0v7c0 0.552 0.448 1 1 1h7v19.5z\"></path>\n",
       "<path d=\"M23 26h-14c-0.552 0-1-0.448-1-1s0.448-1 1-1h14c0.552 0 1 0.448 1 1s-0.448 1-1 1z\"></path>\n",
       "<path d=\"M23 22h-14c-0.552 0-1-0.448-1-1s0.448-1 1-1h14c0.552 0 1 0.448 1 1s-0.448 1-1 1z\"></path>\n",
       "<path d=\"M23 18h-14c-0.552 0-1-0.448-1-1s0.448-1 1-1h14c0.552 0 1 0.448 1 1s-0.448 1-1 1z\"></path>\n",
       "</symbol>\n",
       "</defs>\n",
       "</svg>\n",
       "<style>/* CSS stylesheet for displaying xarray objects in jupyterlab.\n",
       " *\n",
       " */\n",
       "\n",
       ":root {\n",
       "  --xr-font-color0: var(--jp-content-font-color0, rgba(0, 0, 0, 1));\n",
       "  --xr-font-color2: var(--jp-content-font-color2, rgba(0, 0, 0, 0.54));\n",
       "  --xr-font-color3: var(--jp-content-font-color3, rgba(0, 0, 0, 0.38));\n",
       "  --xr-border-color: var(--jp-border-color2, #e0e0e0);\n",
       "  --xr-disabled-color: var(--jp-layout-color3, #bdbdbd);\n",
       "  --xr-background-color: var(--jp-layout-color0, white);\n",
       "  --xr-background-color-row-even: var(--jp-layout-color1, white);\n",
       "  --xr-background-color-row-odd: var(--jp-layout-color2, #eeeeee);\n",
       "}\n",
       "\n",
       "html[theme=dark],\n",
       "body.vscode-dark {\n",
       "  --xr-font-color0: rgba(255, 255, 255, 1);\n",
       "  --xr-font-color2: rgba(255, 255, 255, 0.54);\n",
       "  --xr-font-color3: rgba(255, 255, 255, 0.38);\n",
       "  --xr-border-color: #1F1F1F;\n",
       "  --xr-disabled-color: #515151;\n",
       "  --xr-background-color: #111111;\n",
       "  --xr-background-color-row-even: #111111;\n",
       "  --xr-background-color-row-odd: #313131;\n",
       "}\n",
       "\n",
       ".xr-wrap {\n",
       "  display: block !important;\n",
       "  min-width: 300px;\n",
       "  max-width: 700px;\n",
       "}\n",
       "\n",
       ".xr-text-repr-fallback {\n",
       "  /* fallback to plain text repr when CSS is not injected (untrusted notebook) */\n",
       "  display: none;\n",
       "}\n",
       "\n",
       ".xr-header {\n",
       "  padding-top: 6px;\n",
       "  padding-bottom: 6px;\n",
       "  margin-bottom: 4px;\n",
       "  border-bottom: solid 1px var(--xr-border-color);\n",
       "}\n",
       "\n",
       ".xr-header > div,\n",
       ".xr-header > ul {\n",
       "  display: inline;\n",
       "  margin-top: 0;\n",
       "  margin-bottom: 0;\n",
       "}\n",
       "\n",
       ".xr-obj-type,\n",
       ".xr-array-name {\n",
       "  margin-left: 2px;\n",
       "  margin-right: 10px;\n",
       "}\n",
       "\n",
       ".xr-obj-type {\n",
       "  color: var(--xr-font-color2);\n",
       "}\n",
       "\n",
       ".xr-sections {\n",
       "  padding-left: 0 !important;\n",
       "  display: grid;\n",
       "  grid-template-columns: 150px auto auto 1fr 20px 20px;\n",
       "}\n",
       "\n",
       ".xr-section-item {\n",
       "  display: contents;\n",
       "}\n",
       "\n",
       ".xr-section-item input {\n",
       "  display: none;\n",
       "}\n",
       "\n",
       ".xr-section-item input + label {\n",
       "  color: var(--xr-disabled-color);\n",
       "}\n",
       "\n",
       ".xr-section-item input:enabled + label {\n",
       "  cursor: pointer;\n",
       "  color: var(--xr-font-color2);\n",
       "}\n",
       "\n",
       ".xr-section-item input:enabled + label:hover {\n",
       "  color: var(--xr-font-color0);\n",
       "}\n",
       "\n",
       ".xr-section-summary {\n",
       "  grid-column: 1;\n",
       "  color: var(--xr-font-color2);\n",
       "  font-weight: 500;\n",
       "}\n",
       "\n",
       ".xr-section-summary > span {\n",
       "  display: inline-block;\n",
       "  padding-left: 0.5em;\n",
       "}\n",
       "\n",
       ".xr-section-summary-in:disabled + label {\n",
       "  color: var(--xr-font-color2);\n",
       "}\n",
       "\n",
       ".xr-section-summary-in + label:before {\n",
       "  display: inline-block;\n",
       "  content: '►';\n",
       "  font-size: 11px;\n",
       "  width: 15px;\n",
       "  text-align: center;\n",
       "}\n",
       "\n",
       ".xr-section-summary-in:disabled + label:before {\n",
       "  color: var(--xr-disabled-color);\n",
       "}\n",
       "\n",
       ".xr-section-summary-in:checked + label:before {\n",
       "  content: '▼';\n",
       "}\n",
       "\n",
       ".xr-section-summary-in:checked + label > span {\n",
       "  display: none;\n",
       "}\n",
       "\n",
       ".xr-section-summary,\n",
       ".xr-section-inline-details {\n",
       "  padding-top: 4px;\n",
       "  padding-bottom: 4px;\n",
       "}\n",
       "\n",
       ".xr-section-inline-details {\n",
       "  grid-column: 2 / -1;\n",
       "}\n",
       "\n",
       ".xr-section-details {\n",
       "  display: none;\n",
       "  grid-column: 1 / -1;\n",
       "  margin-bottom: 5px;\n",
       "}\n",
       "\n",
       ".xr-section-summary-in:checked ~ .xr-section-details {\n",
       "  display: contents;\n",
       "}\n",
       "\n",
       ".xr-array-wrap {\n",
       "  grid-column: 1 / -1;\n",
       "  display: grid;\n",
       "  grid-template-columns: 20px auto;\n",
       "}\n",
       "\n",
       ".xr-array-wrap > label {\n",
       "  grid-column: 1;\n",
       "  vertical-align: top;\n",
       "}\n",
       "\n",
       ".xr-preview {\n",
       "  color: var(--xr-font-color3);\n",
       "}\n",
       "\n",
       ".xr-array-preview,\n",
       ".xr-array-data {\n",
       "  padding: 0 5px !important;\n",
       "  grid-column: 2;\n",
       "}\n",
       "\n",
       ".xr-array-data,\n",
       ".xr-array-in:checked ~ .xr-array-preview {\n",
       "  display: none;\n",
       "}\n",
       "\n",
       ".xr-array-in:checked ~ .xr-array-data,\n",
       ".xr-array-preview {\n",
       "  display: inline-block;\n",
       "}\n",
       "\n",
       ".xr-dim-list {\n",
       "  display: inline-block !important;\n",
       "  list-style: none;\n",
       "  padding: 0 !important;\n",
       "  margin: 0;\n",
       "}\n",
       "\n",
       ".xr-dim-list li {\n",
       "  display: inline-block;\n",
       "  padding: 0;\n",
       "  margin: 0;\n",
       "}\n",
       "\n",
       ".xr-dim-list:before {\n",
       "  content: '(';\n",
       "}\n",
       "\n",
       ".xr-dim-list:after {\n",
       "  content: ')';\n",
       "}\n",
       "\n",
       ".xr-dim-list li:not(:last-child):after {\n",
       "  content: ',';\n",
       "  padding-right: 5px;\n",
       "}\n",
       "\n",
       ".xr-has-index {\n",
       "  font-weight: bold;\n",
       "}\n",
       "\n",
       ".xr-var-list,\n",
       ".xr-var-item {\n",
       "  display: contents;\n",
       "}\n",
       "\n",
       ".xr-var-item > div,\n",
       ".xr-var-item label,\n",
       ".xr-var-item > .xr-var-name span {\n",
       "  background-color: var(--xr-background-color-row-even);\n",
       "  margin-bottom: 0;\n",
       "}\n",
       "\n",
       ".xr-var-item > .xr-var-name:hover span {\n",
       "  padding-right: 5px;\n",
       "}\n",
       "\n",
       ".xr-var-list > li:nth-child(odd) > div,\n",
       ".xr-var-list > li:nth-child(odd) > label,\n",
       ".xr-var-list > li:nth-child(odd) > .xr-var-name span {\n",
       "  background-color: var(--xr-background-color-row-odd);\n",
       "}\n",
       "\n",
       ".xr-var-name {\n",
       "  grid-column: 1;\n",
       "}\n",
       "\n",
       ".xr-var-dims {\n",
       "  grid-column: 2;\n",
       "}\n",
       "\n",
       ".xr-var-dtype {\n",
       "  grid-column: 3;\n",
       "  text-align: right;\n",
       "  color: var(--xr-font-color2);\n",
       "}\n",
       "\n",
       ".xr-var-preview {\n",
       "  grid-column: 4;\n",
       "}\n",
       "\n",
       ".xr-var-name,\n",
       ".xr-var-dims,\n",
       ".xr-var-dtype,\n",
       ".xr-preview,\n",
       ".xr-attrs dt {\n",
       "  white-space: nowrap;\n",
       "  overflow: hidden;\n",
       "  text-overflow: ellipsis;\n",
       "  padding-right: 10px;\n",
       "}\n",
       "\n",
       ".xr-var-name:hover,\n",
       ".xr-var-dims:hover,\n",
       ".xr-var-dtype:hover,\n",
       ".xr-attrs dt:hover {\n",
       "  overflow: visible;\n",
       "  width: auto;\n",
       "  z-index: 1;\n",
       "}\n",
       "\n",
       ".xr-var-attrs,\n",
       ".xr-var-data {\n",
       "  display: none;\n",
       "  background-color: var(--xr-background-color) !important;\n",
       "  padding-bottom: 5px !important;\n",
       "}\n",
       "\n",
       ".xr-var-attrs-in:checked ~ .xr-var-attrs,\n",
       ".xr-var-data-in:checked ~ .xr-var-data {\n",
       "  display: block;\n",
       "}\n",
       "\n",
       ".xr-var-data > table {\n",
       "  float: right;\n",
       "}\n",
       "\n",
       ".xr-var-name span,\n",
       ".xr-var-data,\n",
       ".xr-attrs {\n",
       "  padding-left: 25px !important;\n",
       "}\n",
       "\n",
       ".xr-attrs,\n",
       ".xr-var-attrs,\n",
       ".xr-var-data {\n",
       "  grid-column: 1 / -1;\n",
       "}\n",
       "\n",
       "dl.xr-attrs {\n",
       "  padding: 0;\n",
       "  margin: 0;\n",
       "  display: grid;\n",
       "  grid-template-columns: 125px auto;\n",
       "}\n",
       "\n",
       ".xr-attrs dt,\n",
       ".xr-attrs dd {\n",
       "  padding: 0;\n",
       "  margin: 0;\n",
       "  float: left;\n",
       "  padding-right: 10px;\n",
       "  width: auto;\n",
       "}\n",
       "\n",
       ".xr-attrs dt {\n",
       "  font-weight: normal;\n",
       "  grid-column: 1;\n",
       "}\n",
       "\n",
       ".xr-attrs dt:hover span {\n",
       "  display: inline-block;\n",
       "  background: var(--xr-background-color);\n",
       "  padding-right: 10px;\n",
       "}\n",
       "\n",
       ".xr-attrs dd {\n",
       "  grid-column: 2;\n",
       "  white-space: pre-wrap;\n",
       "  word-break: break-all;\n",
       "}\n",
       "\n",
       ".xr-icon-database,\n",
       ".xr-icon-file-text2 {\n",
       "  display: inline-block;\n",
       "  vertical-align: middle;\n",
       "  width: 1em;\n",
       "  height: 1.5em !important;\n",
       "  stroke-width: 0;\n",
       "  stroke: currentColor;\n",
       "  fill: currentColor;\n",
       "}\n",
       "</style><pre class='xr-text-repr-fallback'>&lt;TimeSeries (DataArray) (date: 240, component: 1, sample: 1)&gt;\n",
       "array([[[4.02483837]],\n",
       "\n",
       "       [[3.85713663]],\n",
       "\n",
       "       [[3.52173343]],\n",
       "\n",
       "       [[3.35403198]],\n",
       "\n",
       "       [[3.01862878]],\n",
       "\n",
       "       [[2.85092703]],\n",
       "\n",
       "       [[2.68322558]],\n",
       "\n",
       "       [[2.93477806]],\n",
       "\n",
       "       [[3.18633053]],\n",
       "\n",
       "       [[3.35403198]],\n",
       "\n",
       "...\n",
       "\n",
       "       [[4.80718357]],\n",
       "\n",
       "       [[4.57827049]],\n",
       "\n",
       "       [[4.12044344]],\n",
       "\n",
       "       [[3.89153006]],\n",
       "\n",
       "       [[3.6626161 ]],\n",
       "\n",
       "       [[4.00598675]],\n",
       "\n",
       "       [[4.34935741]],\n",
       "\n",
       "       [[4.57827049]],\n",
       "\n",
       "       [[4.92164085]],\n",
       "\n",
       "       [[5.26501062]]])\n",
       "Coordinates:\n",
       "  * date       (date) datetime64[ns] 2000-01-01 2000-02-01 ... 2019-12-01\n",
       "  * component  (component) &lt;U1 &#x27;0&#x27;\n",
       "Dimensions without coordinates: sample</pre><div class='xr-wrap' style='display:none'><div class='xr-header'><div class='xr-obj-type'>TimeSeries (DataArray)</div><div class='xr-array-name'></div><ul class='xr-dim-list'><li><span class='xr-has-index'>date</span>: 240</li><li><span class='xr-has-index'>component</span>: 1</li><li><span>sample</span>: 1</li></ul></div><ul class='xr-sections'><li class='xr-section-item'><div class='xr-array-wrap'><input id='section-6859ee78-7a36-4533-8850-e455430c713d' class='xr-array-in' type='checkbox' checked><label for='section-6859ee78-7a36-4533-8850-e455430c713d' title='Show/hide data repr'><svg class='icon xr-icon-database'><use xlink:href='#icon-database'></use></svg></label><div class='xr-array-preview xr-preview'><span>4.025 3.857 3.522 3.354 3.019 2.851 ... 4.006 4.349 4.578 4.922 5.265</span></div><div class='xr-array-data'><pre>array([[[4.02483837]],\n",
       "\n",
       "       [[3.85713663]],\n",
       "\n",
       "       [[3.52173343]],\n",
       "\n",
       "       [[3.35403198]],\n",
       "\n",
       "       [[3.01862878]],\n",
       "\n",
       "       [[2.85092703]],\n",
       "\n",
       "       [[2.68322558]],\n",
       "\n",
       "       [[2.93477806]],\n",
       "\n",
       "       [[3.18633053]],\n",
       "\n",
       "       [[3.35403198]],\n",
       "\n",
       "...\n",
       "\n",
       "       [[4.80718357]],\n",
       "\n",
       "       [[4.57827049]],\n",
       "\n",
       "       [[4.12044344]],\n",
       "\n",
       "       [[3.89153006]],\n",
       "\n",
       "       [[3.6626161 ]],\n",
       "\n",
       "       [[4.00598675]],\n",
       "\n",
       "       [[4.34935741]],\n",
       "\n",
       "       [[4.57827049]],\n",
       "\n",
       "       [[4.92164085]],\n",
       "\n",
       "       [[5.26501062]]])</pre></div></div></li><li class='xr-section-item'><input id='section-ad8e17c1-d377-447f-a266-30f616691c99' class='xr-section-summary-in' type='checkbox'  checked><label for='section-ad8e17c1-d377-447f-a266-30f616691c99' class='xr-section-summary' >Coordinates: <span>(2)</span></label><div class='xr-section-inline-details'></div><div class='xr-section-details'><ul class='xr-var-list'><li class='xr-var-item'><div class='xr-var-name'><span class='xr-has-index'>date</span></div><div class='xr-var-dims'>(date)</div><div class='xr-var-dtype'>datetime64[ns]</div><div class='xr-var-preview xr-preview'>2000-01-01 ... 2019-12-01</div><input id='attrs-e72b04d6-aff2-446b-985a-6212ef4d9879' class='xr-var-attrs-in' type='checkbox' disabled><label for='attrs-e72b04d6-aff2-446b-985a-6212ef4d9879' title='Show/Hide attributes'><svg class='icon xr-icon-file-text2'><use xlink:href='#icon-file-text2'></use></svg></label><input id='data-6da0845b-e231-4b96-99d1-f801fd3c3016' class='xr-var-data-in' type='checkbox'><label for='data-6da0845b-e231-4b96-99d1-f801fd3c3016' title='Show/Hide data repr'><svg class='icon xr-icon-database'><use xlink:href='#icon-database'></use></svg></label><div class='xr-var-attrs'><dl class='xr-attrs'></dl></div><div class='xr-var-data'><pre>array([&#x27;2000-01-01T00:00:00.000000000&#x27;, &#x27;2000-02-01T00:00:00.000000000&#x27;,\n",
       "       &#x27;2000-03-01T00:00:00.000000000&#x27;, ..., &#x27;2019-10-01T00:00:00.000000000&#x27;,\n",
       "       &#x27;2019-11-01T00:00:00.000000000&#x27;, &#x27;2019-12-01T00:00:00.000000000&#x27;],\n",
       "      dtype=&#x27;datetime64[ns]&#x27;)</pre></div></li><li class='xr-var-item'><div class='xr-var-name'><span class='xr-has-index'>component</span></div><div class='xr-var-dims'>(component)</div><div class='xr-var-dtype'>&lt;U1</div><div class='xr-var-preview xr-preview'>&#x27;0&#x27;</div><input id='attrs-615ebc13-f165-4253-bd57-92663ccec04f' class='xr-var-attrs-in' type='checkbox' disabled><label for='attrs-615ebc13-f165-4253-bd57-92663ccec04f' title='Show/Hide attributes'><svg class='icon xr-icon-file-text2'><use xlink:href='#icon-file-text2'></use></svg></label><input id='data-5422268a-91ca-470a-92c6-700d746a786a' class='xr-var-data-in' type='checkbox'><label for='data-5422268a-91ca-470a-92c6-700d746a786a' title='Show/Hide data repr'><svg class='icon xr-icon-database'><use xlink:href='#icon-database'></use></svg></label><div class='xr-var-attrs'><dl class='xr-attrs'></dl></div><div class='xr-var-data'><pre>array([&#x27;0&#x27;], dtype=&#x27;&lt;U1&#x27;)</pre></div></li></ul></div></li><li class='xr-section-item'><input id='section-663703ba-d24b-4094-90a2-22c7964165b9' class='xr-section-summary-in' type='checkbox' disabled ><label for='section-663703ba-d24b-4094-90a2-22c7964165b9' class='xr-section-summary'  title='Expand/collapse section'>Attributes: <span>(0)</span></label><div class='xr-section-inline-details'></div><div class='xr-section-details'><dl class='xr-attrs'></dl></div></li></ul></div></div>"
      ],
      "text/plain": [
       "<TimeSeries (DataArray) (date: 240, component: 1, sample: 1)>\n",
       "array([[[4.02483837]],\n",
       "\n",
       "       [[3.85713663]],\n",
       "\n",
       "       [[3.52173343]],\n",
       "\n",
       "       [[3.35403198]],\n",
       "\n",
       "       [[3.01862878]],\n",
       "\n",
       "       [[2.85092703]],\n",
       "\n",
       "       [[2.68322558]],\n",
       "\n",
       "       [[2.93477806]],\n",
       "\n",
       "       [[3.18633053]],\n",
       "\n",
       "       [[3.35403198]],\n",
       "\n",
       "...\n",
       "\n",
       "       [[4.80718357]],\n",
       "\n",
       "       [[4.57827049]],\n",
       "\n",
       "       [[4.12044344]],\n",
       "\n",
       "       [[3.89153006]],\n",
       "\n",
       "       [[3.6626161 ]],\n",
       "\n",
       "       [[4.00598675]],\n",
       "\n",
       "       [[4.34935741]],\n",
       "\n",
       "       [[4.57827049]],\n",
       "\n",
       "       [[4.92164085]],\n",
       "\n",
       "       [[5.26501062]]])\n",
       "Coordinates:\n",
       "  * date       (date) datetime64[ns] 2000-01-01 2000-02-01 ... 2019-12-01\n",
       "  * component  (component) <U1 '0'\n",
       "Dimensions without coordinates: sample"
      ]
     },
     "execution_count": 34,
     "metadata": {},
     "output_type": "execute_result"
    }
   ],
   "source": [
    "print('********** Visualize darts Time-series data *************')\n",
    "TimeSeries.from_dataframe(df1.pivot(columns='location',values='co2')[[0]].reset_index().rename_axis(None, axis=1),time_col='date')"
   ]
  },
  {
   "cell_type": "code",
   "execution_count": 35,
   "metadata": {},
   "outputs": [
    {
     "data": {
      "image/png": "[encoded data removed]",
      "text/plain": [
       "<Figure size 864x432 with 1 Axes>"
      ]
     },
     "metadata": {
      "needs_background": "light"
     },
     "output_type": "display_data"
    }
   ],
   "source": [
    "# Plot some of the time-series data. It was noticed data needs to be scaled.\n",
    "df1.pivot(columns = 'location', values='co2')[0].plot()\n",
    "df1.pivot(columns = 'location', values='co2')[1].plot()\n",
    "df1.pivot(columns = 'location', values='co2')[2].plot()\n",
    "df1.pivot(columns = 'location', values='co2')[3].plot()\n",
    "plt.legend(title='Location')\n",
    "plt.title('Time-Series Overview: DATA NOT SCALED');"
   ]
  },
  {
   "cell_type": "code",
   "execution_count": 36,
   "metadata": {},
   "outputs": [],
   "source": [
    "scaler_co2 = Scaler()"
   ]
  },
  {
   "cell_type": "code",
   "execution_count": 37,
   "metadata": {},
   "outputs": [],
   "source": [
    "#This loop is used to create two lists: \n",
    "    #scaled time-series per location and \n",
    "    # unscaled Time-Series per location \n",
    "# Also, we convert to timeseries data type from darts)\n",
    "#This is done so we can feed the model with the scaled data.\n",
    "location_list = []\n",
    "location_list_transf = []\n",
    "for location in np.sort(df1['location'].unique()).tolist():\n",
    "    location_list.append(TimeSeries.from_dataframe(df1.pivot(columns='location',values='co2')[[location]].reset_index().rename_axis(None, axis=1),time_col='date'))\n",
    "    location_list_transf.append(scaler_co2.fit_transform(TimeSeries.from_dataframe(df1.pivot(columns='location',values='co2')[[location]].reset_index().rename_axis(None, axis=1),time_col='date')))"
   ]
  },
  {
   "cell_type": "code",
   "execution_count": 38,
   "metadata": {},
   "outputs": [
    {
     "data": {
      "image/png": "[encoded data removed]",
      "text/plain": [
       "<Figure size 864x432 with 1 Axes>"
      ]
     },
     "metadata": {
      "needs_background": "light"
     },
     "output_type": "display_data"
    }
   ],
   "source": [
    "location_list_transf[0].plot()\n",
    "location_list_transf[1].plot()\n",
    "location_list_transf[2].plot()\n",
    "location_list_transf[3].plot()\n",
    "plt.legend(title='Location')\n",
    "plt.title('Time-Series Overview: SCALED');"
   ]
  },
  {
   "cell_type": "markdown",
   "metadata": {},
   "source": [
    "### Data Modeling\n",
    "- Create NBEATS instance (a generic model for all time-series)\n",
    "- Fit the model with all time-series in df\n",
    "- Save / load model for future use\n",
    "- Evaluate model's performance\n",
    "- Forecast on some locations and plot results\n",
    "- Invert Transformed data (Return to original scale)\n",
    "- Create Predictions dataframe\n",
    "- Feature Engineering predictions dataframe"
   ]
  },
  {
   "cell_type": "code",
   "execution_count": 39,
   "metadata": {},
   "outputs": [
    {
     "name": "stdout",
     "output_type": "stream",
     "text": [
      "C:\\Users\\anton\\Google Drive\\Master in Data Science\\Independent Projects\\9. Carbon Capture Challenge\\Code\n"
     ]
    }
   ],
   "source": [
    "# The model will be saved so it can be used in the future. Therefore, we set the following variables:\n",
    "\n",
    "load = True\n",
    "SAVE = \"\\_NBEATS_model_Rev03.pth.tar\" #filename\n",
    "mpath = os.path.abspath(os.getcwd()) + SAVE # path and file name to save the model\n",
    "print(os.getcwd())"
   ]
  },
  {
   "cell_type": "code",
   "execution_count": 40,
   "metadata": {},
   "outputs": [
    {
     "name": "stdout",
     "output_type": "stream",
     "text": [
      "have loaded a previously saved model from disk:C:\\Users\\anton\\Google Drive\\Master in Data Science\\Independent Projects\\9. Carbon Capture Challenge\\Code\\_NBEATS_model_Rev03.pth.tar\n"
     ]
    }
   ],
   "source": [
    "# training: load a saved model or (re)train\n",
    "if load:\n",
    "    print(\"have loaded a previously saved model from disk:\" + mpath)\n",
    "    model = NBEATSModel.load_model(mpath)                            # load previously model from disk\n",
    "else:\n",
    "    model = NBEATSModel(input_chunk_length=48,\n",
    "                        output_chunk_length=12,                        \n",
    "                        random_state=0)\n",
    "    model.fit(location_list_transf,verbose=True,epochs=100)\n",
    "    print(\"have saved the model after training:\", mpath)\n",
    "    model.save_model(mpath)"
   ]
  },
  {
   "cell_type": "code",
   "execution_count": 41,
   "metadata": {},
   "outputs": [
    {
     "name": "stderr",
     "output_type": "stream",
     "text": [
      "2022-05-23 00:54:21 pytorch_lightning.utilities.rank_zero INFO: GPU available: False, used: False\n",
      "2022-05-23 00:54:21 pytorch_lightning.utilities.rank_zero INFO: TPU available: False, using: 0 TPU cores\n",
      "2022-05-23 00:54:21 pytorch_lightning.utilities.rank_zero INFO: IPU available: False, using: 0 IPUs\n",
      "2022-05-23 00:54:21 pytorch_lightning.utilities.rank_zero INFO: HPU available: False, using: 0 HPUs\n"
     ]
    },
    {
     "data": {
      "application/vnd.jupyter.widget-view+json": {
       "model_id": "d99c7bf05f724c7780bf916982e72f89",
       "version_major": 2,
       "version_minor": 0
      },
      "text/plain": [
       "Predicting: 0it [00:00, ?it/s]"
      ]
     },
     "metadata": {},
     "output_type": "display_data"
    },
    {
     "data": {
      "image/png": "[encoded data removed]",
      "text/plain": [
       "<Figure size 864x432 with 1 Axes>"
      ]
     },
     "metadata": {
      "needs_background": "light"
     },
     "output_type": "display_data"
    }
   ],
   "source": [
    "model.predict(n=36,series=location_list_transf[0]).plot(label='Predictions location 0 (Scaled)')\n",
    "location_list_transf[0].plot(label='Location 0 (Scaled)')\n",
    "plt.title('Predictions in Location 0');"
   ]
  },
  {
   "cell_type": "code",
   "execution_count": 42,
   "metadata": {},
   "outputs": [
    {
     "data": {
      "application/vnd.jupyter.widget-view+json": {
       "model_id": "a798c71eb8b54b8cb231bd990b176b38",
       "version_major": 2,
       "version_minor": 0
      },
      "text/plain": [
       "Predicting: 0it [00:00, ?it/s]"
      ]
     },
     "metadata": {},
     "output_type": "display_data"
    },
    {
     "data": {
      "image/png": "[encoded data removed]",
      "text/plain": [
       "<Figure size 864x432 with 1 Axes>"
      ]
     },
     "metadata": {
      "needs_background": "light"
     },
     "output_type": "display_data"
    }
   ],
   "source": [
    "model.predict(n=36,series=location_list_transf[1]).plot(label='Predictions location 1 (Scaled)')\n",
    "location_list_transf[1].plot(label='Location 1 (Scaled)')\n",
    "plt.title('Predictions in Location 1');"
   ]
  },
  {
   "cell_type": "code",
   "execution_count": 43,
   "metadata": {},
   "outputs": [
    {
     "data": {
      "application/vnd.jupyter.widget-view+json": {
       "model_id": "77effed1ef594e7fbbb2c5747d7dbaa5",
       "version_major": 2,
       "version_minor": 0
      },
      "text/plain": [
       "Predicting: 0it [00:00, ?it/s]"
      ]
     },
     "metadata": {},
     "output_type": "display_data"
    },
    {
     "data": {
      "image/png": "[encoded data removed]",
      "text/plain": [
       "<Figure size 864x432 with 1 Axes>"
      ]
     },
     "metadata": {
      "needs_background": "light"
     },
     "output_type": "display_data"
    }
   ],
   "source": [
    "model.predict(n=36,series=location_list_transf[100]).plot(label='Predictions location 100 (Scaled)')\n",
    "location_list_transf[100].plot(label='Location 100 (Scaled)')\n",
    "plt.title('Predictions in Location 100');"
   ]
  },
  {
   "cell_type": "code",
   "execution_count": 44,
   "metadata": {},
   "outputs": [
    {
     "data": {
      "application/vnd.jupyter.widget-view+json": {
       "model_id": "05ddaced6f6f40dfa047e4ec06b1a8b1",
       "version_major": 2,
       "version_minor": 0
      },
      "text/plain": [
       "Predicting: 0it [00:00, ?it/s]"
      ]
     },
     "metadata": {},
     "output_type": "display_data"
    },
    {
     "data": {
      "application/vnd.jupyter.widget-view+json": {
       "model_id": "aa44dcba74584d1bb1e1aea92edf7637",
       "version_major": 2,
       "version_minor": 0
      },
      "text/plain": [
       "Predicting: 0it [00:00, ?it/s]"
      ]
     },
     "metadata": {},
     "output_type": "display_data"
    },
    {
     "data": {
      "application/vnd.jupyter.widget-view+json": {
       "model_id": "0520c9f8cdf946899cd51c7e3c6b2445",
       "version_major": 2,
       "version_minor": 0
      },
      "text/plain": [
       "Predicting: 0it [00:00, ?it/s]"
      ]
     },
     "metadata": {},
     "output_type": "display_data"
    },
    {
     "data": {
      "application/vnd.jupyter.widget-view+json": {
       "model_id": "aba8cd012148492ca183856af70c3791",
       "version_major": 2,
       "version_minor": 0
      },
      "text/plain": [
       "Predicting: 0it [00:00, ?it/s]"
      ]
     },
     "metadata": {},
     "output_type": "display_data"
    },
    {
     "data": {
      "application/vnd.jupyter.widget-view+json": {
       "model_id": "85673b2706aa47408ac7ce4dab617321",
       "version_major": 2,
       "version_minor": 0
      },
      "text/plain": [
       "Predicting: 0it [00:00, ?it/s]"
      ]
     },
     "metadata": {},
     "output_type": "display_data"
    },
    {
     "data": {
      "application/vnd.jupyter.widget-view+json": {
       "model_id": "1355790b378f42e2925afb813fadee1e",
       "version_major": 2,
       "version_minor": 0
      },
      "text/plain": [
       "Predicting: 0it [00:00, ?it/s]"
      ]
     },
     "metadata": {},
     "output_type": "display_data"
    },
    {
     "data": {
      "application/vnd.jupyter.widget-view+json": {
       "model_id": "423df68f223c4353a31230c369a1a71e",
       "version_major": 2,
       "version_minor": 0
      },
      "text/plain": [
       "Predicting: 0it [00:00, ?it/s]"
      ]
     },
     "metadata": {},
     "output_type": "display_data"
    },
    {
     "data": {
      "application/vnd.jupyter.widget-view+json": {
       "model_id": "1c039330bab645678b148fdcfd32e26f",
       "version_major": 2,
       "version_minor": 0
      },
      "text/plain": [
       "Predicting: 0it [00:00, ?it/s]"
      ]
     },
     "metadata": {},
     "output_type": "display_data"
    },
    {
     "data": {
      "application/vnd.jupyter.widget-view+json": {
       "model_id": "d841d0009137470a86093fcf379e0bc3",
       "version_major": 2,
       "version_minor": 0
      },
      "text/plain": [
       "Predicting: 0it [00:00, ?it/s]"
      ]
     },
     "metadata": {},
     "output_type": "display_data"
    },
    {
     "data": {
      "application/vnd.jupyter.widget-view+json": {
       "model_id": "edb1c852d187465c916730be084a4de5",
       "version_major": 2,
       "version_minor": 0
      },
      "text/plain": [
       "Predicting: 0it [00:00, ?it/s]"
      ]
     },
     "metadata": {},
     "output_type": "display_data"
    },
    {
     "data": {
      "application/vnd.jupyter.widget-view+json": {
       "model_id": "44cb3768de964bbda88b750e5b04be49",
       "version_major": 2,
       "version_minor": 0
      },
      "text/plain": [
       "Predicting: 0it [00:00, ?it/s]"
      ]
     },
     "metadata": {},
     "output_type": "display_data"
    },
    {
     "data": {
      "application/vnd.jupyter.widget-view+json": {
       "model_id": "8763eee99f4c413888206378c5a3a342",
       "version_major": 2,
       "version_minor": 0
      },
      "text/plain": [
       "Predicting: 0it [00:00, ?it/s]"
      ]
     },
     "metadata": {},
     "output_type": "display_data"
    },
    {
     "data": {
      "application/vnd.jupyter.widget-view+json": {
       "model_id": "23a4ca93cf1746a9b980321896525c69",
       "version_major": 2,
       "version_minor": 0
      },
      "text/plain": [
       "Predicting: 0it [00:00, ?it/s]"
      ]
     },
     "metadata": {},
     "output_type": "display_data"
    },
    {
     "data": {
      "application/vnd.jupyter.widget-view+json": {
       "model_id": "ad5acecbc6f5482d85e3c349ee7b483b",
       "version_major": 2,
       "version_minor": 0
      },
      "text/plain": [
       "Predicting: 0it [00:00, ?it/s]"
      ]
     },
     "metadata": {},
     "output_type": "display_data"
    },
    {
     "data": {
      "application/vnd.jupyter.widget-view+json": {
       "model_id": "243ce955a7e741e5a11c48aab471ca70",
       "version_major": 2,
       "version_minor": 0
      },
      "text/plain": [
       "Predicting: 0it [00:00, ?it/s]"
      ]
     },
     "metadata": {},
     "output_type": "display_data"
    },
    {
     "data": {
      "application/vnd.jupyter.widget-view+json": {
       "model_id": "152d1684835d49a08828164befc59ce1",
       "version_major": 2,
       "version_minor": 0
      },
      "text/plain": [
       "Predicting: 0it [00:00, ?it/s]"
      ]
     },
     "metadata": {},
     "output_type": "display_data"
    },
    {
     "data": {
      "application/vnd.jupyter.widget-view+json": {
       "model_id": "aef9bbe619224d1aa43293f429518047",
       "version_major": 2,
       "version_minor": 0
      },
      "text/plain": [
       "Predicting: 0it [00:00, ?it/s]"
      ]
     },
     "metadata": {},
     "output_type": "display_data"
    },
    {
     "data": {
      "application/vnd.jupyter.widget-view+json": {
       "model_id": "1cd7f9e0d08d4186b5d134b3b159fde4",
       "version_major": 2,
       "version_minor": 0
      },
      "text/plain": [
       "Predicting: 0it [00:00, ?it/s]"
      ]
     },
     "metadata": {},
     "output_type": "display_data"
    },
    {
     "data": {
      "application/vnd.jupyter.widget-view+json": {
       "model_id": "e4dccac5eaf84cffa2f4e47e34fe6cbb",
       "version_major": 2,
       "version_minor": 0
      },
      "text/plain": [
       "Predicting: 0it [00:00, ?it/s]"
      ]
     },
     "metadata": {},
     "output_type": "display_data"
    },
    {
     "data": {
      "application/vnd.jupyter.widget-view+json": {
       "model_id": "aa26de8235be4b4f8bd426990b925a70",
       "version_major": 2,
       "version_minor": 0
      },
      "text/plain": [
       "Predicting: 0it [00:00, ?it/s]"
      ]
     },
     "metadata": {},
     "output_type": "display_data"
    },
    {
     "data": {
      "application/vnd.jupyter.widget-view+json": {
       "model_id": "d076660e5a3f4527a9f0b2b50eb0bfb7",
       "version_major": 2,
       "version_minor": 0
      },
      "text/plain": [
       "Predicting: 0it [00:00, ?it/s]"
      ]
     },
     "metadata": {},
     "output_type": "display_data"
    },
    {
     "data": {
      "application/vnd.jupyter.widget-view+json": {
       "model_id": "7799cc531a1a4b7ab04ba4a8d1bc99c4",
       "version_major": 2,
       "version_minor": 0
      },
      "text/plain": [
       "Predicting: 0it [00:00, ?it/s]"
      ]
     },
     "metadata": {},
     "output_type": "display_data"
    },
    {
     "data": {
      "application/vnd.jupyter.widget-view+json": {
       "model_id": "a645129a6fc3493bb6da873328893c6b",
       "version_major": 2,
       "version_minor": 0
      },
      "text/plain": [
       "Predicting: 0it [00:00, ?it/s]"
      ]
     },
     "metadata": {},
     "output_type": "display_data"
    },
    {
     "data": {
      "application/vnd.jupyter.widget-view+json": {
       "model_id": "ed66a7a87c6b4174acd8b7ba2870dc17",
       "version_major": 2,
       "version_minor": 0
      },
      "text/plain": [
       "Predicting: 0it [00:00, ?it/s]"
      ]
     },
     "metadata": {},
     "output_type": "display_data"
    },
    {
     "data": {
      "application/vnd.jupyter.widget-view+json": {
       "model_id": "da97104a83ce440ebfc1b6783d0fafda",
       "version_major": 2,
       "version_minor": 0
      },
      "text/plain": [
       "Predicting: 0it [00:00, ?it/s]"
      ]
     },
     "metadata": {},
     "output_type": "display_data"
    },
    {
     "data": {
      "application/vnd.jupyter.widget-view+json": {
       "model_id": "1a60a1629f834275ae3a34f0098e2d02",
       "version_major": 2,
       "version_minor": 0
      },
      "text/plain": [
       "Predicting: 0it [00:00, ?it/s]"
      ]
     },
     "metadata": {},
     "output_type": "display_data"
    },
    {
     "data": {
      "application/vnd.jupyter.widget-view+json": {
       "model_id": "5be956aa05c8402c9da34e15258b4273",
       "version_major": 2,
       "version_minor": 0
      },
      "text/plain": [
       "Predicting: 0it [00:00, ?it/s]"
      ]
     },
     "metadata": {},
     "output_type": "display_data"
    },
    {
     "data": {
      "application/vnd.jupyter.widget-view+json": {
       "model_id": "0f203ae12fbe472198c93579da67df3c",
       "version_major": 2,
       "version_minor": 0
      },
      "text/plain": [
       "Predicting: 0it [00:00, ?it/s]"
      ]
     },
     "metadata": {},
     "output_type": "display_data"
    },
    {
     "data": {
      "application/vnd.jupyter.widget-view+json": {
       "model_id": "e647348768294d319c086317208831e2",
       "version_major": 2,
       "version_minor": 0
      },
      "text/plain": [
       "Predicting: 0it [00:00, ?it/s]"
      ]
     },
     "metadata": {},
     "output_type": "display_data"
    },
    {
     "data": {
      "application/vnd.jupyter.widget-view+json": {
       "model_id": "ed00128fea584a4495566778fc72106b",
       "version_major": 2,
       "version_minor": 0
      },
      "text/plain": [
       "Predicting: 0it [00:00, ?it/s]"
      ]
     },
     "metadata": {},
     "output_type": "display_data"
    },
    {
     "data": {
      "application/vnd.jupyter.widget-view+json": {
       "model_id": "9b43f2812f604f709352fcc33e1919ec",
       "version_major": 2,
       "version_minor": 0
      },
      "text/plain": [
       "Predicting: 0it [00:00, ?it/s]"
      ]
     },
     "metadata": {},
     "output_type": "display_data"
    },
    {
     "data": {
      "application/vnd.jupyter.widget-view+json": {
       "model_id": "2e8fda32ccda488994c9b1641c52bd06",
       "version_major": 2,
       "version_minor": 0
      },
      "text/plain": [
       "Predicting: 0it [00:00, ?it/s]"
      ]
     },
     "metadata": {},
     "output_type": "display_data"
    },
    {
     "data": {
      "application/vnd.jupyter.widget-view+json": {
       "model_id": "e1f75fc59f434ef2844af7036148d8fa",
       "version_major": 2,
       "version_minor": 0
      },
      "text/plain": [
       "Predicting: 0it [00:00, ?it/s]"
      ]
     },
     "metadata": {},
     "output_type": "display_data"
    },
    {
     "data": {
      "application/vnd.jupyter.widget-view+json": {
       "model_id": "fa6e41bba2a14a13b2ed8fafd217541d",
       "version_major": 2,
       "version_minor": 0
      },
      "text/plain": [
       "Predicting: 0it [00:00, ?it/s]"
      ]
     },
     "metadata": {},
     "output_type": "display_data"
    },
    {
     "data": {
      "application/vnd.jupyter.widget-view+json": {
       "model_id": "557b6b1685a942a7984369a51bca6de6",
       "version_major": 2,
       "version_minor": 0
      },
      "text/plain": [
       "Predicting: 0it [00:00, ?it/s]"
      ]
     },
     "metadata": {},
     "output_type": "display_data"
    },
    {
     "data": {
      "application/vnd.jupyter.widget-view+json": {
       "model_id": "b2a0a4036fea4ac2925a52dc1a1c850c",
       "version_major": 2,
       "version_minor": 0
      },
      "text/plain": [
       "Predicting: 0it [00:00, ?it/s]"
      ]
     },
     "metadata": {},
     "output_type": "display_data"
    },
    {
     "data": {
      "application/vnd.jupyter.widget-view+json": {
       "model_id": "286ea8d4cfd04907b9bc16f877f85ffd",
       "version_major": 2,
       "version_minor": 0
      },
      "text/plain": [
       "Predicting: 0it [00:00, ?it/s]"
      ]
     },
     "metadata": {},
     "output_type": "display_data"
    },
    {
     "data": {
      "application/vnd.jupyter.widget-view+json": {
       "model_id": "ff0e0c35f9ec469a9a615c37298aaa23",
       "version_major": 2,
       "version_minor": 0
      },
      "text/plain": [
       "Predicting: 0it [00:00, ?it/s]"
      ]
     },
     "metadata": {},
     "output_type": "display_data"
    },
    {
     "data": {
      "application/vnd.jupyter.widget-view+json": {
       "model_id": "d11380d4dc5f463f80e6dd81c5df4bb9",
       "version_major": 2,
       "version_minor": 0
      },
      "text/plain": [
       "Predicting: 0it [00:00, ?it/s]"
      ]
     },
     "metadata": {},
     "output_type": "display_data"
    },
    {
     "data": {
      "application/vnd.jupyter.widget-view+json": {
       "model_id": "5848835cb595413c880a2a00d0c11f42",
       "version_major": 2,
       "version_minor": 0
      },
      "text/plain": [
       "Predicting: 0it [00:00, ?it/s]"
      ]
     },
     "metadata": {},
     "output_type": "display_data"
    },
    {
     "data": {
      "application/vnd.jupyter.widget-view+json": {
       "model_id": "d061dd5112a242b9a3106a825f875cef",
       "version_major": 2,
       "version_minor": 0
      },
      "text/plain": [
       "Predicting: 0it [00:00, ?it/s]"
      ]
     },
     "metadata": {},
     "output_type": "display_data"
    },
    {
     "data": {
      "application/vnd.jupyter.widget-view+json": {
       "model_id": "a94bbe0e51ed4e7097eecce52631d3ef",
       "version_major": 2,
       "version_minor": 0
      },
      "text/plain": [
       "Predicting: 0it [00:00, ?it/s]"
      ]
     },
     "metadata": {},
     "output_type": "display_data"
    },
    {
     "data": {
      "application/vnd.jupyter.widget-view+json": {
       "model_id": "780db94ee6f643e7838284131b2d1f6f",
       "version_major": 2,
       "version_minor": 0
      },
      "text/plain": [
       "Predicting: 0it [00:00, ?it/s]"
      ]
     },
     "metadata": {},
     "output_type": "display_data"
    },
    {
     "data": {
      "application/vnd.jupyter.widget-view+json": {
       "model_id": "6331e98ee8a347e89d24a9ce9ed7cb5f",
       "version_major": 2,
       "version_minor": 0
      },
      "text/plain": [
       "Predicting: 0it [00:00, ?it/s]"
      ]
     },
     "metadata": {},
     "output_type": "display_data"
    },
    {
     "data": {
      "application/vnd.jupyter.widget-view+json": {
       "model_id": "034b4fb7029d4b91903868d000f40f83",
       "version_major": 2,
       "version_minor": 0
      },
      "text/plain": [
       "Predicting: 0it [00:00, ?it/s]"
      ]
     },
     "metadata": {},
     "output_type": "display_data"
    },
    {
     "data": {
      "application/vnd.jupyter.widget-view+json": {
       "model_id": "f62f2070c4764159a9f303333c0ad0d7",
       "version_major": 2,
       "version_minor": 0
      },
      "text/plain": [
       "Predicting: 0it [00:00, ?it/s]"
      ]
     },
     "metadata": {},
     "output_type": "display_data"
    },
    {
     "data": {
      "application/vnd.jupyter.widget-view+json": {
       "model_id": "fe0a3f65555b4b39b428b094ac70076c",
       "version_major": 2,
       "version_minor": 0
      },
      "text/plain": [
       "Predicting: 0it [00:00, ?it/s]"
      ]
     },
     "metadata": {},
     "output_type": "display_data"
    },
    {
     "data": {
      "application/vnd.jupyter.widget-view+json": {
       "model_id": "33ba230efb7641a8bf48fa4225d38461",
       "version_major": 2,
       "version_minor": 0
      },
      "text/plain": [
       "Predicting: 0it [00:00, ?it/s]"
      ]
     },
     "metadata": {},
     "output_type": "display_data"
    },
    {
     "data": {
      "application/vnd.jupyter.widget-view+json": {
       "model_id": "c93e5ea5f964427c84e3e784e9380065",
       "version_major": 2,
       "version_minor": 0
      },
      "text/plain": [
       "Predicting: 0it [00:00, ?it/s]"
      ]
     },
     "metadata": {},
     "output_type": "display_data"
    },
    {
     "data": {
      "application/vnd.jupyter.widget-view+json": {
       "model_id": "59584bcf09c84fc1840538ae46fb20e7",
       "version_major": 2,
       "version_minor": 0
      },
      "text/plain": [
       "Predicting: 0it [00:00, ?it/s]"
      ]
     },
     "metadata": {},
     "output_type": "display_data"
    },
    {
     "data": {
      "application/vnd.jupyter.widget-view+json": {
       "model_id": "97d4c688ad2a40ddb9509061389cb841",
       "version_major": 2,
       "version_minor": 0
      },
      "text/plain": [
       "Predicting: 0it [00:00, ?it/s]"
      ]
     },
     "metadata": {},
     "output_type": "display_data"
    },
    {
     "data": {
      "application/vnd.jupyter.widget-view+json": {
       "model_id": "fd7d4b02b02c4ae7b75d38f3b30d40dd",
       "version_major": 2,
       "version_minor": 0
      },
      "text/plain": [
       "Predicting: 0it [00:00, ?it/s]"
      ]
     },
     "metadata": {},
     "output_type": "display_data"
    },
    {
     "data": {
      "application/vnd.jupyter.widget-view+json": {
       "model_id": "9b0c470ab124441c91728437d6d39ae2",
       "version_major": 2,
       "version_minor": 0
      },
      "text/plain": [
       "Predicting: 0it [00:00, ?it/s]"
      ]
     },
     "metadata": {},
     "output_type": "display_data"
    },
    {
     "data": {
      "application/vnd.jupyter.widget-view+json": {
       "model_id": "1a07954f47954c6f9a322fd3fbfb9b8b",
       "version_major": 2,
       "version_minor": 0
      },
      "text/plain": [
       "Predicting: 0it [00:00, ?it/s]"
      ]
     },
     "metadata": {},
     "output_type": "display_data"
    },
    {
     "data": {
      "application/vnd.jupyter.widget-view+json": {
       "model_id": "80633595182241918deb2f12d00db28a",
       "version_major": 2,
       "version_minor": 0
      },
      "text/plain": [
       "Predicting: 0it [00:00, ?it/s]"
      ]
     },
     "metadata": {},
     "output_type": "display_data"
    },
    {
     "data": {
      "application/vnd.jupyter.widget-view+json": {
       "model_id": "70986c958cbc40e497bb6a394c5e30cf",
       "version_major": 2,
       "version_minor": 0
      },
      "text/plain": [
       "Predicting: 0it [00:00, ?it/s]"
      ]
     },
     "metadata": {},
     "output_type": "display_data"
    },
    {
     "data": {
      "application/vnd.jupyter.widget-view+json": {
       "model_id": "f043531bb2fd4bbbba5aa0fa5fc08fcf",
       "version_major": 2,
       "version_minor": 0
      },
      "text/plain": [
       "Predicting: 0it [00:00, ?it/s]"
      ]
     },
     "metadata": {},
     "output_type": "display_data"
    },
    {
     "data": {
      "application/vnd.jupyter.widget-view+json": {
       "model_id": "a837c41a2ab34de9886367c70918cd13",
       "version_major": 2,
       "version_minor": 0
      },
      "text/plain": [
       "Predicting: 0it [00:00, ?it/s]"
      ]
     },
     "metadata": {},
     "output_type": "display_data"
    },
    {
     "data": {
      "application/vnd.jupyter.widget-view+json": {
       "model_id": "0ff3ab7e694c427fb34d9bf0d4978f42",
       "version_major": 2,
       "version_minor": 0
      },
      "text/plain": [
       "Predicting: 0it [00:00, ?it/s]"
      ]
     },
     "metadata": {},
     "output_type": "display_data"
    },
    {
     "data": {
      "application/vnd.jupyter.widget-view+json": {
       "model_id": "a41a08c75d7f477dbc6977544963b73c",
       "version_major": 2,
       "version_minor": 0
      },
      "text/plain": [
       "Predicting: 0it [00:00, ?it/s]"
      ]
     },
     "metadata": {},
     "output_type": "display_data"
    },
    {
     "data": {
      "application/vnd.jupyter.widget-view+json": {
       "model_id": "a715ce8bc1114fe1aaa7386a983d8d1d",
       "version_major": 2,
       "version_minor": 0
      },
      "text/plain": [
       "Predicting: 0it [00:00, ?it/s]"
      ]
     },
     "metadata": {},
     "output_type": "display_data"
    },
    {
     "data": {
      "application/vnd.jupyter.widget-view+json": {
       "model_id": "537bf5039e4b43e3ba7ffd51c27d27c8",
       "version_major": 2,
       "version_minor": 0
      },
      "text/plain": [
       "Predicting: 0it [00:00, ?it/s]"
      ]
     },
     "metadata": {},
     "output_type": "display_data"
    },
    {
     "data": {
      "application/vnd.jupyter.widget-view+json": {
       "model_id": "8232be44a95c476fb9f729631bd0eb79",
       "version_major": 2,
       "version_minor": 0
      },
      "text/plain": [
       "Predicting: 0it [00:00, ?it/s]"
      ]
     },
     "metadata": {},
     "output_type": "display_data"
    },
    {
     "data": {
      "application/vnd.jupyter.widget-view+json": {
       "model_id": "fafca3ede525418f948d45d3e124cc99",
       "version_major": 2,
       "version_minor": 0
      },
      "text/plain": [
       "Predicting: 0it [00:00, ?it/s]"
      ]
     },
     "metadata": {},
     "output_type": "display_data"
    },
    {
     "data": {
      "application/vnd.jupyter.widget-view+json": {
       "model_id": "befbe83d7c5a4e9f9d73c3a18e5f31d0",
       "version_major": 2,
       "version_minor": 0
      },
      "text/plain": [
       "Predicting: 0it [00:00, ?it/s]"
      ]
     },
     "metadata": {},
     "output_type": "display_data"
    },
    {
     "data": {
      "application/vnd.jupyter.widget-view+json": {
       "model_id": "b20d9560b4364822ae15b7464346f988",
       "version_major": 2,
       "version_minor": 0
      },
      "text/plain": [
       "Predicting: 0it [00:00, ?it/s]"
      ]
     },
     "metadata": {},
     "output_type": "display_data"
    },
    {
     "data": {
      "application/vnd.jupyter.widget-view+json": {
       "model_id": "cf402098abfd41c3b09ef04a657cd145",
       "version_major": 2,
       "version_minor": 0
      },
      "text/plain": [
       "Predicting: 0it [00:00, ?it/s]"
      ]
     },
     "metadata": {},
     "output_type": "display_data"
    },
    {
     "data": {
      "application/vnd.jupyter.widget-view+json": {
       "model_id": "2b5d97e01df54b26b79576666edfa7fa",
       "version_major": 2,
       "version_minor": 0
      },
      "text/plain": [
       "Predicting: 0it [00:00, ?it/s]"
      ]
     },
     "metadata": {},
     "output_type": "display_data"
    },
    {
     "data": {
      "application/vnd.jupyter.widget-view+json": {
       "model_id": "f723a935510a4c8f93c8e4984923bec0",
       "version_major": 2,
       "version_minor": 0
      },
      "text/plain": [
       "Predicting: 0it [00:00, ?it/s]"
      ]
     },
     "metadata": {},
     "output_type": "display_data"
    },
    {
     "data": {
      "application/vnd.jupyter.widget-view+json": {
       "model_id": "b1408fba785f47cabce2439e346f6055",
       "version_major": 2,
       "version_minor": 0
      },
      "text/plain": [
       "Predicting: 0it [00:00, ?it/s]"
      ]
     },
     "metadata": {},
     "output_type": "display_data"
    },
    {
     "data": {
      "application/vnd.jupyter.widget-view+json": {
       "model_id": "cf833e791ea04627998921a7d99b73e9",
       "version_major": 2,
       "version_minor": 0
      },
      "text/plain": [
       "Predicting: 0it [00:00, ?it/s]"
      ]
     },
     "metadata": {},
     "output_type": "display_data"
    },
    {
     "data": {
      "application/vnd.jupyter.widget-view+json": {
       "model_id": "073ef11eb6f340dd884451fbe404dc62",
       "version_major": 2,
       "version_minor": 0
      },
      "text/plain": [
       "Predicting: 0it [00:00, ?it/s]"
      ]
     },
     "metadata": {},
     "output_type": "display_data"
    },
    {
     "data": {
      "application/vnd.jupyter.widget-view+json": {
       "model_id": "f513b8464cad4655a476667c5fa6e4e1",
       "version_major": 2,
       "version_minor": 0
      },
      "text/plain": [
       "Predicting: 0it [00:00, ?it/s]"
      ]
     },
     "metadata": {},
     "output_type": "display_data"
    },
    {
     "data": {
      "application/vnd.jupyter.widget-view+json": {
       "model_id": "c318931d1bbb41e28c0b8b4c28fe38a0",
       "version_major": 2,
       "version_minor": 0
      },
      "text/plain": [
       "Predicting: 0it [00:00, ?it/s]"
      ]
     },
     "metadata": {},
     "output_type": "display_data"
    },
    {
     "data": {
      "application/vnd.jupyter.widget-view+json": {
       "model_id": "b821ddee0eb34bc2bcb0f06555dc212a",
       "version_major": 2,
       "version_minor": 0
      },
      "text/plain": [
       "Predicting: 0it [00:00, ?it/s]"
      ]
     },
     "metadata": {},
     "output_type": "display_data"
    },
    {
     "data": {
      "application/vnd.jupyter.widget-view+json": {
       "model_id": "318f3ecdcd7b4252a8ca6d3073c192c0",
       "version_major": 2,
       "version_minor": 0
      },
      "text/plain": [
       "Predicting: 0it [00:00, ?it/s]"
      ]
     },
     "metadata": {},
     "output_type": "display_data"
    },
    {
     "data": {
      "application/vnd.jupyter.widget-view+json": {
       "model_id": "a55adc8497ab4457b4dfd2cac4c8ed3d",
       "version_major": 2,
       "version_minor": 0
      },
      "text/plain": [
       "Predicting: 0it [00:00, ?it/s]"
      ]
     },
     "metadata": {},
     "output_type": "display_data"
    },
    {
     "data": {
      "application/vnd.jupyter.widget-view+json": {
       "model_id": "0c860a89cca947369a9c5592b1ab1334",
       "version_major": 2,
       "version_minor": 0
      },
      "text/plain": [
       "Predicting: 0it [00:00, ?it/s]"
      ]
     },
     "metadata": {},
     "output_type": "display_data"
    },
    {
     "data": {
      "application/vnd.jupyter.widget-view+json": {
       "model_id": "81340ff3fae1453ca9514c92c5e0bdb2",
       "version_major": 2,
       "version_minor": 0
      },
      "text/plain": [
       "Predicting: 0it [00:00, ?it/s]"
      ]
     },
     "metadata": {},
     "output_type": "display_data"
    },
    {
     "data": {
      "application/vnd.jupyter.widget-view+json": {
       "model_id": "7a528ad399da4145a435c18b95386103",
       "version_major": 2,
       "version_minor": 0
      },
      "text/plain": [
       "Predicting: 0it [00:00, ?it/s]"
      ]
     },
     "metadata": {},
     "output_type": "display_data"
    },
    {
     "data": {
      "application/vnd.jupyter.widget-view+json": {
       "model_id": "5454ab6da08d4988b17fc7e57c4cd642",
       "version_major": 2,
       "version_minor": 0
      },
      "text/plain": [
       "Predicting: 0it [00:00, ?it/s]"
      ]
     },
     "metadata": {},
     "output_type": "display_data"
    },
    {
     "data": {
      "application/vnd.jupyter.widget-view+json": {
       "model_id": "fc1c604cd77143a0898f6fc73ab2e2cc",
       "version_major": 2,
       "version_minor": 0
      },
      "text/plain": [
       "Predicting: 0it [00:00, ?it/s]"
      ]
     },
     "metadata": {},
     "output_type": "display_data"
    },
    {
     "data": {
      "application/vnd.jupyter.widget-view+json": {
       "model_id": "fb84d075da39434aab5247cc5835023a",
       "version_major": 2,
       "version_minor": 0
      },
      "text/plain": [
       "Predicting: 0it [00:00, ?it/s]"
      ]
     },
     "metadata": {},
     "output_type": "display_data"
    },
    {
     "data": {
      "application/vnd.jupyter.widget-view+json": {
       "model_id": "2a17efaee60741a18444beaf87145046",
       "version_major": 2,
       "version_minor": 0
      },
      "text/plain": [
       "Predicting: 0it [00:00, ?it/s]"
      ]
     },
     "metadata": {},
     "output_type": "display_data"
    },
    {
     "data": {
      "application/vnd.jupyter.widget-view+json": {
       "model_id": "247e0c446c6d49949db802c1769fbe62",
       "version_major": 2,
       "version_minor": 0
      },
      "text/plain": [
       "Predicting: 0it [00:00, ?it/s]"
      ]
     },
     "metadata": {},
     "output_type": "display_data"
    },
    {
     "data": {
      "application/vnd.jupyter.widget-view+json": {
       "model_id": "34bc1ebf16614177bda1143a52c67620",
       "version_major": 2,
       "version_minor": 0
      },
      "text/plain": [
       "Predicting: 0it [00:00, ?it/s]"
      ]
     },
     "metadata": {},
     "output_type": "display_data"
    },
    {
     "data": {
      "application/vnd.jupyter.widget-view+json": {
       "model_id": "124e2405066e4590a384b7c7de96135f",
       "version_major": 2,
       "version_minor": 0
      },
      "text/plain": [
       "Predicting: 0it [00:00, ?it/s]"
      ]
     },
     "metadata": {},
     "output_type": "display_data"
    },
    {
     "data": {
      "application/vnd.jupyter.widget-view+json": {
       "model_id": "d891c49bf25f463ba1057e3255d9a25d",
       "version_major": 2,
       "version_minor": 0
      },
      "text/plain": [
       "Predicting: 0it [00:00, ?it/s]"
      ]
     },
     "metadata": {},
     "output_type": "display_data"
    },
    {
     "data": {
      "application/vnd.jupyter.widget-view+json": {
       "model_id": "59a98b1301e443db80591fee569b4d2a",
       "version_major": 2,
       "version_minor": 0
      },
      "text/plain": [
       "Predicting: 0it [00:00, ?it/s]"
      ]
     },
     "metadata": {},
     "output_type": "display_data"
    },
    {
     "data": {
      "application/vnd.jupyter.widget-view+json": {
       "model_id": "50bf526af0b2402d8c01491be80c4fb1",
       "version_major": 2,
       "version_minor": 0
      },
      "text/plain": [
       "Predicting: 0it [00:00, ?it/s]"
      ]
     },
     "metadata": {},
     "output_type": "display_data"
    },
    {
     "data": {
      "application/vnd.jupyter.widget-view+json": {
       "model_id": "b39206e7b43f433784f9e1454c3818c6",
       "version_major": 2,
       "version_minor": 0
      },
      "text/plain": [
       "Predicting: 0it [00:00, ?it/s]"
      ]
     },
     "metadata": {},
     "output_type": "display_data"
    },
    {
     "data": {
      "application/vnd.jupyter.widget-view+json": {
       "model_id": "94f9cf2b042545d9b5e736ea2ab258a9",
       "version_major": 2,
       "version_minor": 0
      },
      "text/plain": [
       "Predicting: 0it [00:00, ?it/s]"
      ]
     },
     "metadata": {},
     "output_type": "display_data"
    },
    {
     "data": {
      "application/vnd.jupyter.widget-view+json": {
       "model_id": "34bcc223e09e4bbe858a78990116dbdb",
       "version_major": 2,
       "version_minor": 0
      },
      "text/plain": [
       "Predicting: 0it [00:00, ?it/s]"
      ]
     },
     "metadata": {},
     "output_type": "display_data"
    },
    {
     "data": {
      "application/vnd.jupyter.widget-view+json": {
       "model_id": "15e823cb709048c197351f1191f4acc4",
       "version_major": 2,
       "version_minor": 0
      },
      "text/plain": [
       "Predicting: 0it [00:00, ?it/s]"
      ]
     },
     "metadata": {},
     "output_type": "display_data"
    },
    {
     "data": {
      "application/vnd.jupyter.widget-view+json": {
       "model_id": "5a74db35c0ff46e7a56b8815582a43cb",
       "version_major": 2,
       "version_minor": 0
      },
      "text/plain": [
       "Predicting: 0it [00:00, ?it/s]"
      ]
     },
     "metadata": {},
     "output_type": "display_data"
    },
    {
     "data": {
      "application/vnd.jupyter.widget-view+json": {
       "model_id": "b158f92cbee8440ab8731172ad1c3438",
       "version_major": 2,
       "version_minor": 0
      },
      "text/plain": [
       "Predicting: 0it [00:00, ?it/s]"
      ]
     },
     "metadata": {},
     "output_type": "display_data"
    },
    {
     "data": {
      "application/vnd.jupyter.widget-view+json": {
       "model_id": "cee7d22ade5d4a32b0d05377819e4690",
       "version_major": 2,
       "version_minor": 0
      },
      "text/plain": [
       "Predicting: 0it [00:00, ?it/s]"
      ]
     },
     "metadata": {},
     "output_type": "display_data"
    },
    {
     "data": {
      "application/vnd.jupyter.widget-view+json": {
       "model_id": "3d7a261da2574db58110b3a04f79a23c",
       "version_major": 2,
       "version_minor": 0
      },
      "text/plain": [
       "Predicting: 0it [00:00, ?it/s]"
      ]
     },
     "metadata": {},
     "output_type": "display_data"
    },
    {
     "data": {
      "application/vnd.jupyter.widget-view+json": {
       "model_id": "285259c30c894d8f839b5412422ed686",
       "version_major": 2,
       "version_minor": 0
      },
      "text/plain": [
       "Predicting: 0it [00:00, ?it/s]"
      ]
     },
     "metadata": {},
     "output_type": "display_data"
    },
    {
     "data": {
      "application/vnd.jupyter.widget-view+json": {
       "model_id": "ec7bbe5f02834c9cb9c635fe658c596d",
       "version_major": 2,
       "version_minor": 0
      },
      "text/plain": [
       "Predicting: 0it [00:00, ?it/s]"
      ]
     },
     "metadata": {},
     "output_type": "display_data"
    },
    {
     "data": {
      "application/vnd.jupyter.widget-view+json": {
       "model_id": "e9485925d4f64f5d957a8fc020356749",
       "version_major": 2,
       "version_minor": 0
      },
      "text/plain": [
       "Predicting: 0it [00:00, ?it/s]"
      ]
     },
     "metadata": {},
     "output_type": "display_data"
    },
    {
     "data": {
      "application/vnd.jupyter.widget-view+json": {
       "model_id": "186454b3772d437fb68b5950144577e1",
       "version_major": 2,
       "version_minor": 0
      },
      "text/plain": [
       "Predicting: 0it [00:00, ?it/s]"
      ]
     },
     "metadata": {},
     "output_type": "display_data"
    },
    {
     "data": {
      "application/vnd.jupyter.widget-view+json": {
       "model_id": "0e515ffb18e64e50876cfcfe88c6daf1",
       "version_major": 2,
       "version_minor": 0
      },
      "text/plain": [
       "Predicting: 0it [00:00, ?it/s]"
      ]
     },
     "metadata": {},
     "output_type": "display_data"
    },
    {
     "data": {
      "application/vnd.jupyter.widget-view+json": {
       "model_id": "922f2aa5bbc74d8db46e9bbf2097b689",
       "version_major": 2,
       "version_minor": 0
      },
      "text/plain": [
       "Predicting: 0it [00:00, ?it/s]"
      ]
     },
     "metadata": {},
     "output_type": "display_data"
    },
    {
     "data": {
      "application/vnd.jupyter.widget-view+json": {
       "model_id": "1a6ae3db42a247c4b18849d740d5eb52",
       "version_major": 2,
       "version_minor": 0
      },
      "text/plain": [
       "Predicting: 0it [00:00, ?it/s]"
      ]
     },
     "metadata": {},
     "output_type": "display_data"
    },
    {
     "data": {
      "application/vnd.jupyter.widget-view+json": {
       "model_id": "a66563df1822424a98796c74a643e478",
       "version_major": 2,
       "version_minor": 0
      },
      "text/plain": [
       "Predicting: 0it [00:00, ?it/s]"
      ]
     },
     "metadata": {},
     "output_type": "display_data"
    },
    {
     "data": {
      "application/vnd.jupyter.widget-view+json": {
       "model_id": "503444323bc74439814fc6973ae9cef8",
       "version_major": 2,
       "version_minor": 0
      },
      "text/plain": [
       "Predicting: 0it [00:00, ?it/s]"
      ]
     },
     "metadata": {},
     "output_type": "display_data"
    },
    {
     "data": {
      "application/vnd.jupyter.widget-view+json": {
       "model_id": "d9eef9db5228425eadf48728ca3b07b1",
       "version_major": 2,
       "version_minor": 0
      },
      "text/plain": [
       "Predicting: 0it [00:00, ?it/s]"
      ]
     },
     "metadata": {},
     "output_type": "display_data"
    },
    {
     "data": {
      "application/vnd.jupyter.widget-view+json": {
       "model_id": "5382578f60bf4dbe8111cdb89c204be3",
       "version_major": 2,
       "version_minor": 0
      },
      "text/plain": [
       "Predicting: 0it [00:00, ?it/s]"
      ]
     },
     "metadata": {},
     "output_type": "display_data"
    },
    {
     "data": {
      "application/vnd.jupyter.widget-view+json": {
       "model_id": "7eaff85272f24603af4941fc59542136",
       "version_major": 2,
       "version_minor": 0
      },
      "text/plain": [
       "Predicting: 0it [00:00, ?it/s]"
      ]
     },
     "metadata": {},
     "output_type": "display_data"
    },
    {
     "data": {
      "application/vnd.jupyter.widget-view+json": {
       "model_id": "8b9cd28cf4834feab27bfb50907e6ab5",
       "version_major": 2,
       "version_minor": 0
      },
      "text/plain": [
       "Predicting: 0it [00:00, ?it/s]"
      ]
     },
     "metadata": {},
     "output_type": "display_data"
    },
    {
     "data": {
      "application/vnd.jupyter.widget-view+json": {
       "model_id": "4c51d4062ec7457b9830ad8ade559705",
       "version_major": 2,
       "version_minor": 0
      },
      "text/plain": [
       "Predicting: 0it [00:00, ?it/s]"
      ]
     },
     "metadata": {},
     "output_type": "display_data"
    },
    {
     "data": {
      "application/vnd.jupyter.widget-view+json": {
       "model_id": "038bb91370d041b4af2df37e3e42fb1e",
       "version_major": 2,
       "version_minor": 0
      },
      "text/plain": [
       "Predicting: 0it [00:00, ?it/s]"
      ]
     },
     "metadata": {},
     "output_type": "display_data"
    },
    {
     "data": {
      "application/vnd.jupyter.widget-view+json": {
       "model_id": "ecd8a6c79d154bbbb577100649690e55",
       "version_major": 2,
       "version_minor": 0
      },
      "text/plain": [
       "Predicting: 0it [00:00, ?it/s]"
      ]
     },
     "metadata": {},
     "output_type": "display_data"
    },
    {
     "data": {
      "application/vnd.jupyter.widget-view+json": {
       "model_id": "707cf36862c14f5a932e2ed13e15f2ba",
       "version_major": 2,
       "version_minor": 0
      },
      "text/plain": [
       "Predicting: 0it [00:00, ?it/s]"
      ]
     },
     "metadata": {},
     "output_type": "display_data"
    },
    {
     "data": {
      "application/vnd.jupyter.widget-view+json": {
       "model_id": "3dea8fc0d0194db4b9b0fe245c29d12e",
       "version_major": 2,
       "version_minor": 0
      },
      "text/plain": [
       "Predicting: 0it [00:00, ?it/s]"
      ]
     },
     "metadata": {},
     "output_type": "display_data"
    },
    {
     "data": {
      "application/vnd.jupyter.widget-view+json": {
       "model_id": "f027121ab0424d61a0d496687df11734",
       "version_major": 2,
       "version_minor": 0
      },
      "text/plain": [
       "Predicting: 0it [00:00, ?it/s]"
      ]
     },
     "metadata": {},
     "output_type": "display_data"
    },
    {
     "data": {
      "application/vnd.jupyter.widget-view+json": {
       "model_id": "8ec6c7b41d18489eaf49bac61ee58588",
       "version_major": 2,
       "version_minor": 0
      },
      "text/plain": [
       "Predicting: 0it [00:00, ?it/s]"
      ]
     },
     "metadata": {},
     "output_type": "display_data"
    },
    {
     "data": {
      "application/vnd.jupyter.widget-view+json": {
       "model_id": "f850a7c04c0f4ef0a9eb595c2212006e",
       "version_major": 2,
       "version_minor": 0
      },
      "text/plain": [
       "Predicting: 0it [00:00, ?it/s]"
      ]
     },
     "metadata": {},
     "output_type": "display_data"
    },
    {
     "data": {
      "application/vnd.jupyter.widget-view+json": {
       "model_id": "c118007b5d664aa9a2b2b672792ea393",
       "version_major": 2,
       "version_minor": 0
      },
      "text/plain": [
       "Predicting: 0it [00:00, ?it/s]"
      ]
     },
     "metadata": {},
     "output_type": "display_data"
    },
    {
     "data": {
      "application/vnd.jupyter.widget-view+json": {
       "model_id": "91fff1e2141a4595a9e3ee2277da3d19",
       "version_major": 2,
       "version_minor": 0
      },
      "text/plain": [
       "Predicting: 0it [00:00, ?it/s]"
      ]
     },
     "metadata": {},
     "output_type": "display_data"
    },
    {
     "data": {
      "application/vnd.jupyter.widget-view+json": {
       "model_id": "939a554134f64e91af0a0a2b8bf5b140",
       "version_major": 2,
       "version_minor": 0
      },
      "text/plain": [
       "Predicting: 0it [00:00, ?it/s]"
      ]
     },
     "metadata": {},
     "output_type": "display_data"
    },
    {
     "data": {
      "application/vnd.jupyter.widget-view+json": {
       "model_id": "c7c4f9757bf94c2a81763b34e3e3c03b",
       "version_major": 2,
       "version_minor": 0
      },
      "text/plain": [
       "Predicting: 0it [00:00, ?it/s]"
      ]
     },
     "metadata": {},
     "output_type": "display_data"
    },
    {
     "data": {
      "application/vnd.jupyter.widget-view+json": {
       "model_id": "c670ba1b5aa5420f87ad94198830f6d8",
       "version_major": 2,
       "version_minor": 0
      },
      "text/plain": [
       "Predicting: 0it [00:00, ?it/s]"
      ]
     },
     "metadata": {},
     "output_type": "display_data"
    },
    {
     "data": {
      "application/vnd.jupyter.widget-view+json": {
       "model_id": "b268cf832e18485e88ae284f4569792d",
       "version_major": 2,
       "version_minor": 0
      },
      "text/plain": [
       "Predicting: 0it [00:00, ?it/s]"
      ]
     },
     "metadata": {},
     "output_type": "display_data"
    },
    {
     "data": {
      "application/vnd.jupyter.widget-view+json": {
       "model_id": "3939489e0b5a4866bbd628d9e9c510bb",
       "version_major": 2,
       "version_minor": 0
      },
      "text/plain": [
       "Predicting: 0it [00:00, ?it/s]"
      ]
     },
     "metadata": {},
     "output_type": "display_data"
    },
    {
     "data": {
      "application/vnd.jupyter.widget-view+json": {
       "model_id": "f25b1186a80846dd8419c396c51c59aa",
       "version_major": 2,
       "version_minor": 0
      },
      "text/plain": [
       "Predicting: 0it [00:00, ?it/s]"
      ]
     },
     "metadata": {},
     "output_type": "display_data"
    },
    {
     "data": {
      "application/vnd.jupyter.widget-view+json": {
       "model_id": "a1fa690af2fe439292cee027add3ea77",
       "version_major": 2,
       "version_minor": 0
      },
      "text/plain": [
       "Predicting: 0it [00:00, ?it/s]"
      ]
     },
     "metadata": {},
     "output_type": "display_data"
    },
    {
     "data": {
      "application/vnd.jupyter.widget-view+json": {
       "model_id": "4e67678949494e938e2276117c2b473f",
       "version_major": 2,
       "version_minor": 0
      },
      "text/plain": [
       "Predicting: 0it [00:00, ?it/s]"
      ]
     },
     "metadata": {},
     "output_type": "display_data"
    },
    {
     "data": {
      "application/vnd.jupyter.widget-view+json": {
       "model_id": "923bc060dd7a4611b6f38c6a3efe7dfb",
       "version_major": 2,
       "version_minor": 0
      },
      "text/plain": [
       "Predicting: 0it [00:00, ?it/s]"
      ]
     },
     "metadata": {},
     "output_type": "display_data"
    },
    {
     "data": {
      "application/vnd.jupyter.widget-view+json": {
       "model_id": "db84acf236ed479b8a597973e33ab56c",
       "version_major": 2,
       "version_minor": 0
      },
      "text/plain": [
       "Predicting: 0it [00:00, ?it/s]"
      ]
     },
     "metadata": {},
     "output_type": "display_data"
    },
    {
     "data": {
      "application/vnd.jupyter.widget-view+json": {
       "model_id": "278d98c0a72e491eb6dc334b9e4fb399",
       "version_major": 2,
       "version_minor": 0
      },
      "text/plain": [
       "Predicting: 0it [00:00, ?it/s]"
      ]
     },
     "metadata": {},
     "output_type": "display_data"
    },
    {
     "data": {
      "application/vnd.jupyter.widget-view+json": {
       "model_id": "4a7e1673eebb4cc18f917db4946855b0",
       "version_major": 2,
       "version_minor": 0
      },
      "text/plain": [
       "Predicting: 0it [00:00, ?it/s]"
      ]
     },
     "metadata": {},
     "output_type": "display_data"
    },
    {
     "data": {
      "application/vnd.jupyter.widget-view+json": {
       "model_id": "9719572f90f14f5e90cf2c35c101336f",
       "version_major": 2,
       "version_minor": 0
      },
      "text/plain": [
       "Predicting: 0it [00:00, ?it/s]"
      ]
     },
     "metadata": {},
     "output_type": "display_data"
    },
    {
     "data": {
      "application/vnd.jupyter.widget-view+json": {
       "model_id": "474f30e975454adeb61b74b968f861b3",
       "version_major": 2,
       "version_minor": 0
      },
      "text/plain": [
       "Predicting: 0it [00:00, ?it/s]"
      ]
     },
     "metadata": {},
     "output_type": "display_data"
    },
    {
     "data": {
      "application/vnd.jupyter.widget-view+json": {
       "model_id": "b32afff66d664d26a078a7b6b3b0753d",
       "version_major": 2,
       "version_minor": 0
      },
      "text/plain": [
       "Predicting: 0it [00:00, ?it/s]"
      ]
     },
     "metadata": {},
     "output_type": "display_data"
    },
    {
     "data": {
      "application/vnd.jupyter.widget-view+json": {
       "model_id": "f738bf9390eb48df8e2f2b3e0799cc00",
       "version_major": 2,
       "version_minor": 0
      },
      "text/plain": [
       "Predicting: 0it [00:00, ?it/s]"
      ]
     },
     "metadata": {},
     "output_type": "display_data"
    },
    {
     "data": {
      "application/vnd.jupyter.widget-view+json": {
       "model_id": "5434889803e548029ebcc191a36fd4bf",
       "version_major": 2,
       "version_minor": 0
      },
      "text/plain": [
       "Predicting: 0it [00:00, ?it/s]"
      ]
     },
     "metadata": {},
     "output_type": "display_data"
    },
    {
     "data": {
      "application/vnd.jupyter.widget-view+json": {
       "model_id": "5822f15f212c427d9de0e04f77b0f88b",
       "version_major": 2,
       "version_minor": 0
      },
      "text/plain": [
       "Predicting: 0it [00:00, ?it/s]"
      ]
     },
     "metadata": {},
     "output_type": "display_data"
    },
    {
     "data": {
      "application/vnd.jupyter.widget-view+json": {
       "model_id": "f977ef60878a41818543fe6cddef91dc",
       "version_major": 2,
       "version_minor": 0
      },
      "text/plain": [
       "Predicting: 0it [00:00, ?it/s]"
      ]
     },
     "metadata": {},
     "output_type": "display_data"
    },
    {
     "data": {
      "application/vnd.jupyter.widget-view+json": {
       "model_id": "536d1762b0ae433dbf85772b06a9cb8d",
       "version_major": 2,
       "version_minor": 0
      },
      "text/plain": [
       "Predicting: 0it [00:00, ?it/s]"
      ]
     },
     "metadata": {},
     "output_type": "display_data"
    },
    {
     "data": {
      "application/vnd.jupyter.widget-view+json": {
       "model_id": "e6434644857d466b9faf128d90a4fdf0",
       "version_major": 2,
       "version_minor": 0
      },
      "text/plain": [
       "Predicting: 0it [00:00, ?it/s]"
      ]
     },
     "metadata": {},
     "output_type": "display_data"
    },
    {
     "data": {
      "application/vnd.jupyter.widget-view+json": {
       "model_id": "a2cb733664ea44f78c10a04f0c7aaeca",
       "version_major": 2,
       "version_minor": 0
      },
      "text/plain": [
       "Predicting: 0it [00:00, ?it/s]"
      ]
     },
     "metadata": {},
     "output_type": "display_data"
    },
    {
     "data": {
      "application/vnd.jupyter.widget-view+json": {
       "model_id": "a8e845ef787540c6b6d6a3ec7322763a",
       "version_major": 2,
       "version_minor": 0
      },
      "text/plain": [
       "Predicting: 0it [00:00, ?it/s]"
      ]
     },
     "metadata": {},
     "output_type": "display_data"
    },
    {
     "data": {
      "application/vnd.jupyter.widget-view+json": {
       "model_id": "c99459b451664623a0b28ead0374fb46",
       "version_major": 2,
       "version_minor": 0
      },
      "text/plain": [
       "Predicting: 0it [00:00, ?it/s]"
      ]
     },
     "metadata": {},
     "output_type": "display_data"
    },
    {
     "data": {
      "application/vnd.jupyter.widget-view+json": {
       "model_id": "aa03d68dd8f8411ca3d18ea6e70977f3",
       "version_major": 2,
       "version_minor": 0
      },
      "text/plain": [
       "Predicting: 0it [00:00, ?it/s]"
      ]
     },
     "metadata": {},
     "output_type": "display_data"
    },
    {
     "data": {
      "application/vnd.jupyter.widget-view+json": {
       "model_id": "a9b8d2f6887e40258c1e1fc03a2f7dab",
       "version_major": 2,
       "version_minor": 0
      },
      "text/plain": [
       "Predicting: 0it [00:00, ?it/s]"
      ]
     },
     "metadata": {},
     "output_type": "display_data"
    },
    {
     "data": {
      "application/vnd.jupyter.widget-view+json": {
       "model_id": "d1ec7c34a9e44436a0e3d31e35799eb4",
       "version_major": 2,
       "version_minor": 0
      },
      "text/plain": [
       "Predicting: 0it [00:00, ?it/s]"
      ]
     },
     "metadata": {},
     "output_type": "display_data"
    },
    {
     "data": {
      "application/vnd.jupyter.widget-view+json": {
       "model_id": "8788de1c1b834121a866a5395415f44b",
       "version_major": 2,
       "version_minor": 0
      },
      "text/plain": [
       "Predicting: 0it [00:00, ?it/s]"
      ]
     },
     "metadata": {},
     "output_type": "display_data"
    }
   ],
   "source": [
    "# Inverse transformation of time-series data\n",
    "\n",
    "for location in range(df['location'].max()+1):\n",
    "    scaler_co2.fit_transform(TimeSeries.from_dataframe(df1.pivot(columns='location',values='co2')[[location]].reset_index().rename_axis(None, axis=1),time_col='date'))\n",
    "    if location == 0:\n",
    "        predictions = scaler_co2.inverse_transform(model.predict(n=12,series=location_list_transf[location])).pd_dataframe()\n",
    "    else:\n",
    "        predictions[str(location)] = scaler_co2.inverse_transform(model.predict(n=12,series=location_list_transf[location])).pd_dataframe()"
   ]
  },
  {
   "cell_type": "code",
   "execution_count": 45,
   "metadata": {},
   "outputs": [
    {
     "data": {
      "text/html": [
       "<div>\n",
       "<style scoped>\n",
       "    .dataframe tbody tr th:only-of-type {\n",
       "        vertical-align: middle;\n",
       "    }\n",
       "\n",
       "    .dataframe tbody tr th {\n",
       "        vertical-align: top;\n",
       "    }\n",
       "\n",
       "    .dataframe thead th {\n",
       "        text-align: right;\n",
       "    }\n",
       "</style>\n",
       "<table border=\"1\" class=\"dataframe\">\n",
       "  <thead>\n",
       "    <tr style=\"text-align: right;\">\n",
       "      <th>component</th>\n",
       "      <th>0</th>\n",
       "      <th>1</th>\n",
       "      <th>2</th>\n",
       "      <th>3</th>\n",
       "      <th>4</th>\n",
       "      <th>5</th>\n",
       "      <th>6</th>\n",
       "      <th>7</th>\n",
       "      <th>8</th>\n",
       "      <th>9</th>\n",
       "      <th>...</th>\n",
       "      <th>139</th>\n",
       "      <th>140</th>\n",
       "      <th>141</th>\n",
       "      <th>142</th>\n",
       "      <th>143</th>\n",
       "      <th>144</th>\n",
       "      <th>145</th>\n",
       "      <th>146</th>\n",
       "      <th>147</th>\n",
       "      <th>148</th>\n",
       "    </tr>\n",
       "    <tr>\n",
       "      <th>date</th>\n",
       "      <th></th>\n",
       "      <th></th>\n",
       "      <th></th>\n",
       "      <th></th>\n",
       "      <th></th>\n",
       "      <th></th>\n",
       "      <th></th>\n",
       "      <th></th>\n",
       "      <th></th>\n",
       "      <th></th>\n",
       "      <th></th>\n",
       "      <th></th>\n",
       "      <th></th>\n",
       "      <th></th>\n",
       "      <th></th>\n",
       "      <th></th>\n",
       "      <th></th>\n",
       "      <th></th>\n",
       "      <th></th>\n",
       "      <th></th>\n",
       "      <th></th>\n",
       "    </tr>\n",
       "  </thead>\n",
       "  <tbody>\n",
       "    <tr>\n",
       "      <th>2020-01-01</th>\n",
       "      <td>5.658098</td>\n",
       "      <td>5.062997</td>\n",
       "      <td>12.213481</td>\n",
       "      <td>6.168030</td>\n",
       "      <td>5.778757</td>\n",
       "      <td>8.012286</td>\n",
       "      <td>5.287026</td>\n",
       "      <td>6.075351</td>\n",
       "      <td>2.029361</td>\n",
       "      <td>15.469808</td>\n",
       "      <td>...</td>\n",
       "      <td>12.627400</td>\n",
       "      <td>5.296569</td>\n",
       "      <td>5.448915</td>\n",
       "      <td>6.018748</td>\n",
       "      <td>9.731688</td>\n",
       "      <td>7.527030</td>\n",
       "      <td>5.880069</td>\n",
       "      <td>4.085052</td>\n",
       "      <td>8.011942</td>\n",
       "      <td>9.539513</td>\n",
       "    </tr>\n",
       "    <tr>\n",
       "      <th>2020-02-01</th>\n",
       "      <td>5.443405</td>\n",
       "      <td>4.345372</td>\n",
       "      <td>10.440297</td>\n",
       "      <td>5.287899</td>\n",
       "      <td>4.942375</td>\n",
       "      <td>7.332277</td>\n",
       "      <td>4.533532</td>\n",
       "      <td>5.210137</td>\n",
       "      <td>2.128103</td>\n",
       "      <td>13.259288</td>\n",
       "      <td>...</td>\n",
       "      <td>10.843094</td>\n",
       "      <td>4.539025</td>\n",
       "      <td>4.668463</td>\n",
       "      <td>5.157914</td>\n",
       "      <td>8.339808</td>\n",
       "      <td>6.450472</td>\n",
       "      <td>5.903692</td>\n",
       "      <td>3.786427</td>\n",
       "      <td>7.360987</td>\n",
       "      <td>8.853570</td>\n",
       "    </tr>\n",
       "    <tr>\n",
       "      <th>2020-03-01</th>\n",
       "      <td>5.087947</td>\n",
       "      <td>4.261081</td>\n",
       "      <td>10.238750</td>\n",
       "      <td>5.189718</td>\n",
       "      <td>4.861731</td>\n",
       "      <td>6.442538</td>\n",
       "      <td>4.435293</td>\n",
       "      <td>5.110269</td>\n",
       "      <td>1.948161</td>\n",
       "      <td>12.956982</td>\n",
       "      <td>...</td>\n",
       "      <td>10.555189</td>\n",
       "      <td>4.429282</td>\n",
       "      <td>4.556059</td>\n",
       "      <td>5.033208</td>\n",
       "      <td>8.138172</td>\n",
       "      <td>6.294515</td>\n",
       "      <td>5.903502</td>\n",
       "      <td>3.815700</td>\n",
       "      <td>7.441686</td>\n",
       "      <td>8.874344</td>\n",
       "    </tr>\n",
       "    <tr>\n",
       "      <th>2020-04-01</th>\n",
       "      <td>4.771526</td>\n",
       "      <td>3.862153</td>\n",
       "      <td>9.281193</td>\n",
       "      <td>4.705782</td>\n",
       "      <td>4.405781</td>\n",
       "      <td>6.251610</td>\n",
       "      <td>4.030179</td>\n",
       "      <td>4.635135</td>\n",
       "      <td>1.805631</td>\n",
       "      <td>11.780393</td>\n",
       "      <td>...</td>\n",
       "      <td>9.623825</td>\n",
       "      <td>4.030463</td>\n",
       "      <td>4.144762</td>\n",
       "      <td>4.580010</td>\n",
       "      <td>7.405398</td>\n",
       "      <td>5.727748</td>\n",
       "      <td>5.889614</td>\n",
       "      <td>3.255331</td>\n",
       "      <td>6.346014</td>\n",
       "      <td>7.575665</td>\n",
       "    </tr>\n",
       "    <tr>\n",
       "      <th>2020-05-01</th>\n",
       "      <td>4.268914</td>\n",
       "      <td>4.281680</td>\n",
       "      <td>10.325798</td>\n",
       "      <td>5.218614</td>\n",
       "      <td>4.876879</td>\n",
       "      <td>5.540140</td>\n",
       "      <td>4.480806</td>\n",
       "      <td>5.148161</td>\n",
       "      <td>1.714446</td>\n",
       "      <td>13.082461</td>\n",
       "      <td>...</td>\n",
       "      <td>10.653256</td>\n",
       "      <td>4.473477</td>\n",
       "      <td>4.600576</td>\n",
       "      <td>5.083428</td>\n",
       "      <td>8.219373</td>\n",
       "      <td>6.357321</td>\n",
       "      <td>5.862139</td>\n",
       "      <td>3.102566</td>\n",
       "      <td>5.982933</td>\n",
       "      <td>7.211506</td>\n",
       "    </tr>\n",
       "  </tbody>\n",
       "</table>\n",
       "<p>5 rows × 149 columns</p>\n",
       "</div>"
      ],
      "text/plain": [
       "component          0         1          2         3         4         5  \\\n",
       "date                                                                      \n",
       "2020-01-01  5.658098  5.062997  12.213481  6.168030  5.778757  8.012286   \n",
       "2020-02-01  5.443405  4.345372  10.440297  5.287899  4.942375  7.332277   \n",
       "2020-03-01  5.087947  4.261081  10.238750  5.189718  4.861731  6.442538   \n",
       "2020-04-01  4.771526  3.862153   9.281193  4.705782  4.405781  6.251610   \n",
       "2020-05-01  4.268914  4.281680  10.325798  5.218614  4.876879  5.540140   \n",
       "\n",
       "component          6         7         8          9  ...        139       140  \\\n",
       "date                                                 ...                        \n",
       "2020-01-01  5.287026  6.075351  2.029361  15.469808  ...  12.627400  5.296569   \n",
       "2020-02-01  4.533532  5.210137  2.128103  13.259288  ...  10.843094  4.539025   \n",
       "2020-03-01  4.435293  5.110269  1.948161  12.956982  ...  10.555189  4.429282   \n",
       "2020-04-01  4.030179  4.635135  1.805631  11.780393  ...   9.623825  4.030463   \n",
       "2020-05-01  4.480806  5.148161  1.714446  13.082461  ...  10.653256  4.473477   \n",
       "\n",
       "component        141       142       143       144       145       146  \\\n",
       "date                                                                     \n",
       "2020-01-01  5.448915  6.018748  9.731688  7.527030  5.880069  4.085052   \n",
       "2020-02-01  4.668463  5.157914  8.339808  6.450472  5.903692  3.786427   \n",
       "2020-03-01  4.556059  5.033208  8.138172  6.294515  5.903502  3.815700   \n",
       "2020-04-01  4.144762  4.580010  7.405398  5.727748  5.889614  3.255331   \n",
       "2020-05-01  4.600576  5.083428  8.219373  6.357321  5.862139  3.102566   \n",
       "\n",
       "component        147       148  \n",
       "date                            \n",
       "2020-01-01  8.011942  9.539513  \n",
       "2020-02-01  7.360987  8.853570  \n",
       "2020-03-01  7.441686  8.874344  \n",
       "2020-04-01  6.346014  7.575665  \n",
       "2020-05-01  5.982933  7.211506  \n",
       "\n",
       "[5 rows x 149 columns]"
      ]
     },
     "execution_count": 45,
     "metadata": {},
     "output_type": "execute_result"
    }
   ],
   "source": [
    "predictions.head()"
   ]
  },
  {
   "cell_type": "code",
   "execution_count": 46,
   "metadata": {},
   "outputs": [],
   "source": [
    "predictions = predictions.melt(value_vars=predictions.iloc[:,:].columns,var_name='location',value_name='co2',ignore_index=False)"
   ]
  },
  {
   "cell_type": "code",
   "execution_count": 47,
   "metadata": {},
   "outputs": [],
   "source": [
    "predictions['location'] = predictions['location'].astype(int)"
   ]
  },
  {
   "cell_type": "code",
   "execution_count": 48,
   "metadata": {},
   "outputs": [
    {
     "data": {
      "text/html": [
       "<div>\n",
       "<style scoped>\n",
       "    .dataframe tbody tr th:only-of-type {\n",
       "        vertical-align: middle;\n",
       "    }\n",
       "\n",
       "    .dataframe tbody tr th {\n",
       "        vertical-align: top;\n",
       "    }\n",
       "\n",
       "    .dataframe thead th {\n",
       "        text-align: right;\n",
       "    }\n",
       "</style>\n",
       "<table border=\"1\" class=\"dataframe\">\n",
       "  <thead>\n",
       "    <tr style=\"text-align: right;\">\n",
       "      <th></th>\n",
       "      <th>location</th>\n",
       "      <th>co2</th>\n",
       "    </tr>\n",
       "    <tr>\n",
       "      <th>date</th>\n",
       "      <th></th>\n",
       "      <th></th>\n",
       "    </tr>\n",
       "  </thead>\n",
       "  <tbody>\n",
       "    <tr>\n",
       "      <th>2020-01-01</th>\n",
       "      <td>0</td>\n",
       "      <td>5.658098</td>\n",
       "    </tr>\n",
       "    <tr>\n",
       "      <th>2020-02-01</th>\n",
       "      <td>0</td>\n",
       "      <td>5.443405</td>\n",
       "    </tr>\n",
       "    <tr>\n",
       "      <th>2020-03-01</th>\n",
       "      <td>0</td>\n",
       "      <td>5.087947</td>\n",
       "    </tr>\n",
       "    <tr>\n",
       "      <th>2020-04-01</th>\n",
       "      <td>0</td>\n",
       "      <td>4.771526</td>\n",
       "    </tr>\n",
       "    <tr>\n",
       "      <th>2020-05-01</th>\n",
       "      <td>0</td>\n",
       "      <td>4.268914</td>\n",
       "    </tr>\n",
       "  </tbody>\n",
       "</table>\n",
       "</div>"
      ],
      "text/plain": [
       "            location       co2\n",
       "date                          \n",
       "2020-01-01         0  5.658098\n",
       "2020-02-01         0  5.443405\n",
       "2020-03-01         0  5.087947\n",
       "2020-04-01         0  4.771526\n",
       "2020-05-01         0  4.268914"
      ]
     },
     "execution_count": 48,
     "metadata": {},
     "output_type": "execute_result"
    }
   ],
   "source": [
    "predictions.head()"
   ]
  },
  {
   "cell_type": "code",
   "execution_count": 49,
   "metadata": {},
   "outputs": [
    {
     "data": {
      "image/png": "[encoded data removed]",
      "text/plain": [
       "<Figure size 864x432 with 1 Axes>"
      ]
     },
     "metadata": {
      "needs_background": "light"
     },
     "output_type": "display_data"
    }
   ],
   "source": [
    "\n",
    "location_list[30].plot(label='Location 30',color='blue')\n",
    "predictions[predictions['location']==30]['co2'].plot(label='Predictions location 30',color='black')\n",
    "plt.title('Predictions in Location 30 - Data NOT SCALED');\n",
    "plt.legend();"
   ]
  },
  {
   "cell_type": "markdown",
   "metadata": {},
   "source": [
    "### Forecasting with TEST dataset\n",
    "\n",
    "- Import Test Dataset\n",
    "- Feature Engineering on test dataset\n",
    "- Match encoded location from df on test dataset\n",
    "- Join predictions based on location and date\n",
    "- Export Resuts"
   ]
  },
  {
   "cell_type": "code",
   "execution_count": 50,
   "metadata": {},
   "outputs": [],
   "source": [
    "test_raw = pd.read_csv('test.csv',index_col=False)"
   ]
  },
  {
   "cell_type": "code",
   "execution_count": 51,
   "metadata": {},
   "outputs": [],
   "source": [
    "test = test_raw.copy()"
   ]
  },
  {
   "cell_type": "code",
   "execution_count": 52,
   "metadata": {},
   "outputs": [],
   "source": [
    "# Test dataset Feature Engineering\n",
    "test['day'] = 1\n",
    "test['month'] = test['month']+ 1\n",
    "test['date'] = pd.to_datetime(test[['year','month','day']])\n",
    "test['lat_long'] = list(zip(test['latitude'], test['longitude']))"
   ]
  },
  {
   "cell_type": "code",
   "execution_count": 53,
   "metadata": {},
   "outputs": [
    {
     "data": {
      "text/html": [
       "<div>\n",
       "<style scoped>\n",
       "    .dataframe tbody tr th:only-of-type {\n",
       "        vertical-align: middle;\n",
       "    }\n",
       "\n",
       "    .dataframe tbody tr th {\n",
       "        vertical-align: top;\n",
       "    }\n",
       "\n",
       "    .dataframe thead th {\n",
       "        text-align: right;\n",
       "    }\n",
       "</style>\n",
       "<table border=\"1\" class=\"dataframe\">\n",
       "  <thead>\n",
       "    <tr style=\"text-align: right;\">\n",
       "      <th></th>\n",
       "      <th>Unnamed: 0</th>\n",
       "      <th>month</th>\n",
       "      <th>year</th>\n",
       "      <th>latitude</th>\n",
       "      <th>longitude</th>\n",
       "      <th>day</th>\n",
       "      <th>date</th>\n",
       "      <th>lat_long</th>\n",
       "    </tr>\n",
       "  </thead>\n",
       "  <tbody>\n",
       "    <tr>\n",
       "      <th>0</th>\n",
       "      <td>3970411</td>\n",
       "      <td>1</td>\n",
       "      <td>2020</td>\n",
       "      <td>33.3</td>\n",
       "      <td>-112.8</td>\n",
       "      <td>1</td>\n",
       "      <td>2020-01-01</td>\n",
       "      <td>(33.3, -112.8)</td>\n",
       "    </tr>\n",
       "    <tr>\n",
       "      <th>1</th>\n",
       "      <td>3970420</td>\n",
       "      <td>1</td>\n",
       "      <td>2020</td>\n",
       "      <td>39.5</td>\n",
       "      <td>-112.5</td>\n",
       "      <td>1</td>\n",
       "      <td>2020-01-01</td>\n",
       "      <td>(39.5, -112.5)</td>\n",
       "    </tr>\n",
       "  </tbody>\n",
       "</table>\n",
       "</div>"
      ],
      "text/plain": [
       "   Unnamed: 0  month  year  latitude  longitude  day       date  \\\n",
       "0     3970411      1  2020      33.3     -112.8    1 2020-01-01   \n",
       "1     3970420      1  2020      39.5     -112.5    1 2020-01-01   \n",
       "\n",
       "         lat_long  \n",
       "0  (33.3, -112.8)  \n",
       "1  (39.5, -112.5)  "
      ]
     },
     "execution_count": 53,
     "metadata": {},
     "output_type": "execute_result"
    }
   ],
   "source": [
    "test.head(2)"
   ]
  },
  {
   "cell_type": "code",
   "execution_count": 54,
   "metadata": {},
   "outputs": [],
   "source": [
    "test.drop(labels=['Unnamed: 0','month','year','day','longitude','latitude'],axis=1,inplace=True)"
   ]
  },
  {
   "cell_type": "code",
   "execution_count": 55,
   "metadata": {},
   "outputs": [],
   "source": [
    "query = []\n",
    "for coor in range(len(test)):\n",
    "    query.append(df[df['lat_long'] == test['lat_long'][coor]]['location'].unique()[0])\n",
    "test['location'] = query"
   ]
  },
  {
   "cell_type": "code",
   "execution_count": 56,
   "metadata": {},
   "outputs": [],
   "source": [
    "results = pd.merge(left=test, right=predictions, how='left', on=['date','location'])"
   ]
  },
  {
   "cell_type": "code",
   "execution_count": 57,
   "metadata": {},
   "outputs": [],
   "source": [
    "# Export Results (uncomment lines below to export results)\n",
    "# results = round(results['co2'],4)\n",
    "# results.to_csv('Submission_Antonio-Aamer.csv',index=False)"
   ]
  },
  {
   "cell_type": "markdown",
   "metadata": {},
   "source": [
    "### END\n",
    "- Authors: Antonio Dagnino Mendez, Aamer Kazi\n",
    "- Date: May-2022"
   ]
  }
 ],
 "metadata": {
  "kernelspec": {
   "display_name": "Python 3",
   "language": "python",
   "name": "python3"
  },
  "language_info": {
   "codemirror_mode": {
    "name": "ipython",
    "version": 3
   },
   "file_extension": ".py",
   "mimetype": "text/x-python",
   "name": "python",
   "nbconvert_exporter": "python",
   "pygments_lexer": "ipython3",
   "version": "3.8.5"
  }
 },
 "nbformat": 4,
 "nbformat_minor": 4
}
